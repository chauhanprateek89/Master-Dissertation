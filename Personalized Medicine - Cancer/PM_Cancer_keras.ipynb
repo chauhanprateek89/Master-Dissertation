{
 "cells": [
  {
   "cell_type": "markdown",
   "metadata": {},
   "source": [
    "# Keras"
   ]
  },
  {
   "cell_type": "code",
   "execution_count": 57,
   "metadata": {},
   "outputs": [],
   "source": [
    "import pandas as pd\n",
    "import numpy as np\n",
    "from sklearn import *\n",
    "from sklearn.feature_extraction.text import TfidfVectorizer\n",
    "\n",
    "from keras.models import Sequential\n",
    "from keras.layers import Dense\n",
    "from keras.wrappers.scikit_learn import KerasClassifier\n",
    "from keras.utils import np_utils\n",
    "from keras.layers import Dropout\n",
    "\n",
    "from keras.utils import np_utils\n",
    "from sklearn.preprocessing import LabelEncoder\n",
    "\n",
    "import matplotlib.pyplot as plt\n",
    "%matplotlib inline"
   ]
  },
  {
   "cell_type": "code",
   "execution_count": 78,
   "metadata": {},
   "outputs": [],
   "source": [
    "train_variant = pd.read_csv(\"training_variants\")\n",
    "test_variant = pd.read_csv(\"test_variants\")\n",
    "train_text = pd.read_csv(\"training_text\", sep=\"\\|\\|\", engine='python', header=None, skiprows=1, names=[\"ID\",\"Text\"])\n",
    "test_text = pd.read_csv(\"test_text\", sep=\"\\|\\|\", engine='python', header=None, skiprows=1, names=[\"ID\",\"Text\"])"
   ]
  },
  {
   "cell_type": "code",
   "execution_count": 79,
   "metadata": {
    "collapsed": true
   },
   "outputs": [],
   "source": [
    "train = pd.merge(train_variant, train_text, how='left', on='ID')\n",
    "train_y = train['Class'].values\n",
    "train_x = train.drop('Class', axis=1)"
   ]
  },
  {
   "cell_type": "code",
   "execution_count": 5,
   "metadata": {
    "collapsed": true
   },
   "outputs": [],
   "source": [
    "test_x = pd.merge(test_variant, test_text, how='left', on='ID')\n",
    "test_index = test_x['ID'].values"
   ]
  },
  {
   "cell_type": "code",
   "execution_count": 6,
   "metadata": {
    "collapsed": true
   },
   "outputs": [],
   "source": [
    "all_data = np.concatenate((train_x, test_x), axis=0)\n",
    "all_data = pd.DataFrame(all_data)\n",
    "all_data.columns = [\"ID\", \"Gene\", \"Variation\", \"Text\"]"
   ]
  },
  {
   "cell_type": "code",
   "execution_count": 7,
   "metadata": {},
   "outputs": [
    {
     "data": {
      "text/html": [
       "<div>\n",
       "<table border=\"1\" class=\"dataframe\">\n",
       "  <thead>\n",
       "    <tr style=\"text-align: right;\">\n",
       "      <th></th>\n",
       "      <th>ID</th>\n",
       "      <th>Gene</th>\n",
       "      <th>Variation</th>\n",
       "      <th>Text</th>\n",
       "    </tr>\n",
       "  </thead>\n",
       "  <tbody>\n",
       "    <tr>\n",
       "      <th>8984</th>\n",
       "      <td>5663</td>\n",
       "      <td>SLC46A1</td>\n",
       "      <td>R113S</td>\n",
       "      <td>The realization in the late 1970s that RAS har...</td>\n",
       "    </tr>\n",
       "    <tr>\n",
       "      <th>8985</th>\n",
       "      <td>5664</td>\n",
       "      <td>FOXC1</td>\n",
       "      <td>L130F</td>\n",
       "      <td>Hemizygous deletions are common molecular abno...</td>\n",
       "    </tr>\n",
       "    <tr>\n",
       "      <th>8986</th>\n",
       "      <td>5665</td>\n",
       "      <td>GSS</td>\n",
       "      <td>R267W</td>\n",
       "      <td>All most R267W of has with to SMARTpool invest...</td>\n",
       "    </tr>\n",
       "    <tr>\n",
       "      <th>8987</th>\n",
       "      <td>5666</td>\n",
       "      <td>CTSK</td>\n",
       "      <td>G79E</td>\n",
       "      <td>Abstract Blood samples from 125 unrelated fami...</td>\n",
       "    </tr>\n",
       "    <tr>\n",
       "      <th>8988</th>\n",
       "      <td>5667</td>\n",
       "      <td>DFNB59</td>\n",
       "      <td>T54I</td>\n",
       "      <td>Loss of DNA mismatch repair (MMR) in humans, m...</td>\n",
       "    </tr>\n",
       "  </tbody>\n",
       "</table>\n",
       "</div>"
      ],
      "text/plain": [
       "        ID     Gene Variation  \\\n",
       "8984  5663  SLC46A1     R113S   \n",
       "8985  5664    FOXC1     L130F   \n",
       "8986  5665      GSS     R267W   \n",
       "8987  5666     CTSK      G79E   \n",
       "8988  5667   DFNB59      T54I   \n",
       "\n",
       "                                                   Text  \n",
       "8984  The realization in the late 1970s that RAS har...  \n",
       "8985  Hemizygous deletions are common molecular abno...  \n",
       "8986  All most R267W of has with to SMARTpool invest...  \n",
       "8987  Abstract Blood samples from 125 unrelated fami...  \n",
       "8988  Loss of DNA mismatch repair (MMR) in humans, m...  "
      ]
     },
     "execution_count": 7,
     "metadata": {},
     "output_type": "execute_result"
    }
   ],
   "source": [
    "all_data.tail()"
   ]
  },
  {
   "cell_type": "code",
   "execution_count": 8,
   "metadata": {
    "scrolled": true
   },
   "outputs": [
    {
     "data": {
      "text/plain": [
       "0    Cyclin-dependent kinases (CDKs) regulate a var...\n",
       "1     Abstract Background  Non-small cell lung canc...\n",
       "2     Abstract Background  Non-small cell lung canc...\n",
       "3    Recent evidence has demonstrated that acquired...\n",
       "4    Oncogenic mutations in the monomeric Casitas B...\n",
       "Name: Text, dtype: object"
      ]
     },
     "execution_count": 8,
     "metadata": {},
     "output_type": "execute_result"
    }
   ],
   "source": [
    "sentences = all_data['Text']\n",
    "sentences.head()"
   ]
  },
  {
   "cell_type": "code",
   "execution_count": 9,
   "metadata": {
    "collapsed": true
   },
   "outputs": [],
   "source": [
    "vect = TfidfVectorizer(stop_words='english')\n",
    "sentence_vectors = vect.fit_transform(sentences)"
   ]
  },
  {
   "cell_type": "code",
   "execution_count": 10,
   "metadata": {
    "collapsed": true
   },
   "outputs": [],
   "source": [
    "from sklearn.decomposition import TruncatedSVD\n",
    "svd = TruncatedSVD(200)\n",
    "sentence_vectors = svd.fit_transform(sentence_vectors)"
   ]
  },
  {
   "cell_type": "code",
   "execution_count": 50,
   "metadata": {
    "collapsed": true
   },
   "outputs": [],
   "source": [
    "def baseline_model():\n",
    "    model = Sequential()\n",
    "    model.add(Dense(512, input_dim=200, init='normal', activation='relu'))\n",
    "    model.add(Dropout(0.2))\n",
    "    model.add(Dense(512, init='normal', activation='relu'))\n",
    "    model.add(Dropout(0.2))\n",
    "    model.add(Dense(512, init='normal', activation='relu'))\n",
    "    model.add(Dropout(0.2))\n",
    "    model.add(Dense(512, init='normal', activation='relu'))\n",
    "    model.add(Dense(9, init='normal', activation=\"softmax\"))\n",
    "    model.compile(loss='categorical_crossentropy', optimizer='adam', metrics=['accuracy'])\n",
    "    return model"
   ]
  },
  {
   "cell_type": "code",
   "execution_count": 51,
   "metadata": {
    "collapsed": true
   },
   "outputs": [],
   "source": [
    "encoder = LabelEncoder()\n",
    "encoder.fit(train_y)\n",
    "encoded_y = encoder.transform(train_y)"
   ]
  },
  {
   "cell_type": "code",
   "execution_count": 52,
   "metadata": {},
   "outputs": [
    {
     "name": "stdout",
     "output_type": "stream",
     "text": [
      "(3321, 9)\n"
     ]
    }
   ],
   "source": [
    "dummy_y = np_utils.to_categorical(encoded_y)\n",
    "print(dummy_y.shape)"
   ]
  },
  {
   "cell_type": "code",
   "execution_count": 66,
   "metadata": {
    "scrolled": true
   },
   "outputs": [
    {
     "name": "stderr",
     "output_type": "stream",
     "text": [
      "F:\\Anaconda3\\envs\\tensorflow-gpu\\lib\\site-packages\\ipykernel_launcher.py:3: UserWarning: Update your `Dense` call to the Keras 2 API: `Dense(512, activation=\"relu\", input_dim=200, kernel_initializer=\"normal\")`\n",
      "  This is separate from the ipykernel package so we can avoid doing imports until\n",
      "F:\\Anaconda3\\envs\\tensorflow-gpu\\lib\\site-packages\\ipykernel_launcher.py:5: UserWarning: Update your `Dense` call to the Keras 2 API: `Dense(512, activation=\"relu\", kernel_initializer=\"normal\")`\n",
      "  \"\"\"\n",
      "F:\\Anaconda3\\envs\\tensorflow-gpu\\lib\\site-packages\\ipykernel_launcher.py:7: UserWarning: Update your `Dense` call to the Keras 2 API: `Dense(512, activation=\"relu\", kernel_initializer=\"normal\")`\n",
      "  import sys\n",
      "F:\\Anaconda3\\envs\\tensorflow-gpu\\lib\\site-packages\\ipykernel_launcher.py:9: UserWarning: Update your `Dense` call to the Keras 2 API: `Dense(512, activation=\"relu\", kernel_initializer=\"normal\")`\n",
      "  if __name__ == '__main__':\n",
      "F:\\Anaconda3\\envs\\tensorflow-gpu\\lib\\site-packages\\ipykernel_launcher.py:10: UserWarning: Update your `Dense` call to the Keras 2 API: `Dense(9, activation=\"softmax\", kernel_initializer=\"normal\")`\n",
      "  # Remove the CWD from sys.path while we load stuff.\n"
     ]
    },
    {
     "name": "stdout",
     "output_type": "stream",
     "text": [
      "Train on 3154 samples, validate on 167 samples\n",
      "Epoch 1/20\n",
      "3154/3154 [==============================] - 4s - loss: 1.5727 - acc: 0.4350 - val_loss: 1.6610 - val_acc: 0.3413\n",
      "Epoch 2/20\n",
      "3154/3154 [==============================] - 1s - loss: 1.1209 - acc: 0.5859 - val_loss: 1.4645 - val_acc: 0.5090\n",
      "Epoch 3/20\n",
      "3154/3154 [==============================] - 1s - loss: 0.9909 - acc: 0.6268 - val_loss: 1.5138 - val_acc: 0.4731\n",
      "Epoch 4/20\n",
      "3154/3154 [==============================] - 1s - loss: 0.9206 - acc: 0.6519 - val_loss: 1.5647 - val_acc: 0.4671\n",
      "Epoch 5/20\n",
      "3154/3154 [==============================] - 1s - loss: 0.8512 - acc: 0.6630 - val_loss: 1.6041 - val_acc: 0.4251\n",
      "Epoch 6/20\n",
      "3154/3154 [==============================] - 1s - loss: 0.8102 - acc: 0.6779 - val_loss: 1.6259 - val_acc: 0.4431\n",
      "Epoch 7/20\n",
      "3154/3154 [==============================] - 1s - loss: 0.7762 - acc: 0.6966 - val_loss: 1.5878 - val_acc: 0.4551\n",
      "Epoch 8/20\n",
      "3154/3154 [==============================] - 1s - loss: 0.7285 - acc: 0.7055 - val_loss: 1.7619 - val_acc: 0.45510\n",
      "Epoch 9/20\n",
      "3154/3154 [==============================] - 2s - loss: 0.7301 - acc: 0.7023 - val_loss: 1.8035 - val_acc: 0.4192\n",
      "Epoch 10/20\n",
      "3154/3154 [==============================] - 1s - loss: 0.6968 - acc: 0.7245 - val_loss: 1.7177 - val_acc: 0.3952\n",
      "Epoch 11/20\n",
      "3154/3154 [==============================] - 1s - loss: 0.6779 - acc: 0.7251 - val_loss: 1.8332 - val_acc: 0.4371\n",
      "Epoch 12/20\n",
      "3154/3154 [==============================] - 1s - loss: 0.6229 - acc: 0.7505 - val_loss: 1.9769 - val_acc: 0.3832\n",
      "Epoch 13/20\n",
      "3154/3154 [==============================] - 1s - loss: 0.6125 - acc: 0.7492 - val_loss: 2.2209 - val_acc: 0.4311\n",
      "Epoch 14/20\n",
      "3154/3154 [==============================] - 2s - loss: 0.6039 - acc: 0.7524 - val_loss: 1.9692 - val_acc: 0.3832\n",
      "Epoch 15/20\n",
      "3154/3154 [==============================] - 1s - loss: 0.5827 - acc: 0.7594 - val_loss: 2.1892 - val_acc: 0.3952\n",
      "Epoch 16/20\n",
      "3154/3154 [==============================] - 1s - loss: 0.5805 - acc: 0.7632 - val_loss: 2.3895 - val_acc: 0.4431\n",
      "Epoch 17/20\n",
      "3154/3154 [==============================] - 1s - loss: 0.5458 - acc: 0.7746 - val_loss: 2.4025 - val_acc: 0.4251\n",
      "Epoch 18/20\n",
      "3154/3154 [==============================] - 1s - loss: 0.5335 - acc: 0.7765 - val_loss: 2.5433 - val_acc: 0.4192\n",
      "Epoch 19/20\n",
      "3154/3154 [==============================] - 1s - loss: 0.5371 - acc: 0.7711 - val_loss: 2.6733 - val_acc: 0.4192\n",
      "Epoch 20/20\n",
      "3154/3154 [==============================] - 1s - loss: 0.5126 - acc: 0.7869 - val_loss: 2.6766 - val_acc: 0.4311\n"
     ]
    }
   ],
   "source": [
    "estimator = KerasClassifier(build_fn=baseline_model, epochs=20, batch_size=64)\n",
    "history = estimator.fit(sentence_vectors[0:3321], dummy_y, validation_split=0.05)"
   ]
  },
  {
   "cell_type": "code",
   "execution_count": null,
   "metadata": {
    "collapsed": true
   },
   "outputs": [],
   "source": [
    "from keras.utils import plot_model\n",
    "plot_model(model, to_file='model.png')"
   ]
  },
  {
   "cell_type": "code",
   "execution_count": 69,
   "metadata": {},
   "outputs": [
    {
     "name": "stdout",
     "output_type": "stream",
     "text": [
      "dict_keys(['val_acc', 'loss', 'val_loss', 'acc'])\n"
     ]
    }
   ],
   "source": [
    "print(history.history.keys())"
   ]
  },
  {
   "cell_type": "code",
   "execution_count": 70,
   "metadata": {},
   "outputs": [
    {
     "data": {
      "image/png": "[encoded data removed]",
      "text/plain": [
       "<matplotlib.figure.Figure at 0x1a6dc717358>"
      ]
     },
     "metadata": {},
     "output_type": "display_data"
    }
   ],
   "source": [
    "#accuracy of model - 20 epochs\n",
    "plt.plot(history.history['acc'])\n",
    "plt.plot(history.history['val_acc'])\n",
    "plt.title('model accuracy')\n",
    "plt.ylabel('accuracy')\n",
    "plt.xlabel('epoch')\n",
    "plt.legend(['train','test'], loc='upper left')\n",
    "plt.show()"
   ]
  },
  {
   "cell_type": "code",
   "execution_count": 71,
   "metadata": {},
   "outputs": [
    {
     "data": {
      "image/png": "[encoded data removed]",
      "text/plain": [
       "<matplotlib.figure.Figure at 0x1a6e0fa2828>"
      ]
     },
     "metadata": {},
     "output_type": "display_data"
    }
   ],
   "source": [
    "#accuracy of model - 150 epochs\n",
    "plt.plot(history.history['acc'])\n",
    "plt.plot(history.history['val_acc'])\n",
    "plt.title('model accuracy')\n",
    "plt.ylabel('accuracy')\n",
    "plt.xlabel('epoch')\n",
    "plt.legend(['train','test'], loc='upper left')\n",
    "plt.show()"
   ]
  },
  {
   "cell_type": "code",
   "execution_count": 72,
   "metadata": {},
   "outputs": [
    {
     "data": {
      "image/png": "[encoded data removed]",
      "text/plain": [
       "<matplotlib.figure.Figure at 0x1a6e2365dd8>"
      ]
     },
     "metadata": {},
     "output_type": "display_data"
    }
   ],
   "source": [
    "#loss of model - 20 epochs\n",
    "plt.plot(history.history['loss'])\n",
    "plt.plot(history.history['val_loss'])\n",
    "plt.title('model loss')\n",
    "plt.ylabel('loss')\n",
    "plt.xlabel('epoch')\n",
    "plt.legend(['train', 'test'], loc='upper left')\n",
    "plt.show()"
   ]
  },
  {
   "cell_type": "code",
   "execution_count": 73,
   "metadata": {},
   "outputs": [
    {
     "data": {
      "image/png": "[encoded data removed]",
      "text/plain": [
       "<matplotlib.figure.Figure at 0x1a6e23d2e10>"
      ]
     },
     "metadata": {},
     "output_type": "display_data"
    }
   ],
   "source": [
    "#loss of model - 150 epochs\n",
    "plt.plot(history.history['loss'])\n",
    "plt.plot(history.history['val_loss'])\n",
    "plt.title('model loss')\n",
    "plt.ylabel('loss')\n",
    "plt.xlabel('epoch')\n",
    "plt.legend(['train', 'test'], loc='upper left')\n",
    "plt.show()"
   ]
  },
  {
   "cell_type": "code",
   "execution_count": 74,
   "metadata": {},
   "outputs": [
    {
     "name": "stdout",
     "output_type": "stream",
     "text": [
      "5632/5668 [============================>.] - ETA: 0s"
     ]
    }
   ],
   "source": [
    "y_pred = estimator.predict_proba(sentence_vectors[3321:])"
   ]
  },
  {
   "cell_type": "code",
   "execution_count": 75,
   "metadata": {},
   "outputs": [
    {
     "data": {
      "text/html": [
       "<div>\n",
       "<table border=\"1\" class=\"dataframe\">\n",
       "  <thead>\n",
       "    <tr style=\"text-align: right;\">\n",
       "      <th></th>\n",
       "      <th>0</th>\n",
       "      <th>1</th>\n",
       "      <th>2</th>\n",
       "      <th>3</th>\n",
       "      <th>4</th>\n",
       "      <th>5</th>\n",
       "      <th>6</th>\n",
       "      <th>7</th>\n",
       "      <th>8</th>\n",
       "    </tr>\n",
       "  </thead>\n",
       "  <tbody>\n",
       "    <tr>\n",
       "      <th>0</th>\n",
       "      <td>0.000005</td>\n",
       "      <td>0.405908</td>\n",
       "      <td>0.000068</td>\n",
       "      <td>0.000025</td>\n",
       "      <td>0.000962</td>\n",
       "      <td>0.000083</td>\n",
       "      <td>0.592938</td>\n",
       "      <td>0.000009</td>\n",
       "      <td>5.466317e-07</td>\n",
       "    </tr>\n",
       "    <tr>\n",
       "      <th>1</th>\n",
       "      <td>0.026884</td>\n",
       "      <td>0.001179</td>\n",
       "      <td>0.095435</td>\n",
       "      <td>0.865196</td>\n",
       "      <td>0.001718</td>\n",
       "      <td>0.000743</td>\n",
       "      <td>0.008730</td>\n",
       "      <td>0.000005</td>\n",
       "      <td>1.095243e-04</td>\n",
       "    </tr>\n",
       "    <tr>\n",
       "      <th>2</th>\n",
       "      <td>0.034882</td>\n",
       "      <td>0.436250</td>\n",
       "      <td>0.009557</td>\n",
       "      <td>0.070684</td>\n",
       "      <td>0.099531</td>\n",
       "      <td>0.059637</td>\n",
       "      <td>0.273721</td>\n",
       "      <td>0.010297</td>\n",
       "      <td>5.442069e-03</td>\n",
       "    </tr>\n",
       "    <tr>\n",
       "      <th>3</th>\n",
       "      <td>0.000001</td>\n",
       "      <td>0.874475</td>\n",
       "      <td>0.000002</td>\n",
       "      <td>0.000002</td>\n",
       "      <td>0.000084</td>\n",
       "      <td>0.000058</td>\n",
       "      <td>0.125370</td>\n",
       "      <td>0.000008</td>\n",
       "      <td>3.203030e-08</td>\n",
       "    </tr>\n",
       "    <tr>\n",
       "      <th>4</th>\n",
       "      <td>0.045637</td>\n",
       "      <td>0.659034</td>\n",
       "      <td>0.000763</td>\n",
       "      <td>0.039706</td>\n",
       "      <td>0.009343</td>\n",
       "      <td>0.006214</td>\n",
       "      <td>0.090055</td>\n",
       "      <td>0.142800</td>\n",
       "      <td>6.447601e-03</td>\n",
       "    </tr>\n",
       "  </tbody>\n",
       "</table>\n",
       "</div>"
      ],
      "text/plain": [
       "          0         1         2         3         4         5         6  \\\n",
       "0  0.000005  0.405908  0.000068  0.000025  0.000962  0.000083  0.592938   \n",
       "1  0.026884  0.001179  0.095435  0.865196  0.001718  0.000743  0.008730   \n",
       "2  0.034882  0.436250  0.009557  0.070684  0.099531  0.059637  0.273721   \n",
       "3  0.000001  0.874475  0.000002  0.000002  0.000084  0.000058  0.125370   \n",
       "4  0.045637  0.659034  0.000763  0.039706  0.009343  0.006214  0.090055   \n",
       "\n",
       "          7             8  \n",
       "0  0.000009  5.466317e-07  \n",
       "1  0.000005  1.095243e-04  \n",
       "2  0.010297  5.442069e-03  \n",
       "3  0.000008  3.203030e-08  \n",
       "4  0.142800  6.447601e-03  "
      ]
     },
     "execution_count": 75,
     "metadata": {},
     "output_type": "execute_result"
    }
   ],
   "source": [
    "sub = pd.DataFrame(y_pred)\n",
    "sub.head()"
   ]
  },
  {
   "cell_type": "markdown",
   "metadata": {},
   "source": [
    "# Linear SVC"
   ]
  },
  {
   "cell_type": "code",
   "execution_count": 50,
   "metadata": {
    "collapsed": true
   },
   "outputs": [],
   "source": [
    "#train.columns\n",
    "#test_x.columns"
   ]
  },
  {
   "cell_type": "code",
   "execution_count": 80,
   "metadata": {
    "collapsed": true
   },
   "outputs": [],
   "source": [
    "from sklearn.model_selection import train_test_split\n",
    "from sklearn import metrics"
   ]
  },
  {
   "cell_type": "code",
   "execution_count": 81,
   "metadata": {},
   "outputs": [
    {
     "data": {
      "text/html": [
       "<div>\n",
       "<table border=\"1\" class=\"dataframe\">\n",
       "  <thead>\n",
       "    <tr style=\"text-align: right;\">\n",
       "      <th></th>\n",
       "      <th>ID</th>\n",
       "      <th>Gene</th>\n",
       "      <th>Variation</th>\n",
       "      <th>Class</th>\n",
       "      <th>Text</th>\n",
       "    </tr>\n",
       "  </thead>\n",
       "  <tbody>\n",
       "    <tr>\n",
       "      <th>2401</th>\n",
       "      <td>2401</td>\n",
       "      <td>NF1</td>\n",
       "      <td>R1276P</td>\n",
       "      <td>4</td>\n",
       "      <td>RasGAPs supply a catalytic residue, termed th...</td>\n",
       "    </tr>\n",
       "    <tr>\n",
       "      <th>2088</th>\n",
       "      <td>2088</td>\n",
       "      <td>AGO2</td>\n",
       "      <td>Amplification</td>\n",
       "      <td>2</td>\n",
       "      <td>Argonaute (Ago) 2 is the catalytic engine of m...</td>\n",
       "    </tr>\n",
       "    <tr>\n",
       "      <th>1686</th>\n",
       "      <td>1686</td>\n",
       "      <td>FLT3</td>\n",
       "      <td>Amplification</td>\n",
       "      <td>7</td>\n",
       "      <td>A considerable number of patients with metasta...</td>\n",
       "    </tr>\n",
       "    <tr>\n",
       "      <th>53</th>\n",
       "      <td>53</td>\n",
       "      <td>PTPRT</td>\n",
       "      <td>N510K</td>\n",
       "      <td>1</td>\n",
       "      <td>The receptor protein tyrosine phosphatase T (P...</td>\n",
       "    </tr>\n",
       "    <tr>\n",
       "      <th>1283</th>\n",
       "      <td>1283</td>\n",
       "      <td>HRAS</td>\n",
       "      <td>Q61H</td>\n",
       "      <td>2</td>\n",
       "      <td>Background: In numerous biological events the ...</td>\n",
       "    </tr>\n",
       "  </tbody>\n",
       "</table>\n",
       "</div>"
      ],
      "text/plain": [
       "        ID   Gene      Variation  Class  \\\n",
       "2401  2401    NF1         R1276P      4   \n",
       "2088  2088   AGO2  Amplification      2   \n",
       "1686  1686   FLT3  Amplification      7   \n",
       "53      53  PTPRT          N510K      1   \n",
       "1283  1283   HRAS           Q61H      2   \n",
       "\n",
       "                                                   Text  \n",
       "2401   RasGAPs supply a catalytic residue, termed th...  \n",
       "2088  Argonaute (Ago) 2 is the catalytic engine of m...  \n",
       "1686  A considerable number of patients with metasta...  \n",
       "53    The receptor protein tyrosine phosphatase T (P...  \n",
       "1283  Background: In numerous biological events the ...  "
      ]
     },
     "execution_count": 81,
     "metadata": {},
     "output_type": "execute_result"
    }
   ],
   "source": [
    "train_df, test_df = train_test_split(train, test_size=0.2)\n",
    "np.random.seed(0)\n",
    "train_df.head()"
   ]
  },
  {
   "cell_type": "code",
   "execution_count": 82,
   "metadata": {
    "collapsed": true
   },
   "outputs": [],
   "source": [
    "X_train = train_df['Text'].values\n",
    "X_test = test_df['Text'].values\n",
    "y_train = train_df['Class'].values\n",
    "y_test = test_df['Class'].values"
   ]
  },
  {
   "cell_type": "code",
   "execution_count": 83,
   "metadata": {
    "collapsed": true
   },
   "outputs": [],
   "source": [
    "from sklearn.pipeline import Pipeline\n",
    "from sklearn.feature_extraction.text import CountVectorizer\n",
    "from sklearn.feature_extraction.text import TfidfTransformer\n",
    "from sklearn import svm"
   ]
  },
  {
   "cell_type": "code",
   "execution_count": 84,
   "metadata": {
    "collapsed": true
   },
   "outputs": [],
   "source": [
    "text_clf = Pipeline([('vect', CountVectorizer()),\n",
    "                     ('tfidf', TfidfTransformer()),\n",
    "                     ('clf', svm.LinearSVC())\n",
    "])\n",
    "text_clf = text_clf.fit(X_train,y_train)"
   ]
  },
  {
   "cell_type": "code",
   "execution_count": 85,
   "metadata": {
    "collapsed": true
   },
   "outputs": [],
   "source": [
    "y_test_predicted = text_clf.predict(X_test)"
   ]
  },
  {
   "cell_type": "code",
   "execution_count": 86,
   "metadata": {},
   "outputs": [
    {
     "data": {
      "text/plain": [
       "0.63609022556390982"
      ]
     },
     "execution_count": 86,
     "metadata": {},
     "output_type": "execute_result"
    }
   ],
   "source": [
    "np.mean(y_test_predicted == y_test)"
   ]
  },
  {
   "cell_type": "code",
   "execution_count": 87,
   "metadata": {},
   "outputs": [
    {
     "data": {
      "text/plain": [
       "0.53848926322179236"
      ]
     },
     "execution_count": 87,
     "metadata": {},
     "output_type": "execute_result"
    }
   ],
   "source": [
    "fpr, tpr, thresholds = metrics.roc_curve(y_test, y_test_predicted, pos_label=2)\n",
    "metrics.auc(fpr, tpr)"
   ]
  },
  {
   "cell_type": "code",
   "execution_count": 35,
   "metadata": {},
   "outputs": [
    {
     "data": {
      "text/plain": [
       "(665,)"
      ]
     },
     "execution_count": 35,
     "metadata": {},
     "output_type": "execute_result"
    }
   ],
   "source": [
    "y_test.shape"
   ]
  },
  {
   "cell_type": "code",
   "execution_count": 88,
   "metadata": {
    "collapsed": true
   },
   "outputs": [],
   "source": [
    "text_clf = Pipeline([('vect', CountVectorizer()),\n",
    "                     ('tfidf', TfidfTransformer()),\n",
    "                     ('clf', svm.SVC(kernel='linear',probability=True))\n",
    "])\n",
    "text_clf = text_clf.fit(X_train,y_train)"
   ]
  },
  {
   "cell_type": "code",
   "execution_count": 89,
   "metadata": {
    "collapsed": true
   },
   "outputs": [],
   "source": [
    "sub = text_clf.predict_proba(X_test)"
   ]
  },
  {
   "cell_type": "code",
   "execution_count": 90,
   "metadata": {
    "collapsed": true
   },
   "outputs": [],
   "source": [
    "sub = pd.DataFrame(sub)"
   ]
  },
  {
   "cell_type": "code",
   "execution_count": 91,
   "metadata": {},
   "outputs": [
    {
     "data": {
      "text/html": [
       "<div>\n",
       "<table border=\"1\" class=\"dataframe\">\n",
       "  <thead>\n",
       "    <tr style=\"text-align: right;\">\n",
       "      <th></th>\n",
       "      <th>0</th>\n",
       "      <th>1</th>\n",
       "      <th>2</th>\n",
       "      <th>3</th>\n",
       "      <th>4</th>\n",
       "      <th>5</th>\n",
       "      <th>6</th>\n",
       "      <th>7</th>\n",
       "      <th>8</th>\n",
       "    </tr>\n",
       "  </thead>\n",
       "  <tbody>\n",
       "    <tr>\n",
       "      <th>0</th>\n",
       "      <td>0.013146</td>\n",
       "      <td>0.209003</td>\n",
       "      <td>0.017478</td>\n",
       "      <td>0.023479</td>\n",
       "      <td>0.024441</td>\n",
       "      <td>0.011941</td>\n",
       "      <td>0.692020</td>\n",
       "      <td>0.004772</td>\n",
       "      <td>0.003720</td>\n",
       "    </tr>\n",
       "    <tr>\n",
       "      <th>1</th>\n",
       "      <td>0.039995</td>\n",
       "      <td>0.005074</td>\n",
       "      <td>0.005856</td>\n",
       "      <td>0.019955</td>\n",
       "      <td>0.125344</td>\n",
       "      <td>0.795391</td>\n",
       "      <td>0.001509</td>\n",
       "      <td>0.003835</td>\n",
       "      <td>0.003041</td>\n",
       "    </tr>\n",
       "    <tr>\n",
       "      <th>2</th>\n",
       "      <td>0.382943</td>\n",
       "      <td>0.296436</td>\n",
       "      <td>0.010894</td>\n",
       "      <td>0.081522</td>\n",
       "      <td>0.040569</td>\n",
       "      <td>0.031399</td>\n",
       "      <td>0.145109</td>\n",
       "      <td>0.006162</td>\n",
       "      <td>0.004966</td>\n",
       "    </tr>\n",
       "    <tr>\n",
       "      <th>3</th>\n",
       "      <td>0.061469</td>\n",
       "      <td>0.013443</td>\n",
       "      <td>0.240813</td>\n",
       "      <td>0.622235</td>\n",
       "      <td>0.024292</td>\n",
       "      <td>0.019721</td>\n",
       "      <td>0.009463</td>\n",
       "      <td>0.004140</td>\n",
       "      <td>0.004425</td>\n",
       "    </tr>\n",
       "    <tr>\n",
       "      <th>4</th>\n",
       "      <td>0.048764</td>\n",
       "      <td>0.004264</td>\n",
       "      <td>0.181892</td>\n",
       "      <td>0.455862</td>\n",
       "      <td>0.257836</td>\n",
       "      <td>0.038329</td>\n",
       "      <td>0.003811</td>\n",
       "      <td>0.004252</td>\n",
       "      <td>0.004990</td>\n",
       "    </tr>\n",
       "  </tbody>\n",
       "</table>\n",
       "</div>"
      ],
      "text/plain": [
       "          0         1         2         3         4         5         6  \\\n",
       "0  0.013146  0.209003  0.017478  0.023479  0.024441  0.011941  0.692020   \n",
       "1  0.039995  0.005074  0.005856  0.019955  0.125344  0.795391  0.001509   \n",
       "2  0.382943  0.296436  0.010894  0.081522  0.040569  0.031399  0.145109   \n",
       "3  0.061469  0.013443  0.240813  0.622235  0.024292  0.019721  0.009463   \n",
       "4  0.048764  0.004264  0.181892  0.455862  0.257836  0.038329  0.003811   \n",
       "\n",
       "          7         8  \n",
       "0  0.004772  0.003720  \n",
       "1  0.003835  0.003041  \n",
       "2  0.006162  0.004966  \n",
       "3  0.004140  0.004425  \n",
       "4  0.004252  0.004990  "
      ]
     },
     "execution_count": 91,
     "metadata": {},
     "output_type": "execute_result"
    }
   ],
   "source": [
    "sub.head()"
   ]
  },
  {
   "cell_type": "code",
   "execution_count": null,
   "metadata": {
    "collapsed": true
   },
   "outputs": [],
   "source": []
  }
 ],
 "metadata": {
  "kernelspec": {
   "display_name": "Python 3",
   "language": "python",
   "name": "python3"
  },
  "language_info": {
   "codemirror_mode": {
    "name": "ipython",
    "version": 3
   },
   "file_extension": ".py",
   "mimetype": "text/x-python",
   "name": "python",
   "nbconvert_exporter": "python",
   "pygments_lexer": "ipython3",
   "version": "3.5.2"
  }
 },
 "nbformat": 4,
 "nbformat_minor": 2
}
