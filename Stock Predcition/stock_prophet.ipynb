{
 "cells": [
  {
   "cell_type": "markdown",
   "metadata": {},
   "source": [
    "### Importing the libraries"
   ]
  },
  {
   "cell_type": "code",
   "execution_count": 17,
   "metadata": {
    "collapsed": true
   },
   "outputs": [],
   "source": [
    "import pandas as pd\n",
    "import numpy as np\n",
    "from fbprophet import Prophet\n",
    "import matplotlib.pyplot as plt\n",
    "%matplotlib inline"
   ]
  },
  {
   "cell_type": "markdown",
   "metadata": {},
   "source": [
    "### Import the csv file (2014-03-13 to 2017-03-13)"
   ]
  },
  {
   "cell_type": "code",
   "execution_count": 18,
   "metadata": {},
   "outputs": [
    {
     "data": {
      "text/html": [
       "<div>\n",
       "<table border=\"1\" class=\"dataframe\">\n",
       "  <thead>\n",
       "    <tr style=\"text-align: right;\">\n",
       "      <th></th>\n",
       "      <th>ds</th>\n",
       "      <th>y</th>\n",
       "    </tr>\n",
       "  </thead>\n",
       "  <tbody>\n",
       "    <tr>\n",
       "      <th>0</th>\n",
       "      <td>2014-03-13</td>\n",
       "      <td>1846.34</td>\n",
       "    </tr>\n",
       "    <tr>\n",
       "      <th>1</th>\n",
       "      <td>2014-03-14</td>\n",
       "      <td>1841.13</td>\n",
       "    </tr>\n",
       "    <tr>\n",
       "      <th>2</th>\n",
       "      <td>2014-03-17</td>\n",
       "      <td>1858.83</td>\n",
       "    </tr>\n",
       "    <tr>\n",
       "      <th>3</th>\n",
       "      <td>2014-03-18</td>\n",
       "      <td>1872.25</td>\n",
       "    </tr>\n",
       "    <tr>\n",
       "      <th>4</th>\n",
       "      <td>2014-03-19</td>\n",
       "      <td>1860.77</td>\n",
       "    </tr>\n",
       "  </tbody>\n",
       "</table>\n",
       "</div>"
      ],
      "text/plain": [
       "           ds        y\n",
       "0  2014-03-13  1846.34\n",
       "1  2014-03-14  1841.13\n",
       "2  2014-03-17  1858.83\n",
       "3  2014-03-18  1872.25\n",
       "4  2014-03-19  1860.77"
      ]
     },
     "execution_count": 18,
     "metadata": {},
     "output_type": "execute_result"
    }
   ],
   "source": [
    "df = pd.read_csv('C:\\\\Users\\\\Rakesh Chauhan\\\\Downloads\\\\SP500.csv')\n",
    "df.head()"
   ]
  },
  {
   "cell_type": "code",
   "execution_count": 16,
   "metadata": {},
   "outputs": [
    {
     "data": {
      "text/html": [
       "<div>\n",
       "<table border=\"1\" class=\"dataframe\">\n",
       "  <thead>\n",
       "    <tr style=\"text-align: right;\">\n",
       "      <th></th>\n",
       "      <th>ds</th>\n",
       "      <th>y</th>\n",
       "    </tr>\n",
       "  </thead>\n",
       "  <tbody>\n",
       "    <tr>\n",
       "      <th>778</th>\n",
       "      <td>2017-03-07</td>\n",
       "      <td>2368.39</td>\n",
       "    </tr>\n",
       "    <tr>\n",
       "      <th>779</th>\n",
       "      <td>2017-03-08</td>\n",
       "      <td>2362.98</td>\n",
       "    </tr>\n",
       "    <tr>\n",
       "      <th>780</th>\n",
       "      <td>2017-03-09</td>\n",
       "      <td>2364.87</td>\n",
       "    </tr>\n",
       "    <tr>\n",
       "      <th>781</th>\n",
       "      <td>2017-03-10</td>\n",
       "      <td>2372.60</td>\n",
       "    </tr>\n",
       "    <tr>\n",
       "      <th>782</th>\n",
       "      <td>2017-03-13</td>\n",
       "      <td>2373.47</td>\n",
       "    </tr>\n",
       "  </tbody>\n",
       "</table>\n",
       "</div>"
      ],
      "text/plain": [
       "             ds        y\n",
       "778  2017-03-07  2368.39\n",
       "779  2017-03-08  2362.98\n",
       "780  2017-03-09  2364.87\n",
       "781  2017-03-10  2372.60\n",
       "782  2017-03-13  2373.47"
      ]
     },
     "execution_count": 16,
     "metadata": {},
     "output_type": "execute_result"
    }
   ],
   "source": [
    "df.tail()"
   ]
  },
  {
   "cell_type": "markdown",
   "metadata": {},
   "source": [
    "### log transformation to decrease the skewness of the data"
   ]
  },
  {
   "cell_type": "code",
   "execution_count": 19,
   "metadata": {},
   "outputs": [],
   "source": [
    "df['y'] = np.log(df['y'])"
   ]
  },
  {
   "cell_type": "markdown",
   "metadata": {},
   "source": [
    "### linear prophet model and fitting of data"
   ]
  },
  {
   "cell_type": "code",
   "execution_count": 20,
   "metadata": {},
   "outputs": [
    {
     "data": {
      "text/plain": [
       "<fbprophet.forecaster.Prophet at 0x1789e5135c0>"
      ]
     },
     "execution_count": 20,
     "metadata": {},
     "output_type": "execute_result"
    }
   ],
   "source": [
    "m = Prophet(growth='linear')\n",
    "m.fit(df)"
   ]
  },
  {
   "cell_type": "markdown",
   "metadata": {},
   "source": [
    "### future - predict the next 30 days"
   ]
  },
  {
   "cell_type": "code",
   "execution_count": 21,
   "metadata": {},
   "outputs": [
    {
     "data": {
      "text/html": [
       "<div>\n",
       "<table border=\"1\" class=\"dataframe\">\n",
       "  <thead>\n",
       "    <tr style=\"text-align: right;\">\n",
       "      <th></th>\n",
       "      <th>ds</th>\n",
       "    </tr>\n",
       "  </thead>\n",
       "  <tbody>\n",
       "    <tr>\n",
       "      <th>808</th>\n",
       "      <td>2017-04-08</td>\n",
       "    </tr>\n",
       "    <tr>\n",
       "      <th>809</th>\n",
       "      <td>2017-04-09</td>\n",
       "    </tr>\n",
       "    <tr>\n",
       "      <th>810</th>\n",
       "      <td>2017-04-10</td>\n",
       "    </tr>\n",
       "    <tr>\n",
       "      <th>811</th>\n",
       "      <td>2017-04-11</td>\n",
       "    </tr>\n",
       "    <tr>\n",
       "      <th>812</th>\n",
       "      <td>2017-04-12</td>\n",
       "    </tr>\n",
       "  </tbody>\n",
       "</table>\n",
       "</div>"
      ],
      "text/plain": [
       "            ds\n",
       "808 2017-04-08\n",
       "809 2017-04-09\n",
       "810 2017-04-10\n",
       "811 2017-04-11\n",
       "812 2017-04-12"
      ]
     },
     "execution_count": 21,
     "metadata": {},
     "output_type": "execute_result"
    }
   ],
   "source": [
    "future = m.make_future_dataframe(periods=30, freq='D')\n",
    "future.tail()"
   ]
  },
  {
   "cell_type": "code",
   "execution_count": 27,
   "metadata": {},
   "outputs": [
    {
     "data": {
      "text/html": [
       "<div>\n",
       "<table border=\"1\" class=\"dataframe\">\n",
       "  <thead>\n",
       "    <tr style=\"text-align: right;\">\n",
       "      <th></th>\n",
       "      <th>ds</th>\n",
       "    </tr>\n",
       "  </thead>\n",
       "  <tbody>\n",
       "    <tr>\n",
       "      <th>783</th>\n",
       "      <td>2017-03-14</td>\n",
       "    </tr>\n",
       "    <tr>\n",
       "      <th>784</th>\n",
       "      <td>2017-03-15</td>\n",
       "    </tr>\n",
       "    <tr>\n",
       "      <th>785</th>\n",
       "      <td>2017-03-16</td>\n",
       "    </tr>\n",
       "    <tr>\n",
       "      <th>786</th>\n",
       "      <td>2017-03-17</td>\n",
       "    </tr>\n",
       "    <tr>\n",
       "      <th>787</th>\n",
       "      <td>2017-03-18</td>\n",
       "    </tr>\n",
       "    <tr>\n",
       "      <th>788</th>\n",
       "      <td>2017-03-19</td>\n",
       "    </tr>\n",
       "    <tr>\n",
       "      <th>789</th>\n",
       "      <td>2017-03-20</td>\n",
       "    </tr>\n",
       "    <tr>\n",
       "      <th>790</th>\n",
       "      <td>2017-03-21</td>\n",
       "    </tr>\n",
       "    <tr>\n",
       "      <th>791</th>\n",
       "      <td>2017-03-22</td>\n",
       "    </tr>\n",
       "    <tr>\n",
       "      <th>792</th>\n",
       "      <td>2017-03-23</td>\n",
       "    </tr>\n",
       "    <tr>\n",
       "      <th>793</th>\n",
       "      <td>2017-03-24</td>\n",
       "    </tr>\n",
       "    <tr>\n",
       "      <th>794</th>\n",
       "      <td>2017-03-25</td>\n",
       "    </tr>\n",
       "    <tr>\n",
       "      <th>795</th>\n",
       "      <td>2017-03-26</td>\n",
       "    </tr>\n",
       "    <tr>\n",
       "      <th>796</th>\n",
       "      <td>2017-03-27</td>\n",
       "    </tr>\n",
       "    <tr>\n",
       "      <th>797</th>\n",
       "      <td>2017-03-28</td>\n",
       "    </tr>\n",
       "    <tr>\n",
       "      <th>798</th>\n",
       "      <td>2017-03-29</td>\n",
       "    </tr>\n",
       "    <tr>\n",
       "      <th>799</th>\n",
       "      <td>2017-03-30</td>\n",
       "    </tr>\n",
       "    <tr>\n",
       "      <th>800</th>\n",
       "      <td>2017-03-31</td>\n",
       "    </tr>\n",
       "    <tr>\n",
       "      <th>801</th>\n",
       "      <td>2017-04-01</td>\n",
       "    </tr>\n",
       "    <tr>\n",
       "      <th>802</th>\n",
       "      <td>2017-04-02</td>\n",
       "    </tr>\n",
       "    <tr>\n",
       "      <th>803</th>\n",
       "      <td>2017-04-03</td>\n",
       "    </tr>\n",
       "    <tr>\n",
       "      <th>804</th>\n",
       "      <td>2017-04-04</td>\n",
       "    </tr>\n",
       "    <tr>\n",
       "      <th>805</th>\n",
       "      <td>2017-04-05</td>\n",
       "    </tr>\n",
       "    <tr>\n",
       "      <th>806</th>\n",
       "      <td>2017-04-06</td>\n",
       "    </tr>\n",
       "    <tr>\n",
       "      <th>807</th>\n",
       "      <td>2017-04-07</td>\n",
       "    </tr>\n",
       "    <tr>\n",
       "      <th>808</th>\n",
       "      <td>2017-04-08</td>\n",
       "    </tr>\n",
       "    <tr>\n",
       "      <th>809</th>\n",
       "      <td>2017-04-09</td>\n",
       "    </tr>\n",
       "    <tr>\n",
       "      <th>810</th>\n",
       "      <td>2017-04-10</td>\n",
       "    </tr>\n",
       "    <tr>\n",
       "      <th>811</th>\n",
       "      <td>2017-04-11</td>\n",
       "    </tr>\n",
       "    <tr>\n",
       "      <th>812</th>\n",
       "      <td>2017-04-12</td>\n",
       "    </tr>\n",
       "  </tbody>\n",
       "</table>\n",
       "</div>"
      ],
      "text/plain": [
       "            ds\n",
       "783 2017-03-14\n",
       "784 2017-03-15\n",
       "785 2017-03-16\n",
       "786 2017-03-17\n",
       "787 2017-03-18\n",
       "788 2017-03-19\n",
       "789 2017-03-20\n",
       "790 2017-03-21\n",
       "791 2017-03-22\n",
       "792 2017-03-23\n",
       "793 2017-03-24\n",
       "794 2017-03-25\n",
       "795 2017-03-26\n",
       "796 2017-03-27\n",
       "797 2017-03-28\n",
       "798 2017-03-29\n",
       "799 2017-03-30\n",
       "800 2017-03-31\n",
       "801 2017-04-01\n",
       "802 2017-04-02\n",
       "803 2017-04-03\n",
       "804 2017-04-04\n",
       "805 2017-04-05\n",
       "806 2017-04-06\n",
       "807 2017-04-07\n",
       "808 2017-04-08\n",
       "809 2017-04-09\n",
       "810 2017-04-10\n",
       "811 2017-04-11\n",
       "812 2017-04-12"
      ]
     },
     "execution_count": 27,
     "metadata": {},
     "output_type": "execute_result"
    }
   ],
   "source": [
    "future.tail(30)"
   ]
  },
  {
   "cell_type": "code",
   "execution_count": 22,
   "metadata": {
    "collapsed": true
   },
   "outputs": [],
   "source": [
    "fcst = m.predict(future)"
   ]
  },
  {
   "cell_type": "code",
   "execution_count": 32,
   "metadata": {},
   "outputs": [
    {
     "data": {
      "text/html": [
       "<div>\n",
       "<table border=\"1\" class=\"dataframe\">\n",
       "  <thead>\n",
       "    <tr style=\"text-align: right;\">\n",
       "      <th></th>\n",
       "      <th>ds</th>\n",
       "      <th>yhat</th>\n",
       "      <th>yhat_lower</th>\n",
       "      <th>yhat_upper</th>\n",
       "    </tr>\n",
       "  </thead>\n",
       "  <tbody>\n",
       "    <tr>\n",
       "      <th>783</th>\n",
       "      <td>2017-03-14</td>\n",
       "      <td>7.776326</td>\n",
       "      <td>7.762564</td>\n",
       "      <td>7.789982</td>\n",
       "    </tr>\n",
       "    <tr>\n",
       "      <th>784</th>\n",
       "      <td>2017-03-15</td>\n",
       "      <td>7.777989</td>\n",
       "      <td>7.765107</td>\n",
       "      <td>7.791363</td>\n",
       "    </tr>\n",
       "    <tr>\n",
       "      <th>785</th>\n",
       "      <td>2017-03-16</td>\n",
       "      <td>7.778442</td>\n",
       "      <td>7.764267</td>\n",
       "      <td>7.792077</td>\n",
       "    </tr>\n",
       "    <tr>\n",
       "      <th>786</th>\n",
       "      <td>2017-03-17</td>\n",
       "      <td>7.778659</td>\n",
       "      <td>7.764562</td>\n",
       "      <td>7.792310</td>\n",
       "    </tr>\n",
       "    <tr>\n",
       "      <th>787</th>\n",
       "      <td>2017-03-18</td>\n",
       "      <td>7.766002</td>\n",
       "      <td>7.752200</td>\n",
       "      <td>7.780306</td>\n",
       "    </tr>\n",
       "    <tr>\n",
       "      <th>788</th>\n",
       "      <td>2017-03-19</td>\n",
       "      <td>7.766640</td>\n",
       "      <td>7.752001</td>\n",
       "      <td>7.779370</td>\n",
       "    </tr>\n",
       "    <tr>\n",
       "      <th>789</th>\n",
       "      <td>2017-03-20</td>\n",
       "      <td>7.780327</td>\n",
       "      <td>7.766034</td>\n",
       "      <td>7.794892</td>\n",
       "    </tr>\n",
       "    <tr>\n",
       "      <th>790</th>\n",
       "      <td>2017-03-21</td>\n",
       "      <td>7.780795</td>\n",
       "      <td>7.765880</td>\n",
       "      <td>7.795135</td>\n",
       "    </tr>\n",
       "    <tr>\n",
       "      <th>791</th>\n",
       "      <td>2017-03-22</td>\n",
       "      <td>7.782431</td>\n",
       "      <td>7.768089</td>\n",
       "      <td>7.797489</td>\n",
       "    </tr>\n",
       "    <tr>\n",
       "      <th>792</th>\n",
       "      <td>2017-03-23</td>\n",
       "      <td>7.782842</td>\n",
       "      <td>7.767149</td>\n",
       "      <td>7.796864</td>\n",
       "    </tr>\n",
       "    <tr>\n",
       "      <th>793</th>\n",
       "      <td>2017-03-24</td>\n",
       "      <td>7.783011</td>\n",
       "      <td>7.767830</td>\n",
       "      <td>7.797840</td>\n",
       "    </tr>\n",
       "    <tr>\n",
       "      <th>794</th>\n",
       "      <td>2017-03-25</td>\n",
       "      <td>7.770302</td>\n",
       "      <td>7.755472</td>\n",
       "      <td>7.786348</td>\n",
       "    </tr>\n",
       "    <tr>\n",
       "      <th>795</th>\n",
       "      <td>2017-03-26</td>\n",
       "      <td>7.770893</td>\n",
       "      <td>7.756136</td>\n",
       "      <td>7.786424</td>\n",
       "    </tr>\n",
       "    <tr>\n",
       "      <th>796</th>\n",
       "      <td>2017-03-27</td>\n",
       "      <td>7.784540</td>\n",
       "      <td>7.769436</td>\n",
       "      <td>7.799478</td>\n",
       "    </tr>\n",
       "    <tr>\n",
       "      <th>797</th>\n",
       "      <td>2017-03-28</td>\n",
       "      <td>7.784983</td>\n",
       "      <td>7.769901</td>\n",
       "      <td>7.800465</td>\n",
       "    </tr>\n",
       "    <tr>\n",
       "      <th>798</th>\n",
       "      <td>2017-03-29</td>\n",
       "      <td>7.786613</td>\n",
       "      <td>7.769930</td>\n",
       "      <td>7.801699</td>\n",
       "    </tr>\n",
       "    <tr>\n",
       "      <th>799</th>\n",
       "      <td>2017-03-30</td>\n",
       "      <td>7.787041</td>\n",
       "      <td>7.770764</td>\n",
       "      <td>7.803534</td>\n",
       "    </tr>\n",
       "    <tr>\n",
       "      <th>800</th>\n",
       "      <td>2017-03-31</td>\n",
       "      <td>7.787253</td>\n",
       "      <td>7.771362</td>\n",
       "      <td>7.804040</td>\n",
       "    </tr>\n",
       "    <tr>\n",
       "      <th>801</th>\n",
       "      <td>2017-04-01</td>\n",
       "      <td>7.774616</td>\n",
       "      <td>7.758301</td>\n",
       "      <td>7.790930</td>\n",
       "    </tr>\n",
       "    <tr>\n",
       "      <th>802</th>\n",
       "      <td>2017-04-02</td>\n",
       "      <td>7.775308</td>\n",
       "      <td>7.758108</td>\n",
       "      <td>7.792725</td>\n",
       "    </tr>\n",
       "    <tr>\n",
       "      <th>803</th>\n",
       "      <td>2017-04-03</td>\n",
       "      <td>7.789086</td>\n",
       "      <td>7.772934</td>\n",
       "      <td>7.806348</td>\n",
       "    </tr>\n",
       "    <tr>\n",
       "      <th>804</th>\n",
       "      <td>2017-04-04</td>\n",
       "      <td>7.789689</td>\n",
       "      <td>7.772439</td>\n",
       "      <td>7.807734</td>\n",
       "    </tr>\n",
       "    <tr>\n",
       "      <th>805</th>\n",
       "      <td>2017-04-05</td>\n",
       "      <td>7.791503</td>\n",
       "      <td>7.774213</td>\n",
       "      <td>7.810152</td>\n",
       "    </tr>\n",
       "    <tr>\n",
       "      <th>806</th>\n",
       "      <td>2017-04-06</td>\n",
       "      <td>7.792138</td>\n",
       "      <td>7.773860</td>\n",
       "      <td>7.812084</td>\n",
       "    </tr>\n",
       "    <tr>\n",
       "      <th>807</th>\n",
       "      <td>2017-04-07</td>\n",
       "      <td>7.792573</td>\n",
       "      <td>7.775256</td>\n",
       "      <td>7.812434</td>\n",
       "    </tr>\n",
       "    <tr>\n",
       "      <th>808</th>\n",
       "      <td>2017-04-08</td>\n",
       "      <td>7.780171</td>\n",
       "      <td>7.762500</td>\n",
       "      <td>7.799981</td>\n",
       "    </tr>\n",
       "    <tr>\n",
       "      <th>809</th>\n",
       "      <td>2017-04-09</td>\n",
       "      <td>7.781103</td>\n",
       "      <td>7.760988</td>\n",
       "      <td>7.801822</td>\n",
       "    </tr>\n",
       "    <tr>\n",
       "      <th>810</th>\n",
       "      <td>2017-04-10</td>\n",
       "      <td>7.795118</td>\n",
       "      <td>7.775181</td>\n",
       "      <td>7.817252</td>\n",
       "    </tr>\n",
       "    <tr>\n",
       "      <th>811</th>\n",
       "      <td>2017-04-11</td>\n",
       "      <td>7.795948</td>\n",
       "      <td>7.776117</td>\n",
       "      <td>7.820568</td>\n",
       "    </tr>\n",
       "    <tr>\n",
       "      <th>812</th>\n",
       "      <td>2017-04-12</td>\n",
       "      <td>7.797973</td>\n",
       "      <td>7.775111</td>\n",
       "      <td>7.823109</td>\n",
       "    </tr>\n",
       "  </tbody>\n",
       "</table>\n",
       "</div>"
      ],
      "text/plain": [
       "            ds      yhat  yhat_lower  yhat_upper\n",
       "783 2017-03-14  7.776326    7.762564    7.789982\n",
       "784 2017-03-15  7.777989    7.765107    7.791363\n",
       "785 2017-03-16  7.778442    7.764267    7.792077\n",
       "786 2017-03-17  7.778659    7.764562    7.792310\n",
       "787 2017-03-18  7.766002    7.752200    7.780306\n",
       "788 2017-03-19  7.766640    7.752001    7.779370\n",
       "789 2017-03-20  7.780327    7.766034    7.794892\n",
       "790 2017-03-21  7.780795    7.765880    7.795135\n",
       "791 2017-03-22  7.782431    7.768089    7.797489\n",
       "792 2017-03-23  7.782842    7.767149    7.796864\n",
       "793 2017-03-24  7.783011    7.767830    7.797840\n",
       "794 2017-03-25  7.770302    7.755472    7.786348\n",
       "795 2017-03-26  7.770893    7.756136    7.786424\n",
       "796 2017-03-27  7.784540    7.769436    7.799478\n",
       "797 2017-03-28  7.784983    7.769901    7.800465\n",
       "798 2017-03-29  7.786613    7.769930    7.801699\n",
       "799 2017-03-30  7.787041    7.770764    7.803534\n",
       "800 2017-03-31  7.787253    7.771362    7.804040\n",
       "801 2017-04-01  7.774616    7.758301    7.790930\n",
       "802 2017-04-02  7.775308    7.758108    7.792725\n",
       "803 2017-04-03  7.789086    7.772934    7.806348\n",
       "804 2017-04-04  7.789689    7.772439    7.807734\n",
       "805 2017-04-05  7.791503    7.774213    7.810152\n",
       "806 2017-04-06  7.792138    7.773860    7.812084\n",
       "807 2017-04-07  7.792573    7.775256    7.812434\n",
       "808 2017-04-08  7.780171    7.762500    7.799981\n",
       "809 2017-04-09  7.781103    7.760988    7.801822\n",
       "810 2017-04-10  7.795118    7.775181    7.817252\n",
       "811 2017-04-11  7.795948    7.776117    7.820568\n",
       "812 2017-04-12  7.797973    7.775111    7.823109"
      ]
     },
     "execution_count": 32,
     "metadata": {},
     "output_type": "execute_result"
    }
   ],
   "source": [
    "fcst[['ds', 'yhat', 'yhat_lower', 'yhat_upper']].tail(30)"
   ]
  },
  {
   "cell_type": "markdown",
   "metadata": {},
   "source": [
    "### plot the graphs"
   ]
  },
  {
   "cell_type": "code",
   "execution_count": 10,
   "metadata": {},
   "outputs": [
    {
     "data": {
      "image/png": "[encoded data removed]",
      "text/plain": [
       "<matplotlib.figure.Figure at 0x1789cf25c88>"
      ]
     },
     "metadata": {},
     "output_type": "display_data"
    },
    {
     "data": {
      "image/png": "[encoded data removed]",
      "text/plain": [
       "<matplotlib.figure.Figure at 0x1789cef65f8>"
      ]
     },
     "metadata": {},
     "output_type": "display_data"
    }
   ],
   "source": [
    "m.plot(fcst);\n",
    "m.plot_components(fcst);\n",
    "plt.show()"
   ]
  },
  {
   "cell_type": "code",
   "execution_count": 28,
   "metadata": {
    "collapsed": true
   },
   "outputs": [],
   "source": [
    "fdf = pd.read_csv(\"C:\\\\Users\\\\Rakesh Chauhan\\\\Documents\\\\2nd Sem\\\\Dissertation\\\\sp_f.csv\")"
   ]
  },
  {
   "cell_type": "code",
   "execution_count": 33,
   "metadata": {},
   "outputs": [
    {
     "data": {
      "text/html": [
       "<div>\n",
       "<table border=\"1\" class=\"dataframe\">\n",
       "  <thead>\n",
       "    <tr style=\"text-align: right;\">\n",
       "      <th></th>\n",
       "      <th>ds</th>\n",
       "      <th>y</th>\n",
       "    </tr>\n",
       "  </thead>\n",
       "  <tbody>\n",
       "    <tr>\n",
       "      <th>0</th>\n",
       "      <td>14-03-2017</td>\n",
       "      <td>2365.449951</td>\n",
       "    </tr>\n",
       "    <tr>\n",
       "      <th>1</th>\n",
       "      <td>15-03-2017</td>\n",
       "      <td>2385.260010</td>\n",
       "    </tr>\n",
       "    <tr>\n",
       "      <th>2</th>\n",
       "      <td>16-03-2017</td>\n",
       "      <td>2381.379883</td>\n",
       "    </tr>\n",
       "    <tr>\n",
       "      <th>3</th>\n",
       "      <td>17-03-2017</td>\n",
       "      <td>2378.250000</td>\n",
       "    </tr>\n",
       "    <tr>\n",
       "      <th>4</th>\n",
       "      <td>20-03-2017</td>\n",
       "      <td>2373.469971</td>\n",
       "    </tr>\n",
       "    <tr>\n",
       "      <th>5</th>\n",
       "      <td>21-03-2017</td>\n",
       "      <td>2344.020020</td>\n",
       "    </tr>\n",
       "    <tr>\n",
       "      <th>6</th>\n",
       "      <td>22-03-2017</td>\n",
       "      <td>2348.449951</td>\n",
       "    </tr>\n",
       "    <tr>\n",
       "      <th>7</th>\n",
       "      <td>23-03-2017</td>\n",
       "      <td>2345.959961</td>\n",
       "    </tr>\n",
       "    <tr>\n",
       "      <th>8</th>\n",
       "      <td>24-03-2017</td>\n",
       "      <td>2343.979980</td>\n",
       "    </tr>\n",
       "    <tr>\n",
       "      <th>9</th>\n",
       "      <td>27-03-2017</td>\n",
       "      <td>2341.590088</td>\n",
       "    </tr>\n",
       "    <tr>\n",
       "      <th>10</th>\n",
       "      <td>28-03-2017</td>\n",
       "      <td>2358.570068</td>\n",
       "    </tr>\n",
       "    <tr>\n",
       "      <th>11</th>\n",
       "      <td>29-03-2017</td>\n",
       "      <td>2361.129883</td>\n",
       "    </tr>\n",
       "    <tr>\n",
       "      <th>12</th>\n",
       "      <td>30-03-2017</td>\n",
       "      <td>2368.060059</td>\n",
       "    </tr>\n",
       "    <tr>\n",
       "      <th>13</th>\n",
       "      <td>31-03-2017</td>\n",
       "      <td>2362.719971</td>\n",
       "    </tr>\n",
       "    <tr>\n",
       "      <th>14</th>\n",
       "      <td>03-04-2017</td>\n",
       "      <td>2358.840088</td>\n",
       "    </tr>\n",
       "    <tr>\n",
       "      <th>15</th>\n",
       "      <td>04-04-2017</td>\n",
       "      <td>2360.159912</td>\n",
       "    </tr>\n",
       "    <tr>\n",
       "      <th>16</th>\n",
       "      <td>05-04-2017</td>\n",
       "      <td>2352.949951</td>\n",
       "    </tr>\n",
       "    <tr>\n",
       "      <th>17</th>\n",
       "      <td>06-04-2017</td>\n",
       "      <td>2357.489990</td>\n",
       "    </tr>\n",
       "    <tr>\n",
       "      <th>18</th>\n",
       "      <td>07-04-2017</td>\n",
       "      <td>2355.540039</td>\n",
       "    </tr>\n",
       "    <tr>\n",
       "      <th>19</th>\n",
       "      <td>10-04-2017</td>\n",
       "      <td>2357.159912</td>\n",
       "    </tr>\n",
       "    <tr>\n",
       "      <th>20</th>\n",
       "      <td>11-04-2017</td>\n",
       "      <td>2353.780029</td>\n",
       "    </tr>\n",
       "  </tbody>\n",
       "</table>\n",
       "</div>"
      ],
      "text/plain": [
       "            ds            y\n",
       "0   14-03-2017  2365.449951\n",
       "1   15-03-2017  2385.260010\n",
       "2   16-03-2017  2381.379883\n",
       "3   17-03-2017  2378.250000\n",
       "4   20-03-2017  2373.469971\n",
       "5   21-03-2017  2344.020020\n",
       "6   22-03-2017  2348.449951\n",
       "7   23-03-2017  2345.959961\n",
       "8   24-03-2017  2343.979980\n",
       "9   27-03-2017  2341.590088\n",
       "10  28-03-2017  2358.570068\n",
       "11  29-03-2017  2361.129883\n",
       "12  30-03-2017  2368.060059\n",
       "13  31-03-2017  2362.719971\n",
       "14  03-04-2017  2358.840088\n",
       "15  04-04-2017  2360.159912\n",
       "16  05-04-2017  2352.949951\n",
       "17  06-04-2017  2357.489990\n",
       "18  07-04-2017  2355.540039\n",
       "19  10-04-2017  2357.159912\n",
       "20  11-04-2017  2353.780029"
      ]
     },
     "execution_count": 33,
     "metadata": {},
     "output_type": "execute_result"
    }
   ],
   "source": [
    "fdf"
   ]
  },
  {
   "cell_type": "code",
   "execution_count": 34,
   "metadata": {
    "collapsed": true
   },
   "outputs": [],
   "source": [
    "fdf['y'] = np.log(fdf['y'])"
   ]
  },
  {
   "cell_type": "code",
   "execution_count": 35,
   "metadata": {},
   "outputs": [
    {
     "data": {
      "text/html": [
       "<div>\n",
       "<table border=\"1\" class=\"dataframe\">\n",
       "  <thead>\n",
       "    <tr style=\"text-align: right;\">\n",
       "      <th></th>\n",
       "      <th>ds</th>\n",
       "      <th>y</th>\n",
       "    </tr>\n",
       "  </thead>\n",
       "  <tbody>\n",
       "    <tr>\n",
       "      <th>0</th>\n",
       "      <td>14-03-2017</td>\n",
       "      <td>7.768724</td>\n",
       "    </tr>\n",
       "    <tr>\n",
       "      <th>1</th>\n",
       "      <td>15-03-2017</td>\n",
       "      <td>7.777063</td>\n",
       "    </tr>\n",
       "    <tr>\n",
       "      <th>2</th>\n",
       "      <td>16-03-2017</td>\n",
       "      <td>7.775435</td>\n",
       "    </tr>\n",
       "    <tr>\n",
       "      <th>3</th>\n",
       "      <td>17-03-2017</td>\n",
       "      <td>7.774120</td>\n",
       "    </tr>\n",
       "    <tr>\n",
       "      <th>4</th>\n",
       "      <td>20-03-2017</td>\n",
       "      <td>7.772108</td>\n",
       "    </tr>\n",
       "    <tr>\n",
       "      <th>5</th>\n",
       "      <td>21-03-2017</td>\n",
       "      <td>7.759623</td>\n",
       "    </tr>\n",
       "    <tr>\n",
       "      <th>6</th>\n",
       "      <td>22-03-2017</td>\n",
       "      <td>7.761511</td>\n",
       "    </tr>\n",
       "    <tr>\n",
       "      <th>7</th>\n",
       "      <td>23-03-2017</td>\n",
       "      <td>7.760450</td>\n",
       "    </tr>\n",
       "    <tr>\n",
       "      <th>8</th>\n",
       "      <td>24-03-2017</td>\n",
       "      <td>7.759606</td>\n",
       "    </tr>\n",
       "    <tr>\n",
       "      <th>9</th>\n",
       "      <td>27-03-2017</td>\n",
       "      <td>7.758586</td>\n",
       "    </tr>\n",
       "    <tr>\n",
       "      <th>10</th>\n",
       "      <td>28-03-2017</td>\n",
       "      <td>7.765811</td>\n",
       "    </tr>\n",
       "    <tr>\n",
       "      <th>11</th>\n",
       "      <td>29-03-2017</td>\n",
       "      <td>7.766896</td>\n",
       "    </tr>\n",
       "    <tr>\n",
       "      <th>12</th>\n",
       "      <td>30-03-2017</td>\n",
       "      <td>7.769826</td>\n",
       "    </tr>\n",
       "    <tr>\n",
       "      <th>13</th>\n",
       "      <td>31-03-2017</td>\n",
       "      <td>7.767569</td>\n",
       "    </tr>\n",
       "    <tr>\n",
       "      <th>14</th>\n",
       "      <td>03-04-2017</td>\n",
       "      <td>7.765925</td>\n",
       "    </tr>\n",
       "    <tr>\n",
       "      <th>15</th>\n",
       "      <td>04-04-2017</td>\n",
       "      <td>7.766485</td>\n",
       "    </tr>\n",
       "    <tr>\n",
       "      <th>16</th>\n",
       "      <td>05-04-2017</td>\n",
       "      <td>7.763425</td>\n",
       "    </tr>\n",
       "    <tr>\n",
       "      <th>17</th>\n",
       "      <td>06-04-2017</td>\n",
       "      <td>7.765353</td>\n",
       "    </tr>\n",
       "    <tr>\n",
       "      <th>18</th>\n",
       "      <td>07-04-2017</td>\n",
       "      <td>7.764525</td>\n",
       "    </tr>\n",
       "    <tr>\n",
       "      <th>19</th>\n",
       "      <td>10-04-2017</td>\n",
       "      <td>7.765213</td>\n",
       "    </tr>\n",
       "    <tr>\n",
       "      <th>20</th>\n",
       "      <td>11-04-2017</td>\n",
       "      <td>7.763778</td>\n",
       "    </tr>\n",
       "  </tbody>\n",
       "</table>\n",
       "</div>"
      ],
      "text/plain": [
       "            ds         y\n",
       "0   14-03-2017  7.768724\n",
       "1   15-03-2017  7.777063\n",
       "2   16-03-2017  7.775435\n",
       "3   17-03-2017  7.774120\n",
       "4   20-03-2017  7.772108\n",
       "5   21-03-2017  7.759623\n",
       "6   22-03-2017  7.761511\n",
       "7   23-03-2017  7.760450\n",
       "8   24-03-2017  7.759606\n",
       "9   27-03-2017  7.758586\n",
       "10  28-03-2017  7.765811\n",
       "11  29-03-2017  7.766896\n",
       "12  30-03-2017  7.769826\n",
       "13  31-03-2017  7.767569\n",
       "14  03-04-2017  7.765925\n",
       "15  04-04-2017  7.766485\n",
       "16  05-04-2017  7.763425\n",
       "17  06-04-2017  7.765353\n",
       "18  07-04-2017  7.764525\n",
       "19  10-04-2017  7.765213\n",
       "20  11-04-2017  7.763778"
      ]
     },
     "execution_count": 35,
     "metadata": {},
     "output_type": "execute_result"
    }
   ],
   "source": [
    "fdf"
   ]
  },
  {
   "cell_type": "code",
   "execution_count": 58,
   "metadata": {
    "collapsed": true
   },
   "outputs": [],
   "source": [
    "lj = [7.768724,\n",
    "7.777063,\n",
    "7.775435,\n",
    "7.774120,\n",
    "7.772108,\n",
    "7.759623,\n",
    "7.761511,\n",
    "7.760450,\n",
    "7.759606,\n",
    "7.758586,\n",
    "7.765811,\n",
    "7.766896,\n",
    "7.769826,\n",
    "7.767569,\n",
    "7.765925,\n",
    "7.766485,\n",
    "7.763425,\n",
    "7.765353,\n",
    "7.764525,\n",
    "7.765213,\n",
    "7.763778]"
   ]
  },
  {
   "cell_type": "code",
   "execution_count": 37,
   "metadata": {
    "collapsed": true
   },
   "outputs": [],
   "source": [
    "li = []"
   ]
  },
  {
   "cell_type": "code",
   "execution_count": 57,
   "metadata": {
    "collapsed": true
   },
   "outputs": [],
   "source": [
    "li.append(7.795948)`"
   ]
  },
  {
   "cell_type": "code",
   "execution_count": 63,
   "metadata": {},
   "outputs": [
    {
     "data": {
      "text/plain": [
       "20"
      ]
     },
     "execution_count": 63,
     "metadata": {},
     "output_type": "execute_result"
    }
   ],
   "source": [
    "len(lj)# = lj.pop()"
   ]
  },
  {
   "cell_type": "code",
   "execution_count": 64,
   "metadata": {
    "collapsed": true
   },
   "outputs": [],
   "source": [
    "from scipy.stats.stats import pearsonr "
   ]
  },
  {
   "cell_type": "code",
   "execution_count": 65,
   "metadata": {},
   "outputs": [
    {
     "name": "stdout",
     "output_type": "stream",
     "text": [
      "(-0.38264946789430193, 0.095883484661687737)\n"
     ]
    }
   ],
   "source": [
    "print(pearsonr(li,lj))"
   ]
  },
  {
   "cell_type": "code",
   "execution_count": 66,
   "metadata": {
    "collapsed": true
   },
   "outputs": [],
   "source": [
    "from sklearn.metrics import mean_squared_error\n",
    "from math import sqrt\n",
    "\n",
    "rms = sqrt(mean_squared_error(li, lj))"
   ]
  },
  {
   "cell_type": "code",
   "execution_count": 67,
   "metadata": {},
   "outputs": [
    {
     "data": {
      "text/plain": [
       "0.021478119526625213"
      ]
     },
     "execution_count": 67,
     "metadata": {},
     "output_type": "execute_result"
    }
   ],
   "source": [
    "rms"
   ]
  },
  {
   "cell_type": "code",
   "execution_count": null,
   "metadata": {
    "collapsed": true
   },
   "outputs": [],
   "source": []
  }
 ],
 "metadata": {
  "kernelspec": {
   "display_name": "Python 3",
   "language": "python",
   "name": "python3"
  },
  "language_info": {
   "codemirror_mode": {
    "name": "ipython",
    "version": 3
   },
   "file_extension": ".py",
   "mimetype": "text/x-python",
   "name": "python",
   "nbconvert_exporter": "python",
   "pygments_lexer": "ipython3",
   "version": "3.5.2"
  }
 },
 "nbformat": 4,
 "nbformat_minor": 2
}
