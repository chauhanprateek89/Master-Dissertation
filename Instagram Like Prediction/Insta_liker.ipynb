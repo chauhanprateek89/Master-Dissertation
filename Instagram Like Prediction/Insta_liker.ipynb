{
 "cells": [
  {
   "cell_type": "code",
   "execution_count": 1,
   "metadata": {},
   "outputs": [
    {
     "name": "stderr",
     "output_type": "stream",
     "text": [
      "F:\\Anaconda3\\envs\\tensorflow-gpu\\lib\\site-packages\\IPython\\html.py:14: ShimWarning: The `IPython.html` package has been deprecated since IPython 4.0. You should import from `notebook` instead. `IPython.html.widgets` has moved to `ipywidgets`.\n",
      "  \"`IPython.html.widgets` has moved to `ipywidgets`.\", ShimWarning)\n"
     ]
    }
   ],
   "source": [
    "import pandas as pd\n",
    "import numpy as np\n",
    "import seaborn as sns\n",
    "import matplotlib.pyplot as plt\n",
    "import scipy as sp\n",
    "import os\n",
    "import json\n",
    "import datetime\n",
    "import dateutil\n",
    "%matplotlib inline\n",
    "\n",
    "from sklearn import preprocessing\n",
    "from sklearn.preprocessing import OneHotEncoder\n",
    "from pylab import *\n",
    "\n",
    "import re\n",
    "from sklearn.feature_extraction.text import CountVectorizer, TfidfTransformer\n",
    "from collections import Counter\n",
    "from sklearn.feature_extraction import DictVectorizer"
   ]
  },
  {
   "cell_type": "code",
   "execution_count": 2,
   "metadata": {},
   "outputs": [
    {
     "name": "stdout",
     "output_type": "stream",
     "text": [
      "C:\\Users\\Rakesh Chauhan\\Documents\\2nd Sem\\Dissertation\n"
     ]
    }
   ],
   "source": [
    "print(os.getcwd())"
   ]
  },
  {
   "cell_type": "code",
   "execution_count": 3,
   "metadata": {
    "collapsed": true
   },
   "outputs": [],
   "source": [
    "#Path = \"profiles/\"\n",
    "#fileList = os.listdir(Path)"
   ]
  },
  {
   "cell_type": "code",
   "execution_count": 4,
   "metadata": {
    "collapsed": true
   },
   "outputs": [],
   "source": [
    "'''\n",
    "def read_all():\n",
    "    \n",
    "    flag=0\n",
    "    flag2=0\n",
    "    \n",
    "    user_keys = ['alias', 'username', 'numberPosts', 'descriptionProfile', 'numberFollowers', 'numberFollowing', 'urlProfile', 'urlImgProfile', 'website'] # The keys you want\n",
    "    post_keys = ['url', 'urlImage', 'numberLikes', 'localization', 'date', 'description', 'tags', 'multipleImage', 'mentions', 'isVideo', 'filename'] # The keys you want\n",
    "    \n",
    "    \n",
    "    user_cols=['urlProfile', 'alias', 'numberFollowing', 'numberFollowers', 'username', 'numberPosts', 'website', 'descriptionProfile',  'urlImgProfile']\n",
    "    \n",
    "    post_cols = ['url', 'description',  'date', 'numberLikes', 'tags', 'filename', 'urlImage', 'localization', 'isVideo', 'multipleImage', 'mentions']\n",
    "    \n",
    "    for k in fileList:\n",
    "        if k.endswith(\".json\"):  \n",
    "            \n",
    "            # Read file\n",
    "            with open(Path + str(k), encoding=\"utf8\") as json_data:\n",
    "                        data = json.load(json_data)\n",
    "                            \n",
    "            if (data['posts']!=[]):\n",
    "                \n",
    "                if data[\"descriptionProfile\"]!=None:\n",
    "                    temp=data[\"descriptionProfile\"]\n",
    "                    data[\"descriptionProfile\"]=temp[0]\n",
    "                           \n",
    "                # Generate user data\n",
    "                user_data=dict((k, data[k]) for k in user_keys if k in data)\n",
    "                user_df=pd.DataFrame.from_dict(user_data, orient='index').T\n",
    "\n",
    "                # Generate posts data for given user\n",
    "                for i in range(0,len(data['posts'])):\n",
    "                    \n",
    "                    for k in post_keys:\n",
    "                        if k in data['posts'][i]:\n",
    "                            if isinstance(data['posts'][i][k], str):\n",
    "                                data['posts'][i][k]=data['posts'][i][k].replace('\\r','')\n",
    "\n",
    "                    post=dict((k, data['posts'][i][k]) for k in post_keys if k in data['posts'][i])\n",
    "\n",
    "                    if (flag==0):\n",
    "                        all_posts=np.hstack((user_df, pd.DataFrame.from_dict(post, orient='index').T))\n",
    "                        flag=1\n",
    "                    else:\n",
    "                        new_post=np.hstack((user_df, pd.DataFrame.from_dict(post, orient='index').T))\n",
    "                        all_posts=np.vstack((all_posts,new_post)) \n",
    "\n",
    "\n",
    "                if (flag2==0):\n",
    "                    total=pd.DataFrame(all_posts, columns=list(reversed(user_keys))+list(reversed(post_keys)))\n",
    "                    flag2=1\n",
    "                else:\n",
    "                    total=np.vstack((total,pd.DataFrame(all_posts, columns=list(reversed(user_keys))+list(reversed(post_keys)))))   \n",
    "           \n",
    "                flag=0\n",
    "\n",
    "    dataset=pd.DataFrame(total, columns=user_cols+post_cols)\n",
    "    return dataset[[\"alias\", \"username\", \"numberFollowers\", \"numberFollowing\", \"numberPosts\", 'urlProfile', 'urlImgProfile', 'descriptionProfile', 'website', 'filename', 'url', 'urlImage', 'numberLikes', 'description', 'tags', 'mentions', 'localization', 'date', 'multipleImage', 'isVideo']]\n",
    "'''    "
   ]
  },
  {
   "cell_type": "code",
   "execution_count": 6,
   "metadata": {
    "collapsed": true
   },
   "outputs": [],
   "source": [
    "#dataset = read_all()\n",
    "\n",
    "#dataset.to_csv(\"Instagram_dataset.csv\", index=False)"
   ]
  },
  {
   "cell_type": "code",
   "execution_count": 184,
   "metadata": {
    "collapsed": true
   },
   "outputs": [],
   "source": [
    "full = pd.read_csv(\"dataset.csv\", na_values='NaN')\n",
    "\n",
    "y = full['numberLikes']"
   ]
  },
  {
   "cell_type": "code",
   "execution_count": 11,
   "metadata": {},
   "outputs": [
    {
     "name": "stdout",
     "output_type": "stream",
     "text": [
      "<class 'pandas.core.frame.DataFrame'>\n",
      "RangeIndex: 16539 entries, 0 to 16538\n",
      "Data columns (total 20 columns):\n",
      "numberPosts           16539 non-null int64\n",
      "website               14652 non-null object\n",
      "urlProfile            16539 non-null object\n",
      "username              16335 non-null object\n",
      "numberFollowing       16539 non-null int64\n",
      "descriptionProfile    16148 non-null object\n",
      "alias                 16539 non-null object\n",
      "numberFollowers       16539 non-null int64\n",
      "urlImgProfile         16539 non-null object\n",
      "filename              16539 non-null object\n",
      "date                  16539 non-null object\n",
      "urlImage              16539 non-null object\n",
      "mentions              16539 non-null object\n",
      "multipleImage         16539 non-null bool\n",
      "isVideo               16539 non-null bool\n",
      "localization          6887 non-null object\n",
      "tags                  16539 non-null object\n",
      "numberLikes           16539 non-null int64\n",
      "url                   16539 non-null object\n",
      "description           16319 non-null object\n",
      "dtypes: bool(2), int64(4), object(14)\n",
      "memory usage: 2.3+ MB\n"
     ]
    }
   ],
   "source": [
    "full.info()"
   ]
  },
  {
   "cell_type": "code",
   "execution_count": 185,
   "metadata": {
    "collapsed": true
   },
   "outputs": [],
   "source": [
    "toDrop = ['username', 'urlProfile', 'urlImgProfile',\\\n",
    "          'filename', 'url', 'urlImage', 'isVideo']\n",
    "processed = full.drop(toDrop, axis=1)\n",
    "\n",
    "nonCat = ['descriptionProfile', 'description', 'tags', 'mentions', 'localization']\n",
    "processed = processed.drop(nonCat, axis=1)"
   ]
  },
  {
   "cell_type": "code",
   "execution_count": 186,
   "metadata": {},
   "outputs": [
    {
     "data": {
      "text/html": [
       "<div>\n",
       "<table border=\"1\" class=\"dataframe\">\n",
       "  <thead>\n",
       "    <tr style=\"text-align: right;\">\n",
       "      <th></th>\n",
       "      <th>numberPosts</th>\n",
       "      <th>numberFollowing</th>\n",
       "      <th>numberFollowers</th>\n",
       "      <th>numberLikes</th>\n",
       "    </tr>\n",
       "  </thead>\n",
       "  <tbody>\n",
       "    <tr>\n",
       "      <th>count</th>\n",
       "      <td>16539.00</td>\n",
       "      <td>16539.00</td>\n",
       "      <td>16539.00</td>\n",
       "      <td>16539.00</td>\n",
       "    </tr>\n",
       "    <tr>\n",
       "      <th>mean</th>\n",
       "      <td>2315.73</td>\n",
       "      <td>2590.56</td>\n",
       "      <td>997829.41</td>\n",
       "      <td>24414.26</td>\n",
       "    </tr>\n",
       "    <tr>\n",
       "      <th>std</th>\n",
       "      <td>2655.38</td>\n",
       "      <td>59090.66</td>\n",
       "      <td>1934400.77</td>\n",
       "      <td>64220.60</td>\n",
       "    </tr>\n",
       "    <tr>\n",
       "      <th>min</th>\n",
       "      <td>15.00</td>\n",
       "      <td>0.00</td>\n",
       "      <td>124965.00</td>\n",
       "      <td>0.00</td>\n",
       "    </tr>\n",
       "    <tr>\n",
       "      <th>25%</th>\n",
       "      <td>787.00</td>\n",
       "      <td>191.00</td>\n",
       "      <td>198039.00</td>\n",
       "      <td>3232.50</td>\n",
       "    </tr>\n",
       "    <tr>\n",
       "      <th>50%</th>\n",
       "      <td>1481.00</td>\n",
       "      <td>396.00</td>\n",
       "      <td>393843.00</td>\n",
       "      <td>7351.00</td>\n",
       "    </tr>\n",
       "    <tr>\n",
       "      <th>75%</th>\n",
       "      <td>2932.00</td>\n",
       "      <td>645.00</td>\n",
       "      <td>935310.00</td>\n",
       "      <td>18357.00</td>\n",
       "    </tr>\n",
       "    <tr>\n",
       "      <th>max</th>\n",
       "      <td>27671.00</td>\n",
       "      <td>1838511.00</td>\n",
       "      <td>22130730.00</td>\n",
       "      <td>1115123.00</td>\n",
       "    </tr>\n",
       "  </tbody>\n",
       "</table>\n",
       "</div>"
      ],
      "text/plain": [
       "       numberPosts  numberFollowing  numberFollowers  numberLikes\n",
       "count     16539.00         16539.00         16539.00     16539.00\n",
       "mean       2315.73          2590.56        997829.41     24414.26\n",
       "std        2655.38         59090.66       1934400.77     64220.60\n",
       "min          15.00             0.00        124965.00         0.00\n",
       "25%         787.00           191.00        198039.00      3232.50\n",
       "50%        1481.00           396.00        393843.00      7351.00\n",
       "75%        2932.00           645.00        935310.00     18357.00\n",
       "max       27671.00       1838511.00      22130730.00   1115123.00"
      ]
     },
     "execution_count": 186,
     "metadata": {},
     "output_type": "execute_result"
    }
   ],
   "source": [
    "pd.options.display.float_format = '{:.2f}'.format\n",
    "processed.describe()"
   ]
  },
  {
   "cell_type": "code",
   "execution_count": 187,
   "metadata": {
    "collapsed": true
   },
   "outputs": [],
   "source": [
    "processed['youtube'] = processed['website'].str.contains('youtube|youtu',na=False).astype(int)\n",
    "processed['music']=processed['website'].str.contains(\"soundcloud|spoti\",na=False).astype(int)\n",
    "processed['tumblr']=processed['website'].str.contains(\"tumblr\",na=False).astype(int)\n",
    "processed['facebook']=processed['website'].str.contains(\"facebook\",na=False).astype(int)\n",
    "processed['blog']=processed['website'].str.contains(\"blog|wordpress\",na=False).astype(int)\n",
    "processed['twitter']=processed['website'].str.contains(\"twitter\",na=False).astype(int)\n",
    "processed['other']=processed['website'].str.contains(\".\",na=False).astype(int)\n",
    "processed = processed.drop(['website'], axis=1)"
   ]
  },
  {
   "cell_type": "code",
   "execution_count": 188,
   "metadata": {
    "collapsed": true
   },
   "outputs": [],
   "source": [
    "processed['multipleImage'] = processed['multipleImage'].astype(int)"
   ]
  },
  {
   "cell_type": "code",
   "execution_count": 189,
   "metadata": {},
   "outputs": [
    {
     "name": "stdout",
     "output_type": "stream",
     "text": [
      "16539\n"
     ]
    }
   ],
   "source": [
    "print(len(processed))"
   ]
  },
  {
   "cell_type": "code",
   "execution_count": 190,
   "metadata": {
    "collapsed": true
   },
   "outputs": [],
   "source": [
    "le = preprocessing.LabelEncoder()\n",
    "le.fit(processed[\"alias\"])\n",
    "list(le.classes_)\n",
    "alias_num = le.transform(processed['alias'])\n",
    "processed['alias'] = alias_num"
   ]
  },
  {
   "cell_type": "code",
   "execution_count": 191,
   "metadata": {
    "collapsed": true
   },
   "outputs": [],
   "source": [
    "copy=processed[\"date\"].copy()\n",
    "for i in range(0, len(processed)):\n",
    "    copy[i] = datetime.datetime.weekday((dateutil.parser.parse(processed[\"date\"][i])))\n",
    "processed[\"date\"]=copy.astype(np.int64)\n",
    "\n",
    "processed['mon']=(processed['date']==0).astype(int)\n",
    "processed['tue']=(processed['date']==1).astype(int)\n",
    "processed['wed']=(processed['date']==2).astype(int)\n",
    "processed['thu']=(processed['date']==3).astype(int)\n",
    "processed['fri']=(processed['date']==4).astype(int)\n",
    "processed['sat']=(processed['date']==5).astype(int)\n",
    "processed['sun']=(processed['date']==6).astype(int)\n",
    "\n",
    "processed = processed.drop(['date'], axis=1)"
   ]
  },
  {
   "cell_type": "code",
   "execution_count": 192,
   "metadata": {},
   "outputs": [
    {
     "data": {
      "text/html": [
       "<div>\n",
       "<table border=\"1\" class=\"dataframe\">\n",
       "  <thead>\n",
       "    <tr style=\"text-align: right;\">\n",
       "      <th></th>\n",
       "      <th>numberPosts</th>\n",
       "      <th>numberFollowing</th>\n",
       "      <th>alias</th>\n",
       "      <th>numberFollowers</th>\n",
       "      <th>multipleImage</th>\n",
       "      <th>numberLikes</th>\n",
       "      <th>youtube</th>\n",
       "      <th>music</th>\n",
       "      <th>tumblr</th>\n",
       "      <th>facebook</th>\n",
       "      <th>blog</th>\n",
       "      <th>twitter</th>\n",
       "      <th>other</th>\n",
       "      <th>mon</th>\n",
       "      <th>tue</th>\n",
       "      <th>wed</th>\n",
       "      <th>thu</th>\n",
       "      <th>fri</th>\n",
       "      <th>sat</th>\n",
       "      <th>sun</th>\n",
       "    </tr>\n",
       "  </thead>\n",
       "  <tbody>\n",
       "    <tr>\n",
       "      <th>0</th>\n",
       "      <td>988</td>\n",
       "      <td>233</td>\n",
       "      <td>0</td>\n",
       "      <td>720979</td>\n",
       "      <td>0</td>\n",
       "      <td>10047</td>\n",
       "      <td>0</td>\n",
       "      <td>0</td>\n",
       "      <td>0</td>\n",
       "      <td>0</td>\n",
       "      <td>0</td>\n",
       "      <td>0</td>\n",
       "      <td>1</td>\n",
       "      <td>0</td>\n",
       "      <td>0</td>\n",
       "      <td>0</td>\n",
       "      <td>0</td>\n",
       "      <td>0</td>\n",
       "      <td>1</td>\n",
       "      <td>0</td>\n",
       "    </tr>\n",
       "    <tr>\n",
       "      <th>1</th>\n",
       "      <td>988</td>\n",
       "      <td>233</td>\n",
       "      <td>0</td>\n",
       "      <td>720979</td>\n",
       "      <td>0</td>\n",
       "      <td>16781</td>\n",
       "      <td>0</td>\n",
       "      <td>0</td>\n",
       "      <td>0</td>\n",
       "      <td>0</td>\n",
       "      <td>0</td>\n",
       "      <td>0</td>\n",
       "      <td>1</td>\n",
       "      <td>0</td>\n",
       "      <td>0</td>\n",
       "      <td>0</td>\n",
       "      <td>0</td>\n",
       "      <td>0</td>\n",
       "      <td>1</td>\n",
       "      <td>0</td>\n",
       "    </tr>\n",
       "    <tr>\n",
       "      <th>2</th>\n",
       "      <td>988</td>\n",
       "      <td>233</td>\n",
       "      <td>0</td>\n",
       "      <td>720979</td>\n",
       "      <td>0</td>\n",
       "      <td>11227</td>\n",
       "      <td>0</td>\n",
       "      <td>0</td>\n",
       "      <td>0</td>\n",
       "      <td>0</td>\n",
       "      <td>0</td>\n",
       "      <td>0</td>\n",
       "      <td>1</td>\n",
       "      <td>0</td>\n",
       "      <td>0</td>\n",
       "      <td>0</td>\n",
       "      <td>1</td>\n",
       "      <td>0</td>\n",
       "      <td>0</td>\n",
       "      <td>0</td>\n",
       "    </tr>\n",
       "    <tr>\n",
       "      <th>3</th>\n",
       "      <td>988</td>\n",
       "      <td>233</td>\n",
       "      <td>0</td>\n",
       "      <td>720979</td>\n",
       "      <td>0</td>\n",
       "      <td>21539</td>\n",
       "      <td>0</td>\n",
       "      <td>0</td>\n",
       "      <td>0</td>\n",
       "      <td>0</td>\n",
       "      <td>0</td>\n",
       "      <td>0</td>\n",
       "      <td>1</td>\n",
       "      <td>1</td>\n",
       "      <td>0</td>\n",
       "      <td>0</td>\n",
       "      <td>0</td>\n",
       "      <td>0</td>\n",
       "      <td>0</td>\n",
       "      <td>0</td>\n",
       "    </tr>\n",
       "    <tr>\n",
       "      <th>4</th>\n",
       "      <td>988</td>\n",
       "      <td>233</td>\n",
       "      <td>0</td>\n",
       "      <td>720979</td>\n",
       "      <td>0</td>\n",
       "      <td>21054</td>\n",
       "      <td>0</td>\n",
       "      <td>0</td>\n",
       "      <td>0</td>\n",
       "      <td>0</td>\n",
       "      <td>0</td>\n",
       "      <td>0</td>\n",
       "      <td>1</td>\n",
       "      <td>0</td>\n",
       "      <td>0</td>\n",
       "      <td>0</td>\n",
       "      <td>0</td>\n",
       "      <td>0</td>\n",
       "      <td>1</td>\n",
       "      <td>0</td>\n",
       "    </tr>\n",
       "  </tbody>\n",
       "</table>\n",
       "</div>"
      ],
      "text/plain": [
       "   numberPosts  numberFollowing  alias  numberFollowers  multipleImage  \\\n",
       "0          988              233      0           720979              0   \n",
       "1          988              233      0           720979              0   \n",
       "2          988              233      0           720979              0   \n",
       "3          988              233      0           720979              0   \n",
       "4          988              233      0           720979              0   \n",
       "\n",
       "   numberLikes  youtube  music  tumblr  facebook  blog  twitter  other  mon  \\\n",
       "0        10047        0      0       0         0     0        0      1    0   \n",
       "1        16781        0      0       0         0     0        0      1    0   \n",
       "2        11227        0      0       0         0     0        0      1    0   \n",
       "3        21539        0      0       0         0     0        0      1    1   \n",
       "4        21054        0      0       0         0     0        0      1    0   \n",
       "\n",
       "   tue  wed  thu  fri  sat  sun  \n",
       "0    0    0    0    0    1    0  \n",
       "1    0    0    0    0    1    0  \n",
       "2    0    0    1    0    0    0  \n",
       "3    0    0    0    0    0    0  \n",
       "4    0    0    0    0    1    0  "
      ]
     },
     "execution_count": 192,
     "metadata": {},
     "output_type": "execute_result"
    }
   ],
   "source": [
    "processed.head()"
   ]
  },
  {
   "cell_type": "code",
   "execution_count": 193,
   "metadata": {
    "scrolled": true
   },
   "outputs": [
    {
     "data": {
      "text/plain": [
       "(16539, 20)"
      ]
     },
     "execution_count": 193,
     "metadata": {},
     "output_type": "execute_result"
    }
   ],
   "source": [
    "processed.shape"
   ]
  },
  {
   "cell_type": "code",
   "execution_count": 194,
   "metadata": {
    "collapsed": true
   },
   "outputs": [],
   "source": [
    "numTags=[]\n",
    "for h in full.tags:\n",
    "    numTags.append(h.count('#'))"
   ]
  },
  {
   "cell_type": "code",
   "execution_count": 195,
   "metadata": {},
   "outputs": [
    {
     "data": {
      "text/plain": [
       "Index(['numberPosts', 'website', 'urlProfile', 'username', 'numberFollowing',\n",
       "       'descriptionProfile', 'alias', 'numberFollowers', 'urlImgProfile',\n",
       "       'filename', 'date', 'urlImage', 'mentions', 'multipleImage', 'isVideo',\n",
       "       'localization', 'tags', 'numberLikes', 'url', 'description'],\n",
       "      dtype='object')"
      ]
     },
     "execution_count": 195,
     "metadata": {},
     "output_type": "execute_result"
    }
   ],
   "source": [
    "full.columns"
   ]
  },
  {
   "cell_type": "code",
   "execution_count": 196,
   "metadata": {},
   "outputs": [
    {
     "data": {
      "text/plain": [
       "list"
      ]
     },
     "execution_count": 196,
     "metadata": {},
     "output_type": "execute_result"
    }
   ],
   "source": [
    "type(numTags)"
   ]
  },
  {
   "cell_type": "code",
   "execution_count": 197,
   "metadata": {
    "collapsed": true
   },
   "outputs": [],
   "source": [
    "numMentions=[]\n",
    "for m in full['mentions']:\n",
    "    numMentions.append(m.count('@'))"
   ]
  },
  {
   "cell_type": "code",
   "execution_count": 198,
   "metadata": {},
   "outputs": [
    {
     "data": {
      "text/plain": [
       "16539"
      ]
     },
     "execution_count": 198,
     "metadata": {},
     "output_type": "execute_result"
    }
   ],
   "source": [
    "len(numMentions)"
   ]
  },
  {
   "cell_type": "code",
   "execution_count": 199,
   "metadata": {},
   "outputs": [
    {
     "name": "stdout",
     "output_type": "stream",
     "text": [
      "<generator object <genexpr> at 0x00000203A209B728>\n",
      "<generator object <genexpr> at 0x00000203A209B728>\n"
     ]
    }
   ],
   "source": [
    "print(all(isinstance(n, int) for n in numMentions))\n",
    "\n",
    "print(all(isinstance(n, int) for n in numTags))"
   ]
  },
  {
   "cell_type": "code",
   "execution_count": 200,
   "metadata": {
    "collapsed": true
   },
   "outputs": [],
   "source": [
    "nt = pd.Series(numTags)\n",
    "nm = pd.Series(numMentions)"
   ]
  },
  {
   "cell_type": "code",
   "execution_count": 201,
   "metadata": {
    "collapsed": true
   },
   "outputs": [],
   "source": [
    "processed['numberTags'] = nt.values\n",
    "\n",
    "processed['numberMentions'] = nm.values"
   ]
  },
  {
   "cell_type": "code",
   "execution_count": 202,
   "metadata": {
    "scrolled": true
   },
   "outputs": [
    {
     "data": {
      "text/plain": [
       "(16539, 22)"
      ]
     },
     "execution_count": 202,
     "metadata": {},
     "output_type": "execute_result"
    }
   ],
   "source": [
    "processed.shape"
   ]
  },
  {
   "cell_type": "code",
   "execution_count": 203,
   "metadata": {
    "collapsed": true
   },
   "outputs": [],
   "source": [
    "def count_days(day):\n",
    "    counter = 0\n",
    "    for sun in processed[day]:\n",
    "        if sun == 1:\n",
    "            counter = counter + 1\n",
    "    return counter"
   ]
  },
  {
   "cell_type": "code",
   "execution_count": 204,
   "metadata": {
    "collapsed": true
   },
   "outputs": [],
   "source": [
    "def post_perc_day(day):\n",
    "    return round((day/len(processed))*100,2)"
   ]
  },
  {
   "cell_type": "code",
   "execution_count": 205,
   "metadata": {
    "collapsed": true
   },
   "outputs": [],
   "source": [
    "tot_sun = count_days('sun')\n",
    "tot_mon = count_days('mon')\n",
    "tot_tue = count_days('tue')\n",
    "tot_wed = count_days('wed')\n",
    "tot_thu = count_days('thu')\n",
    "tot_fri = count_days('fri')\n",
    "tot_sat = count_days('sat')"
   ]
  },
  {
   "cell_type": "code",
   "execution_count": 206,
   "metadata": {},
   "outputs": [
    {
     "name": "stdout",
     "output_type": "stream",
     "text": [
      "3047\n",
      "1785\n",
      "2135\n",
      "2240\n",
      "2419\n",
      "2418\n",
      "2495\n"
     ]
    }
   ],
   "source": [
    "print(tot_sun)\n",
    "print(tot_mon)\n",
    "print(tot_tue)\n",
    "print(tot_wed)\n",
    "print(tot_thu)\n",
    "print(tot_fri)\n",
    "print(tot_sat)"
   ]
  },
  {
   "cell_type": "code",
   "execution_count": 207,
   "metadata": {
    "collapsed": true
   },
   "outputs": [],
   "source": [
    "tot_days = [tot_mon, tot_tue, tot_wed, tot_thu, tot_fri, tot_sat, tot_sun]"
   ]
  },
  {
   "cell_type": "code",
   "execution_count": 208,
   "metadata": {},
   "outputs": [
    {
     "name": "stdout",
     "output_type": "stream",
     "text": [
      "10.79\n",
      "12.91\n",
      "13.54\n",
      "14.63\n",
      "14.62\n",
      "15.09\n",
      "18.42\n"
     ]
    }
   ],
   "source": [
    "plist = []\n",
    "for tot in tot_days:\n",
    "    print(post_perc_day(tot))\n",
    "    plist.append(post_perc_day(tot))"
   ]
  },
  {
   "cell_type": "code",
   "execution_count": 209,
   "metadata": {},
   "outputs": [
    {
     "data": {
      "image/png": "[encoded data removed]",
      "text/plain": [
       "<matplotlib.figure.Figure at 0x203806f8978>"
      ]
     },
     "metadata": {},
     "output_type": "display_data"
    }
   ],
   "source": [
    "plt.plot(plist,)\n",
    "plt.title('Percentage of posts per day', fontsize=20)\n",
    "plt.ylabel('Percentage', fontsize=15)\n",
    "plt.xlabel('Days', fontsize=15)\n",
    "plt.xticks(arange(8), ('Monday', 'Tuesday', 'Wednesday',\\\n",
    "                       'Thursday', 'Friday', 'Saturday', 'Sunday' ),\\\n",
    "          rotation = 45)\n",
    "plt.show()"
   ]
  },
  {
   "cell_type": "code",
   "execution_count": 210,
   "metadata": {},
   "outputs": [
    {
     "name": "stdout",
     "output_type": "stream",
     "text": [
      "<class 'pandas.core.frame.DataFrame'>\n",
      "RangeIndex: 16539 entries, 0 to 16538\n",
      "Data columns (total 22 columns):\n",
      "numberPosts        16539 non-null int64\n",
      "numberFollowing    16539 non-null int64\n",
      "alias              16539 non-null int64\n",
      "numberFollowers    16539 non-null int64\n",
      "multipleImage      16539 non-null int32\n",
      "numberLikes        16539 non-null int64\n",
      "youtube            16539 non-null int32\n",
      "music              16539 non-null int32\n",
      "tumblr             16539 non-null int32\n",
      "facebook           16539 non-null int32\n",
      "blog               16539 non-null int32\n",
      "twitter            16539 non-null int32\n",
      "other              16539 non-null int32\n",
      "mon                16539 non-null int32\n",
      "tue                16539 non-null int32\n",
      "wed                16539 non-null int32\n",
      "thu                16539 non-null int32\n",
      "fri                16539 non-null int32\n",
      "sat                16539 non-null int32\n",
      "sun                16539 non-null int32\n",
      "numberTags         16539 non-null int64\n",
      "numberMentions     16539 non-null int64\n",
      "dtypes: int32(15), int64(7)\n",
      "memory usage: 1.8 MB\n"
     ]
    }
   ],
   "source": [
    "processed.info()"
   ]
  },
  {
   "cell_type": "code",
   "execution_count": 211,
   "metadata": {
    "collapsed": true
   },
   "outputs": [],
   "source": [
    "pro_copy = processed"
   ]
  },
  {
   "cell_type": "markdown",
   "metadata": {},
   "source": [
    "# Filtering"
   ]
  },
  {
   "cell_type": "code",
   "execution_count": 212,
   "metadata": {
    "collapsed": true
   },
   "outputs": [],
   "source": [
    "avgLikes = []\n",
    "numFollowers = []\n",
    "selection = []\n",
    "\n",
    "for i in range(0, np.max(processed['alias']+1, axis=0)):\n",
    "    numFollowers = np.append(numFollowers, processed[processed['alias']==i]['numberFollowers'].iloc[0])\n",
    "    avgLikes = np.append(avgLikes, np.sum(processed[processed['alias']==i]['numberLikes'])/len(processed[processed['alias']==i]))\n",
    "    processed.loc[processed['alias']==i, 'mean']=avgLikes[i]\n",
    "    selection = np.append(selection, i)"
   ]
  },
  {
   "cell_type": "code",
   "execution_count": 213,
   "metadata": {},
   "outputs": [
    {
     "data": {
      "text/plain": [
       "973"
      ]
     },
     "execution_count": 213,
     "metadata": {},
     "output_type": "execute_result"
    }
   ],
   "source": [
    "len(selection)"
   ]
  },
  {
   "cell_type": "code",
   "execution_count": 109,
   "metadata": {},
   "outputs": [
    {
     "data": {
      "text/plain": [
       "array([ 0.,  1.,  2.,  3.,  4.,  5.,  6.,  7.,  8.,  9.])"
      ]
     },
     "execution_count": 109,
     "metadata": {},
     "output_type": "execute_result"
    }
   ],
   "source": [
    "selection[0:10]"
   ]
  },
  {
   "cell_type": "code",
   "execution_count": 214,
   "metadata": {},
   "outputs": [
    {
     "data": {
      "text/html": [
       "<div>\n",
       "<table border=\"1\" class=\"dataframe\">\n",
       "  <thead>\n",
       "    <tr style=\"text-align: right;\">\n",
       "      <th></th>\n",
       "      <th>numberPosts</th>\n",
       "      <th>numberFollowing</th>\n",
       "      <th>alias</th>\n",
       "      <th>numberFollowers</th>\n",
       "      <th>multipleImage</th>\n",
       "      <th>numberLikes</th>\n",
       "      <th>youtube</th>\n",
       "      <th>music</th>\n",
       "      <th>tumblr</th>\n",
       "      <th>facebook</th>\n",
       "      <th>...</th>\n",
       "      <th>mon</th>\n",
       "      <th>tue</th>\n",
       "      <th>wed</th>\n",
       "      <th>thu</th>\n",
       "      <th>fri</th>\n",
       "      <th>sat</th>\n",
       "      <th>sun</th>\n",
       "      <th>numberTags</th>\n",
       "      <th>numberMentions</th>\n",
       "      <th>mean</th>\n",
       "    </tr>\n",
       "  </thead>\n",
       "  <tbody>\n",
       "    <tr>\n",
       "      <th>count</th>\n",
       "      <td>16539.00</td>\n",
       "      <td>16539.00</td>\n",
       "      <td>16539.00</td>\n",
       "      <td>16539.00</td>\n",
       "      <td>16539.00</td>\n",
       "      <td>16539.00</td>\n",
       "      <td>16539.00</td>\n",
       "      <td>16539.00</td>\n",
       "      <td>16539.00</td>\n",
       "      <td>16539.00</td>\n",
       "      <td>...</td>\n",
       "      <td>16539.00</td>\n",
       "      <td>16539.00</td>\n",
       "      <td>16539.00</td>\n",
       "      <td>16539.00</td>\n",
       "      <td>16539.00</td>\n",
       "      <td>16539.00</td>\n",
       "      <td>16539.00</td>\n",
       "      <td>16539.00</td>\n",
       "      <td>16539.00</td>\n",
       "      <td>16539.00</td>\n",
       "    </tr>\n",
       "    <tr>\n",
       "      <th>mean</th>\n",
       "      <td>2315.73</td>\n",
       "      <td>2590.56</td>\n",
       "      <td>485.94</td>\n",
       "      <td>997829.41</td>\n",
       "      <td>0.03</td>\n",
       "      <td>24414.26</td>\n",
       "      <td>0.14</td>\n",
       "      <td>0.01</td>\n",
       "      <td>0.00</td>\n",
       "      <td>0.04</td>\n",
       "      <td>...</td>\n",
       "      <td>0.11</td>\n",
       "      <td>0.13</td>\n",
       "      <td>0.14</td>\n",
       "      <td>0.15</td>\n",
       "      <td>0.15</td>\n",
       "      <td>0.15</td>\n",
       "      <td>0.18</td>\n",
       "      <td>2.37</td>\n",
       "      <td>2.67</td>\n",
       "      <td>24414.26</td>\n",
       "    </tr>\n",
       "    <tr>\n",
       "      <th>std</th>\n",
       "      <td>2655.38</td>\n",
       "      <td>59090.66</td>\n",
       "      <td>280.86</td>\n",
       "      <td>1934400.77</td>\n",
       "      <td>0.17</td>\n",
       "      <td>64220.60</td>\n",
       "      <td>0.34</td>\n",
       "      <td>0.07</td>\n",
       "      <td>0.03</td>\n",
       "      <td>0.20</td>\n",
       "      <td>...</td>\n",
       "      <td>0.31</td>\n",
       "      <td>0.34</td>\n",
       "      <td>0.34</td>\n",
       "      <td>0.35</td>\n",
       "      <td>0.35</td>\n",
       "      <td>0.36</td>\n",
       "      <td>0.39</td>\n",
       "      <td>4.88</td>\n",
       "      <td>3.85</td>\n",
       "      <td>61676.81</td>\n",
       "    </tr>\n",
       "    <tr>\n",
       "      <th>min</th>\n",
       "      <td>15.00</td>\n",
       "      <td>0.00</td>\n",
       "      <td>0.00</td>\n",
       "      <td>124965.00</td>\n",
       "      <td>0.00</td>\n",
       "      <td>0.00</td>\n",
       "      <td>0.00</td>\n",
       "      <td>0.00</td>\n",
       "      <td>0.00</td>\n",
       "      <td>0.00</td>\n",
       "      <td>...</td>\n",
       "      <td>0.00</td>\n",
       "      <td>0.00</td>\n",
       "      <td>0.00</td>\n",
       "      <td>0.00</td>\n",
       "      <td>0.00</td>\n",
       "      <td>0.00</td>\n",
       "      <td>0.00</td>\n",
       "      <td>0.00</td>\n",
       "      <td>0.00</td>\n",
       "      <td>110.87</td>\n",
       "    </tr>\n",
       "    <tr>\n",
       "      <th>25%</th>\n",
       "      <td>787.00</td>\n",
       "      <td>191.00</td>\n",
       "      <td>243.00</td>\n",
       "      <td>198039.00</td>\n",
       "      <td>0.00</td>\n",
       "      <td>3232.50</td>\n",
       "      <td>0.00</td>\n",
       "      <td>0.00</td>\n",
       "      <td>0.00</td>\n",
       "      <td>0.00</td>\n",
       "      <td>...</td>\n",
       "      <td>0.00</td>\n",
       "      <td>0.00</td>\n",
       "      <td>0.00</td>\n",
       "      <td>0.00</td>\n",
       "      <td>0.00</td>\n",
       "      <td>0.00</td>\n",
       "      <td>0.00</td>\n",
       "      <td>0.00</td>\n",
       "      <td>0.00</td>\n",
       "      <td>3594.76</td>\n",
       "    </tr>\n",
       "    <tr>\n",
       "      <th>50%</th>\n",
       "      <td>1481.00</td>\n",
       "      <td>396.00</td>\n",
       "      <td>486.00</td>\n",
       "      <td>393843.00</td>\n",
       "      <td>0.00</td>\n",
       "      <td>7351.00</td>\n",
       "      <td>0.00</td>\n",
       "      <td>0.00</td>\n",
       "      <td>0.00</td>\n",
       "      <td>0.00</td>\n",
       "      <td>...</td>\n",
       "      <td>0.00</td>\n",
       "      <td>0.00</td>\n",
       "      <td>0.00</td>\n",
       "      <td>0.00</td>\n",
       "      <td>0.00</td>\n",
       "      <td>0.00</td>\n",
       "      <td>0.00</td>\n",
       "      <td>1.00</td>\n",
       "      <td>2.00</td>\n",
       "      <td>7678.65</td>\n",
       "    </tr>\n",
       "    <tr>\n",
       "      <th>75%</th>\n",
       "      <td>2932.00</td>\n",
       "      <td>645.00</td>\n",
       "      <td>729.00</td>\n",
       "      <td>935310.00</td>\n",
       "      <td>0.00</td>\n",
       "      <td>18357.00</td>\n",
       "      <td>0.00</td>\n",
       "      <td>0.00</td>\n",
       "      <td>0.00</td>\n",
       "      <td>0.00</td>\n",
       "      <td>...</td>\n",
       "      <td>0.00</td>\n",
       "      <td>0.00</td>\n",
       "      <td>0.00</td>\n",
       "      <td>0.00</td>\n",
       "      <td>0.00</td>\n",
       "      <td>0.00</td>\n",
       "      <td>0.00</td>\n",
       "      <td>3.00</td>\n",
       "      <td>3.00</td>\n",
       "      <td>18718.94</td>\n",
       "    </tr>\n",
       "    <tr>\n",
       "      <th>max</th>\n",
       "      <td>27671.00</td>\n",
       "      <td>1838511.00</td>\n",
       "      <td>972.00</td>\n",
       "      <td>22130730.00</td>\n",
       "      <td>1.00</td>\n",
       "      <td>1115123.00</td>\n",
       "      <td>1.00</td>\n",
       "      <td>1.00</td>\n",
       "      <td>1.00</td>\n",
       "      <td>1.00</td>\n",
       "      <td>...</td>\n",
       "      <td>1.00</td>\n",
       "      <td>1.00</td>\n",
       "      <td>1.00</td>\n",
       "      <td>1.00</td>\n",
       "      <td>1.00</td>\n",
       "      <td>1.00</td>\n",
       "      <td>1.00</td>\n",
       "      <td>31.00</td>\n",
       "      <td>57.00</td>\n",
       "      <td>875806.41</td>\n",
       "    </tr>\n",
       "  </tbody>\n",
       "</table>\n",
       "<p>8 rows × 23 columns</p>\n",
       "</div>"
      ],
      "text/plain": [
       "       numberPosts  numberFollowing    alias  numberFollowers  multipleImage  \\\n",
       "count     16539.00         16539.00 16539.00         16539.00       16539.00   \n",
       "mean       2315.73          2590.56   485.94        997829.41           0.03   \n",
       "std        2655.38         59090.66   280.86       1934400.77           0.17   \n",
       "min          15.00             0.00     0.00        124965.00           0.00   \n",
       "25%         787.00           191.00   243.00        198039.00           0.00   \n",
       "50%        1481.00           396.00   486.00        393843.00           0.00   \n",
       "75%        2932.00           645.00   729.00        935310.00           0.00   \n",
       "max       27671.00       1838511.00   972.00      22130730.00           1.00   \n",
       "\n",
       "       numberLikes  youtube    music   tumblr  facebook    ...         mon  \\\n",
       "count     16539.00 16539.00 16539.00 16539.00  16539.00    ...    16539.00   \n",
       "mean      24414.26     0.14     0.01     0.00      0.04    ...        0.11   \n",
       "std       64220.60     0.34     0.07     0.03      0.20    ...        0.31   \n",
       "min           0.00     0.00     0.00     0.00      0.00    ...        0.00   \n",
       "25%        3232.50     0.00     0.00     0.00      0.00    ...        0.00   \n",
       "50%        7351.00     0.00     0.00     0.00      0.00    ...        0.00   \n",
       "75%       18357.00     0.00     0.00     0.00      0.00    ...        0.00   \n",
       "max     1115123.00     1.00     1.00     1.00      1.00    ...        1.00   \n",
       "\n",
       "           tue      wed      thu      fri      sat      sun  numberTags  \\\n",
       "count 16539.00 16539.00 16539.00 16539.00 16539.00 16539.00    16539.00   \n",
       "mean      0.13     0.14     0.15     0.15     0.15     0.18        2.37   \n",
       "std       0.34     0.34     0.35     0.35     0.36     0.39        4.88   \n",
       "min       0.00     0.00     0.00     0.00     0.00     0.00        0.00   \n",
       "25%       0.00     0.00     0.00     0.00     0.00     0.00        0.00   \n",
       "50%       0.00     0.00     0.00     0.00     0.00     0.00        1.00   \n",
       "75%       0.00     0.00     0.00     0.00     0.00     0.00        3.00   \n",
       "max       1.00     1.00     1.00     1.00     1.00     1.00       31.00   \n",
       "\n",
       "       numberMentions      mean  \n",
       "count        16539.00  16539.00  \n",
       "mean             2.67  24414.26  \n",
       "std              3.85  61676.81  \n",
       "min              0.00    110.87  \n",
       "25%              0.00   3594.76  \n",
       "50%              2.00   7678.65  \n",
       "75%              3.00  18718.94  \n",
       "max             57.00 875806.41  \n",
       "\n",
       "[8 rows x 23 columns]"
      ]
     },
     "execution_count": 214,
     "metadata": {},
     "output_type": "execute_result"
    }
   ],
   "source": [
    "filtered = processed[processed['alias'].isin(selection)]\n",
    "\n",
    "filtered.describe()"
   ]
  },
  {
   "cell_type": "code",
   "execution_count": 111,
   "metadata": {},
   "outputs": [
    {
     "data": {
      "text/html": [
       "<div>\n",
       "<table border=\"1\" class=\"dataframe\">\n",
       "  <thead>\n",
       "    <tr style=\"text-align: right;\">\n",
       "      <th></th>\n",
       "      <th>numberPosts</th>\n",
       "      <th>numberFollowing</th>\n",
       "      <th>alias</th>\n",
       "      <th>numberFollowers</th>\n",
       "      <th>multipleImage</th>\n",
       "      <th>numberLikes</th>\n",
       "      <th>youtube</th>\n",
       "      <th>music</th>\n",
       "      <th>tumblr</th>\n",
       "      <th>facebook</th>\n",
       "      <th>...</th>\n",
       "      <th>mon</th>\n",
       "      <th>tue</th>\n",
       "      <th>wed</th>\n",
       "      <th>thu</th>\n",
       "      <th>fri</th>\n",
       "      <th>sat</th>\n",
       "      <th>sun</th>\n",
       "      <th>numberTags</th>\n",
       "      <th>numberMentions</th>\n",
       "      <th>mean</th>\n",
       "    </tr>\n",
       "  </thead>\n",
       "  <tbody>\n",
       "    <tr>\n",
       "      <th>0</th>\n",
       "      <td>988</td>\n",
       "      <td>233</td>\n",
       "      <td>0</td>\n",
       "      <td>720979</td>\n",
       "      <td>0</td>\n",
       "      <td>10047</td>\n",
       "      <td>0</td>\n",
       "      <td>0</td>\n",
       "      <td>0</td>\n",
       "      <td>0</td>\n",
       "      <td>...</td>\n",
       "      <td>0</td>\n",
       "      <td>0</td>\n",
       "      <td>0</td>\n",
       "      <td>0</td>\n",
       "      <td>0</td>\n",
       "      <td>1</td>\n",
       "      <td>0</td>\n",
       "      <td>1</td>\n",
       "      <td>7</td>\n",
       "      <td>23400.94</td>\n",
       "    </tr>\n",
       "    <tr>\n",
       "      <th>1</th>\n",
       "      <td>988</td>\n",
       "      <td>233</td>\n",
       "      <td>0</td>\n",
       "      <td>720979</td>\n",
       "      <td>0</td>\n",
       "      <td>16781</td>\n",
       "      <td>0</td>\n",
       "      <td>0</td>\n",
       "      <td>0</td>\n",
       "      <td>0</td>\n",
       "      <td>...</td>\n",
       "      <td>0</td>\n",
       "      <td>0</td>\n",
       "      <td>0</td>\n",
       "      <td>0</td>\n",
       "      <td>0</td>\n",
       "      <td>1</td>\n",
       "      <td>0</td>\n",
       "      <td>3</td>\n",
       "      <td>8</td>\n",
       "      <td>23400.94</td>\n",
       "    </tr>\n",
       "  </tbody>\n",
       "</table>\n",
       "<p>2 rows × 23 columns</p>\n",
       "</div>"
      ],
      "text/plain": [
       "   numberPosts  numberFollowing  alias  numberFollowers  multipleImage  \\\n",
       "0          988              233      0           720979              0   \n",
       "1          988              233      0           720979              0   \n",
       "\n",
       "   numberLikes  youtube  music  tumblr  facebook   ...     mon  tue  wed  thu  \\\n",
       "0        10047        0      0       0         0   ...       0    0    0    0   \n",
       "1        16781        0      0       0         0   ...       0    0    0    0   \n",
       "\n",
       "   fri  sat  sun  numberTags  numberMentions     mean  \n",
       "0    0    1    0           1               7 23400.94  \n",
       "1    0    1    0           3               8 23400.94  \n",
       "\n",
       "[2 rows x 23 columns]"
      ]
     },
     "execution_count": 111,
     "metadata": {},
     "output_type": "execute_result"
    }
   ],
   "source": [
    "processed[processed['alias'].astype(int)==0][0:2]"
   ]
  },
  {
   "cell_type": "code",
   "execution_count": 218,
   "metadata": {
    "collapsed": true
   },
   "outputs": [],
   "source": [
    "pr = processed.copy()"
   ]
  },
  {
   "cell_type": "code",
   "execution_count": 219,
   "metadata": {},
   "outputs": [
    {
     "data": {
      "text/plain": [
       "(16539, 23)"
      ]
     },
     "execution_count": 219,
     "metadata": {},
     "output_type": "execute_result"
    }
   ],
   "source": [
    "pr.shape"
   ]
  },
  {
   "cell_type": "code",
   "execution_count": 112,
   "metadata": {},
   "outputs": [
    {
     "data": {
      "text/html": [
       "<div>\n",
       "<table border=\"1\" class=\"dataframe\">\n",
       "  <thead>\n",
       "    <tr style=\"text-align: right;\">\n",
       "      <th></th>\n",
       "      <th>numberPosts</th>\n",
       "      <th>website</th>\n",
       "      <th>numberFollowing</th>\n",
       "      <th>descriptionProfile</th>\n",
       "      <th>alias</th>\n",
       "      <th>numberFollowers</th>\n",
       "      <th>date</th>\n",
       "      <th>mentions</th>\n",
       "      <th>multipleImage</th>\n",
       "      <th>localization</th>\n",
       "      <th>tags</th>\n",
       "      <th>numberLikes</th>\n",
       "      <th>description</th>\n",
       "      <th>aliasNum</th>\n",
       "    </tr>\n",
       "  </thead>\n",
       "  <tbody>\n",
       "    <tr>\n",
       "      <th>0</th>\n",
       "      <td>988</td>\n",
       "      <td>www.sylviemeis.de</td>\n",
       "      <td>233</td>\n",
       "      <td>TV Host Let's Dance for RTL Germany / SBS6 / P...</td>\n",
       "      <td>1misssmeis</td>\n",
       "      <td>720979</td>\n",
       "      <td>2017-04-29T05:00:00.000Z</td>\n",
       "      <td>['@fraukeludowig_official', '@rtl_exclusiv', '...</td>\n",
       "      <td>False</td>\n",
       "      <td>NaN</td>\n",
       "      <td>['#exclusivspezial']</td>\n",
       "      <td>10047</td>\n",
       "      <td>With my lovely colleague @fraukeludowig_offici...</td>\n",
       "      <td>0</td>\n",
       "    </tr>\n",
       "    <tr>\n",
       "      <th>1</th>\n",
       "      <td>988</td>\n",
       "      <td>www.sylviemeis.de</td>\n",
       "      <td>233</td>\n",
       "      <td>TV Host Let's Dance for RTL Germany / SBS6 / P...</td>\n",
       "      <td>1misssmeis</td>\n",
       "      <td>720979</td>\n",
       "      <td>2017-04-29T05:00:00.000Z</td>\n",
       "      <td>['@tine', '@rachelzoe', '@lecolook', '@letsdan...</td>\n",
       "      <td>False</td>\n",
       "      <td>NaN</td>\n",
       "      <td>['#jumpsuit', '#glam', '#ootn']</td>\n",
       "      <td>16781</td>\n",
       "      <td>My look last night, hosting Let's Dance! Style...</td>\n",
       "      <td>0</td>\n",
       "    </tr>\n",
       "    <tr>\n",
       "      <th>2</th>\n",
       "      <td>988</td>\n",
       "      <td>www.sylviemeis.de</td>\n",
       "      <td>233</td>\n",
       "      <td>TV Host Let's Dance for RTL Germany / SBS6 / P...</td>\n",
       "      <td>1misssmeis</td>\n",
       "      <td>720979</td>\n",
       "      <td>2017-04-27T05:00:00.000Z</td>\n",
       "      <td>['@letsdance', '@rtlde', '@rtlde', '@letsdance']</td>\n",
       "      <td>False</td>\n",
       "      <td>NaN</td>\n",
       "      <td>['#rehearsalday', '#behindthescenes']</td>\n",
       "      <td>11227</td>\n",
       "      <td>Calm before the 'glam' storm! 💋💄💅🏻💆🏼💇🏼Tomorrow...</td>\n",
       "      <td>0</td>\n",
       "    </tr>\n",
       "    <tr>\n",
       "      <th>3</th>\n",
       "      <td>988</td>\n",
       "      <td>www.sylviemeis.de</td>\n",
       "      <td>233</td>\n",
       "      <td>TV Host Let's Dance for RTL Germany / SBS6 / P...</td>\n",
       "      <td>1misssmeis</td>\n",
       "      <td>720979</td>\n",
       "      <td>2017-04-24T05:00:00.000Z</td>\n",
       "      <td>['@bydanienl', '@roland_mouret', '@casadeioffi...</td>\n",
       "      <td>False</td>\n",
       "      <td>NaN</td>\n",
       "      <td>['#dress', '#shoes', '#glam']</td>\n",
       "      <td>21539</td>\n",
       "      <td>🌼Today's look for QVC.. styled by @bydanienl #...</td>\n",
       "      <td>0</td>\n",
       "    </tr>\n",
       "    <tr>\n",
       "      <th>4</th>\n",
       "      <td>988</td>\n",
       "      <td>www.sylviemeis.de</td>\n",
       "      <td>233</td>\n",
       "      <td>TV Host Let's Dance for RTL Germany / SBS6 / P...</td>\n",
       "      <td>1misssmeis</td>\n",
       "      <td>720979</td>\n",
       "      <td>2017-04-22T05:00:00.000Z</td>\n",
       "      <td>['@elisabettafranchi', '@serenagoldenbaum']</td>\n",
       "      <td>False</td>\n",
       "      <td>NaN</td>\n",
       "      <td>['#weekend', '#yay', '#happyweekend', '#kiss']</td>\n",
       "      <td>21054</td>\n",
       "      <td>💋Happy Weekend Lovelies ❤ #weekend #yay #happy...</td>\n",
       "      <td>0</td>\n",
       "    </tr>\n",
       "  </tbody>\n",
       "</table>\n",
       "</div>"
      ],
      "text/plain": [
       "   numberPosts            website  numberFollowing  \\\n",
       "0          988  www.sylviemeis.de              233   \n",
       "1          988  www.sylviemeis.de              233   \n",
       "2          988  www.sylviemeis.de              233   \n",
       "3          988  www.sylviemeis.de              233   \n",
       "4          988  www.sylviemeis.de              233   \n",
       "\n",
       "                                  descriptionProfile       alias  \\\n",
       "0  TV Host Let's Dance for RTL Germany / SBS6 / P...  1misssmeis   \n",
       "1  TV Host Let's Dance for RTL Germany / SBS6 / P...  1misssmeis   \n",
       "2  TV Host Let's Dance for RTL Germany / SBS6 / P...  1misssmeis   \n",
       "3  TV Host Let's Dance for RTL Germany / SBS6 / P...  1misssmeis   \n",
       "4  TV Host Let's Dance for RTL Germany / SBS6 / P...  1misssmeis   \n",
       "\n",
       "   numberFollowers                      date  \\\n",
       "0           720979  2017-04-29T05:00:00.000Z   \n",
       "1           720979  2017-04-29T05:00:00.000Z   \n",
       "2           720979  2017-04-27T05:00:00.000Z   \n",
       "3           720979  2017-04-24T05:00:00.000Z   \n",
       "4           720979  2017-04-22T05:00:00.000Z   \n",
       "\n",
       "                                            mentions multipleImage  \\\n",
       "0  ['@fraukeludowig_official', '@rtl_exclusiv', '...         False   \n",
       "1  ['@tine', '@rachelzoe', '@lecolook', '@letsdan...         False   \n",
       "2   ['@letsdance', '@rtlde', '@rtlde', '@letsdance']         False   \n",
       "3  ['@bydanienl', '@roland_mouret', '@casadeioffi...         False   \n",
       "4        ['@elisabettafranchi', '@serenagoldenbaum']         False   \n",
       "\n",
       "  localization                                            tags  numberLikes  \\\n",
       "0          NaN                            ['#exclusivspezial']        10047   \n",
       "1          NaN                 ['#jumpsuit', '#glam', '#ootn']        16781   \n",
       "2          NaN           ['#rehearsalday', '#behindthescenes']        11227   \n",
       "3          NaN                   ['#dress', '#shoes', '#glam']        21539   \n",
       "4          NaN  ['#weekend', '#yay', '#happyweekend', '#kiss']        21054   \n",
       "\n",
       "                                         description  aliasNum  \n",
       "0  With my lovely colleague @fraukeludowig_offici...         0  \n",
       "1  My look last night, hosting Let's Dance! Style...         0  \n",
       "2  Calm before the 'glam' storm! 💋💄💅🏻💆🏼💇🏼Tomorrow...         0  \n",
       "3  🌼Today's look for QVC.. styled by @bydanienl #...         0  \n",
       "4  💋Happy Weekend Lovelies ❤ #weekend #yay #happy...         0  "
      ]
     },
     "execution_count": 112,
     "metadata": {},
     "output_type": "execute_result"
    }
   ],
   "source": [
    "pro_copy.head()"
   ]
  },
  {
   "cell_type": "code",
   "execution_count": 215,
   "metadata": {},
   "outputs": [
    {
     "data": {
      "text/html": [
       "<div>\n",
       "<table border=\"1\" class=\"dataframe\">\n",
       "  <thead>\n",
       "    <tr style=\"text-align: right;\">\n",
       "      <th></th>\n",
       "      <th>numberPosts</th>\n",
       "      <th>numberFollowing</th>\n",
       "      <th>alias</th>\n",
       "      <th>numberFollowers</th>\n",
       "      <th>multipleImage</th>\n",
       "      <th>numberLikes</th>\n",
       "      <th>youtube</th>\n",
       "      <th>music</th>\n",
       "      <th>tumblr</th>\n",
       "      <th>facebook</th>\n",
       "      <th>...</th>\n",
       "      <th>mon</th>\n",
       "      <th>tue</th>\n",
       "      <th>wed</th>\n",
       "      <th>thu</th>\n",
       "      <th>fri</th>\n",
       "      <th>sat</th>\n",
       "      <th>sun</th>\n",
       "      <th>numberTags</th>\n",
       "      <th>numberMentions</th>\n",
       "      <th>mean</th>\n",
       "    </tr>\n",
       "  </thead>\n",
       "  <tbody>\n",
       "    <tr>\n",
       "      <th>count</th>\n",
       "      <td>16539.00</td>\n",
       "      <td>16539.00</td>\n",
       "      <td>16539.00</td>\n",
       "      <td>16539.00</td>\n",
       "      <td>16539.00</td>\n",
       "      <td>16539.00</td>\n",
       "      <td>16539.00</td>\n",
       "      <td>16539.00</td>\n",
       "      <td>16539.00</td>\n",
       "      <td>16539.00</td>\n",
       "      <td>...</td>\n",
       "      <td>16539.00</td>\n",
       "      <td>16539.00</td>\n",
       "      <td>16539.00</td>\n",
       "      <td>16539.00</td>\n",
       "      <td>16539.00</td>\n",
       "      <td>16539.00</td>\n",
       "      <td>16539.00</td>\n",
       "      <td>16539.00</td>\n",
       "      <td>16539.00</td>\n",
       "      <td>16539.00</td>\n",
       "    </tr>\n",
       "    <tr>\n",
       "      <th>mean</th>\n",
       "      <td>2315.73</td>\n",
       "      <td>2590.56</td>\n",
       "      <td>485.94</td>\n",
       "      <td>997829.41</td>\n",
       "      <td>0.03</td>\n",
       "      <td>24414.26</td>\n",
       "      <td>0.14</td>\n",
       "      <td>0.01</td>\n",
       "      <td>0.00</td>\n",
       "      <td>0.04</td>\n",
       "      <td>...</td>\n",
       "      <td>0.11</td>\n",
       "      <td>0.13</td>\n",
       "      <td>0.14</td>\n",
       "      <td>0.15</td>\n",
       "      <td>0.15</td>\n",
       "      <td>0.15</td>\n",
       "      <td>0.18</td>\n",
       "      <td>2.37</td>\n",
       "      <td>2.67</td>\n",
       "      <td>24414.26</td>\n",
       "    </tr>\n",
       "    <tr>\n",
       "      <th>std</th>\n",
       "      <td>2655.38</td>\n",
       "      <td>59090.66</td>\n",
       "      <td>280.86</td>\n",
       "      <td>1934400.77</td>\n",
       "      <td>0.17</td>\n",
       "      <td>64220.60</td>\n",
       "      <td>0.34</td>\n",
       "      <td>0.07</td>\n",
       "      <td>0.03</td>\n",
       "      <td>0.20</td>\n",
       "      <td>...</td>\n",
       "      <td>0.31</td>\n",
       "      <td>0.34</td>\n",
       "      <td>0.34</td>\n",
       "      <td>0.35</td>\n",
       "      <td>0.35</td>\n",
       "      <td>0.36</td>\n",
       "      <td>0.39</td>\n",
       "      <td>4.88</td>\n",
       "      <td>3.85</td>\n",
       "      <td>61676.81</td>\n",
       "    </tr>\n",
       "    <tr>\n",
       "      <th>min</th>\n",
       "      <td>15.00</td>\n",
       "      <td>0.00</td>\n",
       "      <td>0.00</td>\n",
       "      <td>124965.00</td>\n",
       "      <td>0.00</td>\n",
       "      <td>0.00</td>\n",
       "      <td>0.00</td>\n",
       "      <td>0.00</td>\n",
       "      <td>0.00</td>\n",
       "      <td>0.00</td>\n",
       "      <td>...</td>\n",
       "      <td>0.00</td>\n",
       "      <td>0.00</td>\n",
       "      <td>0.00</td>\n",
       "      <td>0.00</td>\n",
       "      <td>0.00</td>\n",
       "      <td>0.00</td>\n",
       "      <td>0.00</td>\n",
       "      <td>0.00</td>\n",
       "      <td>0.00</td>\n",
       "      <td>110.87</td>\n",
       "    </tr>\n",
       "    <tr>\n",
       "      <th>25%</th>\n",
       "      <td>787.00</td>\n",
       "      <td>191.00</td>\n",
       "      <td>243.00</td>\n",
       "      <td>198039.00</td>\n",
       "      <td>0.00</td>\n",
       "      <td>3232.50</td>\n",
       "      <td>0.00</td>\n",
       "      <td>0.00</td>\n",
       "      <td>0.00</td>\n",
       "      <td>0.00</td>\n",
       "      <td>...</td>\n",
       "      <td>0.00</td>\n",
       "      <td>0.00</td>\n",
       "      <td>0.00</td>\n",
       "      <td>0.00</td>\n",
       "      <td>0.00</td>\n",
       "      <td>0.00</td>\n",
       "      <td>0.00</td>\n",
       "      <td>0.00</td>\n",
       "      <td>0.00</td>\n",
       "      <td>3594.76</td>\n",
       "    </tr>\n",
       "    <tr>\n",
       "      <th>50%</th>\n",
       "      <td>1481.00</td>\n",
       "      <td>396.00</td>\n",
       "      <td>486.00</td>\n",
       "      <td>393843.00</td>\n",
       "      <td>0.00</td>\n",
       "      <td>7351.00</td>\n",
       "      <td>0.00</td>\n",
       "      <td>0.00</td>\n",
       "      <td>0.00</td>\n",
       "      <td>0.00</td>\n",
       "      <td>...</td>\n",
       "      <td>0.00</td>\n",
       "      <td>0.00</td>\n",
       "      <td>0.00</td>\n",
       "      <td>0.00</td>\n",
       "      <td>0.00</td>\n",
       "      <td>0.00</td>\n",
       "      <td>0.00</td>\n",
       "      <td>1.00</td>\n",
       "      <td>2.00</td>\n",
       "      <td>7678.65</td>\n",
       "    </tr>\n",
       "    <tr>\n",
       "      <th>75%</th>\n",
       "      <td>2932.00</td>\n",
       "      <td>645.00</td>\n",
       "      <td>729.00</td>\n",
       "      <td>935310.00</td>\n",
       "      <td>0.00</td>\n",
       "      <td>18357.00</td>\n",
       "      <td>0.00</td>\n",
       "      <td>0.00</td>\n",
       "      <td>0.00</td>\n",
       "      <td>0.00</td>\n",
       "      <td>...</td>\n",
       "      <td>0.00</td>\n",
       "      <td>0.00</td>\n",
       "      <td>0.00</td>\n",
       "      <td>0.00</td>\n",
       "      <td>0.00</td>\n",
       "      <td>0.00</td>\n",
       "      <td>0.00</td>\n",
       "      <td>3.00</td>\n",
       "      <td>3.00</td>\n",
       "      <td>18718.94</td>\n",
       "    </tr>\n",
       "    <tr>\n",
       "      <th>max</th>\n",
       "      <td>27671.00</td>\n",
       "      <td>1838511.00</td>\n",
       "      <td>972.00</td>\n",
       "      <td>22130730.00</td>\n",
       "      <td>1.00</td>\n",
       "      <td>1115123.00</td>\n",
       "      <td>1.00</td>\n",
       "      <td>1.00</td>\n",
       "      <td>1.00</td>\n",
       "      <td>1.00</td>\n",
       "      <td>...</td>\n",
       "      <td>1.00</td>\n",
       "      <td>1.00</td>\n",
       "      <td>1.00</td>\n",
       "      <td>1.00</td>\n",
       "      <td>1.00</td>\n",
       "      <td>1.00</td>\n",
       "      <td>1.00</td>\n",
       "      <td>31.00</td>\n",
       "      <td>57.00</td>\n",
       "      <td>875806.41</td>\n",
       "    </tr>\n",
       "  </tbody>\n",
       "</table>\n",
       "<p>8 rows × 23 columns</p>\n",
       "</div>"
      ],
      "text/plain": [
       "       numberPosts  numberFollowing    alias  numberFollowers  multipleImage  \\\n",
       "count     16539.00         16539.00 16539.00         16539.00       16539.00   \n",
       "mean       2315.73          2590.56   485.94        997829.41           0.03   \n",
       "std        2655.38         59090.66   280.86       1934400.77           0.17   \n",
       "min          15.00             0.00     0.00        124965.00           0.00   \n",
       "25%         787.00           191.00   243.00        198039.00           0.00   \n",
       "50%        1481.00           396.00   486.00        393843.00           0.00   \n",
       "75%        2932.00           645.00   729.00        935310.00           0.00   \n",
       "max       27671.00       1838511.00   972.00      22130730.00           1.00   \n",
       "\n",
       "       numberLikes  youtube    music   tumblr  facebook    ...         mon  \\\n",
       "count     16539.00 16539.00 16539.00 16539.00  16539.00    ...    16539.00   \n",
       "mean      24414.26     0.14     0.01     0.00      0.04    ...        0.11   \n",
       "std       64220.60     0.34     0.07     0.03      0.20    ...        0.31   \n",
       "min           0.00     0.00     0.00     0.00      0.00    ...        0.00   \n",
       "25%        3232.50     0.00     0.00     0.00      0.00    ...        0.00   \n",
       "50%        7351.00     0.00     0.00     0.00      0.00    ...        0.00   \n",
       "75%       18357.00     0.00     0.00     0.00      0.00    ...        0.00   \n",
       "max     1115123.00     1.00     1.00     1.00      1.00    ...        1.00   \n",
       "\n",
       "           tue      wed      thu      fri      sat      sun  numberTags  \\\n",
       "count 16539.00 16539.00 16539.00 16539.00 16539.00 16539.00    16539.00   \n",
       "mean      0.13     0.14     0.15     0.15     0.15     0.18        2.37   \n",
       "std       0.34     0.34     0.35     0.35     0.36     0.39        4.88   \n",
       "min       0.00     0.00     0.00     0.00     0.00     0.00        0.00   \n",
       "25%       0.00     0.00     0.00     0.00     0.00     0.00        0.00   \n",
       "50%       0.00     0.00     0.00     0.00     0.00     0.00        1.00   \n",
       "75%       0.00     0.00     0.00     0.00     0.00     0.00        3.00   \n",
       "max       1.00     1.00     1.00     1.00     1.00     1.00       31.00   \n",
       "\n",
       "       numberMentions      mean  \n",
       "count        16539.00  16539.00  \n",
       "mean             2.67  24414.26  \n",
       "std              3.85  61676.81  \n",
       "min              0.00    110.87  \n",
       "25%              0.00   3594.76  \n",
       "50%              2.00   7678.65  \n",
       "75%              3.00  18718.94  \n",
       "max             57.00 875806.41  \n",
       "\n",
       "[8 rows x 23 columns]"
      ]
     },
     "execution_count": 215,
     "metadata": {},
     "output_type": "execute_result"
    }
   ],
   "source": [
    "filtered = pro_copy[pro_copy['alias'].isin(selection)]\n",
    "filtered.describe()"
   ]
  },
  {
   "cell_type": "code",
   "execution_count": 216,
   "metadata": {
    "collapsed": true
   },
   "outputs": [],
   "source": [
    "modified = filtered.drop(['alias'],axis=1)\n",
    "modified = modified.reset_index(drop=True)"
   ]
  },
  {
   "cell_type": "code",
   "execution_count": 217,
   "metadata": {},
   "outputs": [
    {
     "data": {
      "text/html": [
       "<div>\n",
       "<table border=\"1\" class=\"dataframe\">\n",
       "  <thead>\n",
       "    <tr style=\"text-align: right;\">\n",
       "      <th></th>\n",
       "      <th>numberPosts</th>\n",
       "      <th>numberFollowing</th>\n",
       "      <th>numberFollowers</th>\n",
       "      <th>multipleImage</th>\n",
       "      <th>numberLikes</th>\n",
       "      <th>youtube</th>\n",
       "      <th>music</th>\n",
       "      <th>tumblr</th>\n",
       "      <th>facebook</th>\n",
       "      <th>blog</th>\n",
       "      <th>...</th>\n",
       "      <th>mon</th>\n",
       "      <th>tue</th>\n",
       "      <th>wed</th>\n",
       "      <th>thu</th>\n",
       "      <th>fri</th>\n",
       "      <th>sat</th>\n",
       "      <th>sun</th>\n",
       "      <th>numberTags</th>\n",
       "      <th>numberMentions</th>\n",
       "      <th>mean</th>\n",
       "    </tr>\n",
       "  </thead>\n",
       "  <tbody>\n",
       "    <tr>\n",
       "      <th>0</th>\n",
       "      <td>988</td>\n",
       "      <td>233</td>\n",
       "      <td>720979</td>\n",
       "      <td>0</td>\n",
       "      <td>10047</td>\n",
       "      <td>0</td>\n",
       "      <td>0</td>\n",
       "      <td>0</td>\n",
       "      <td>0</td>\n",
       "      <td>0</td>\n",
       "      <td>...</td>\n",
       "      <td>0</td>\n",
       "      <td>0</td>\n",
       "      <td>0</td>\n",
       "      <td>0</td>\n",
       "      <td>0</td>\n",
       "      <td>1</td>\n",
       "      <td>0</td>\n",
       "      <td>1</td>\n",
       "      <td>7</td>\n",
       "      <td>23400.94</td>\n",
       "    </tr>\n",
       "    <tr>\n",
       "      <th>1</th>\n",
       "      <td>988</td>\n",
       "      <td>233</td>\n",
       "      <td>720979</td>\n",
       "      <td>0</td>\n",
       "      <td>16781</td>\n",
       "      <td>0</td>\n",
       "      <td>0</td>\n",
       "      <td>0</td>\n",
       "      <td>0</td>\n",
       "      <td>0</td>\n",
       "      <td>...</td>\n",
       "      <td>0</td>\n",
       "      <td>0</td>\n",
       "      <td>0</td>\n",
       "      <td>0</td>\n",
       "      <td>0</td>\n",
       "      <td>1</td>\n",
       "      <td>0</td>\n",
       "      <td>3</td>\n",
       "      <td>8</td>\n",
       "      <td>23400.94</td>\n",
       "    </tr>\n",
       "    <tr>\n",
       "      <th>2</th>\n",
       "      <td>988</td>\n",
       "      <td>233</td>\n",
       "      <td>720979</td>\n",
       "      <td>0</td>\n",
       "      <td>11227</td>\n",
       "      <td>0</td>\n",
       "      <td>0</td>\n",
       "      <td>0</td>\n",
       "      <td>0</td>\n",
       "      <td>0</td>\n",
       "      <td>...</td>\n",
       "      <td>0</td>\n",
       "      <td>0</td>\n",
       "      <td>0</td>\n",
       "      <td>1</td>\n",
       "      <td>0</td>\n",
       "      <td>0</td>\n",
       "      <td>0</td>\n",
       "      <td>2</td>\n",
       "      <td>4</td>\n",
       "      <td>23400.94</td>\n",
       "    </tr>\n",
       "    <tr>\n",
       "      <th>3</th>\n",
       "      <td>988</td>\n",
       "      <td>233</td>\n",
       "      <td>720979</td>\n",
       "      <td>0</td>\n",
       "      <td>21539</td>\n",
       "      <td>0</td>\n",
       "      <td>0</td>\n",
       "      <td>0</td>\n",
       "      <td>0</td>\n",
       "      <td>0</td>\n",
       "      <td>...</td>\n",
       "      <td>1</td>\n",
       "      <td>0</td>\n",
       "      <td>0</td>\n",
       "      <td>0</td>\n",
       "      <td>0</td>\n",
       "      <td>0</td>\n",
       "      <td>0</td>\n",
       "      <td>3</td>\n",
       "      <td>13</td>\n",
       "      <td>23400.94</td>\n",
       "    </tr>\n",
       "    <tr>\n",
       "      <th>4</th>\n",
       "      <td>988</td>\n",
       "      <td>233</td>\n",
       "      <td>720979</td>\n",
       "      <td>0</td>\n",
       "      <td>21054</td>\n",
       "      <td>0</td>\n",
       "      <td>0</td>\n",
       "      <td>0</td>\n",
       "      <td>0</td>\n",
       "      <td>0</td>\n",
       "      <td>...</td>\n",
       "      <td>0</td>\n",
       "      <td>0</td>\n",
       "      <td>0</td>\n",
       "      <td>0</td>\n",
       "      <td>0</td>\n",
       "      <td>1</td>\n",
       "      <td>0</td>\n",
       "      <td>4</td>\n",
       "      <td>2</td>\n",
       "      <td>23400.94</td>\n",
       "    </tr>\n",
       "  </tbody>\n",
       "</table>\n",
       "<p>5 rows × 22 columns</p>\n",
       "</div>"
      ],
      "text/plain": [
       "   numberPosts  numberFollowing  numberFollowers  multipleImage  numberLikes  \\\n",
       "0          988              233           720979              0        10047   \n",
       "1          988              233           720979              0        16781   \n",
       "2          988              233           720979              0        11227   \n",
       "3          988              233           720979              0        21539   \n",
       "4          988              233           720979              0        21054   \n",
       "\n",
       "   youtube  music  tumblr  facebook  blog   ...     mon  tue  wed  thu  fri  \\\n",
       "0        0      0       0         0     0   ...       0    0    0    0    0   \n",
       "1        0      0       0         0     0   ...       0    0    0    0    0   \n",
       "2        0      0       0         0     0   ...       0    0    0    1    0   \n",
       "3        0      0       0         0     0   ...       1    0    0    0    0   \n",
       "4        0      0       0         0     0   ...       0    0    0    0    0   \n",
       "\n",
       "   sat  sun  numberTags  numberMentions     mean  \n",
       "0    1    0           1               7 23400.94  \n",
       "1    1    0           3               8 23400.94  \n",
       "2    0    0           2               4 23400.94  \n",
       "3    0    0           3              13 23400.94  \n",
       "4    1    0           4               2 23400.94  \n",
       "\n",
       "[5 rows x 22 columns]"
      ]
     },
     "execution_count": 217,
     "metadata": {},
     "output_type": "execute_result"
    }
   ],
   "source": [
    "modified.head()"
   ]
  },
  {
   "cell_type": "markdown",
   "metadata": {
    "collapsed": true
   },
   "source": [
    "# NLP - feature extraction"
   ]
  },
  {
   "cell_type": "code",
   "execution_count": 220,
   "metadata": {
    "collapsed": true
   },
   "outputs": [],
   "source": [
    "full = pd.read_csv('dataset.csv', na_values='NaN')"
   ]
  },
  {
   "cell_type": "code",
   "execution_count": 221,
   "metadata": {
    "collapsed": true
   },
   "outputs": [],
   "source": [
    "y = full['numberLikes']"
   ]
  },
  {
   "cell_type": "code",
   "execution_count": 222,
   "metadata": {
    "collapsed": true
   },
   "outputs": [],
   "source": [
    "toDrop = ['username', 'urlProfile', 'urlImgProfile', 'filename', 'url', 'urlImage', 'isVideo']\n",
    "processed = full.drop(toDrop,axis=1)"
   ]
  },
  {
   "cell_type": "code",
   "execution_count": 223,
   "metadata": {
    "collapsed": true
   },
   "outputs": [],
   "source": [
    "le = preprocessing.LabelEncoder()\n",
    "le.fit(processed[\"alias\"])\n",
    "list(le.classes_)\n",
    "alias_num=le.transform(processed[\"alias\"])\n",
    "#list(le.inverse_transform(alias_num))\n",
    "processed[\"aliasNum\"]=alias_num"
   ]
  },
  {
   "cell_type": "code",
   "execution_count": 224,
   "metadata": {
    "collapsed": true
   },
   "outputs": [],
   "source": [
    "avgLikes = []\n",
    "numFollowers = []\n",
    "selection = []\n",
    "\n",
    "for i in range(0,np.max(processed[\"aliasNum\"],axis=0)):\n",
    "    numFollowers=np.append(numFollowers, processed[processed[\"aliasNum\"]==i]['numberFollowers'].iloc[0])\n",
    "    avgLikes=np.append(avgLikes, np.sum(processed[processed[\"aliasNum\"]==i][\"numberLikes\"])/len(processed[processed[\"aliasNum\"]==i]))\n",
    "    if (avgLikes[i]<200000 and processed[processed[\"aliasNum\"]==i]['numberFollowers'].iloc[0]<10000000):\n",
    "        selection=np.append(selection, i)"
   ]
  },
  {
   "cell_type": "code",
   "execution_count": 225,
   "metadata": {
    "collapsed": true
   },
   "outputs": [],
   "source": [
    "filtered=processed[processed['aliasNum'].isin(selection)].reset_index(drop=True)"
   ]
  },
  {
   "cell_type": "code",
   "execution_count": 226,
   "metadata": {},
   "outputs": [
    {
     "data": {
      "text/html": [
       "<div>\n",
       "<table border=\"1\" class=\"dataframe\">\n",
       "  <thead>\n",
       "    <tr style=\"text-align: right;\">\n",
       "      <th></th>\n",
       "      <th>numberPosts</th>\n",
       "      <th>numberFollowing</th>\n",
       "      <th>numberFollowers</th>\n",
       "      <th>numberLikes</th>\n",
       "      <th>aliasNum</th>\n",
       "    </tr>\n",
       "  </thead>\n",
       "  <tbody>\n",
       "    <tr>\n",
       "      <th>count</th>\n",
       "      <td>16148.00</td>\n",
       "      <td>16148.00</td>\n",
       "      <td>16148.00</td>\n",
       "      <td>16148.00</td>\n",
       "      <td>16148.00</td>\n",
       "    </tr>\n",
       "    <tr>\n",
       "      <th>mean</th>\n",
       "      <td>2318.17</td>\n",
       "      <td>2646.36</td>\n",
       "      <td>796490.06</td>\n",
       "      <td>17190.43</td>\n",
       "      <td>484.72</td>\n",
       "    </tr>\n",
       "    <tr>\n",
       "      <th>std</th>\n",
       "      <td>2656.96</td>\n",
       "      <td>59800.71</td>\n",
       "      <td>1182281.15</td>\n",
       "      <td>29268.59</td>\n",
       "      <td>280.08</td>\n",
       "    </tr>\n",
       "    <tr>\n",
       "      <th>min</th>\n",
       "      <td>15.00</td>\n",
       "      <td>0.00</td>\n",
       "      <td>124965.00</td>\n",
       "      <td>0.00</td>\n",
       "      <td>0.00</td>\n",
       "    </tr>\n",
       "    <tr>\n",
       "      <th>25%</th>\n",
       "      <td>800.00</td>\n",
       "      <td>192.00</td>\n",
       "      <td>196489.00</td>\n",
       "      <td>3171.00</td>\n",
       "      <td>242.00</td>\n",
       "    </tr>\n",
       "    <tr>\n",
       "      <th>50%</th>\n",
       "      <td>1495.00</td>\n",
       "      <td>397.00</td>\n",
       "      <td>375671.00</td>\n",
       "      <td>7120.50</td>\n",
       "      <td>484.00</td>\n",
       "    </tr>\n",
       "    <tr>\n",
       "      <th>75%</th>\n",
       "      <td>2932.00</td>\n",
       "      <td>651.00</td>\n",
       "      <td>882392.00</td>\n",
       "      <td>16994.75</td>\n",
       "      <td>727.00</td>\n",
       "    </tr>\n",
       "    <tr>\n",
       "      <th>max</th>\n",
       "      <td>27671.00</td>\n",
       "      <td>1838511.00</td>\n",
       "      <td>9296371.00</td>\n",
       "      <td>364016.00</td>\n",
       "      <td>971.00</td>\n",
       "    </tr>\n",
       "  </tbody>\n",
       "</table>\n",
       "</div>"
      ],
      "text/plain": [
       "       numberPosts  numberFollowing  numberFollowers  numberLikes  aliasNum\n",
       "count     16148.00         16148.00         16148.00     16148.00  16148.00\n",
       "mean       2318.17          2646.36        796490.06     17190.43    484.72\n",
       "std        2656.96         59800.71       1182281.15     29268.59    280.08\n",
       "min          15.00             0.00        124965.00         0.00      0.00\n",
       "25%         800.00           192.00        196489.00      3171.00    242.00\n",
       "50%        1495.00           397.00        375671.00      7120.50    484.00\n",
       "75%        2932.00           651.00        882392.00     16994.75    727.00\n",
       "max       27671.00       1838511.00       9296371.00    364016.00    971.00"
      ]
     },
     "execution_count": 226,
     "metadata": {},
     "output_type": "execute_result"
    }
   ],
   "source": [
    "data = filtered\n",
    "data.describe()"
   ]
  },
  {
   "cell_type": "code",
   "execution_count": 227,
   "metadata": {},
   "outputs": [
    {
     "data": {
      "text/plain": [
       "\"TV Host Let's Dance for RTL Germany / SBS6 / Philips-Sonicare / Deichmann - Sylvie Meis ShoeCollection /Holiday On Ice-Believe / Owner Meis Enterprise\""
      ]
     },
     "execution_count": 227,
     "metadata": {},
     "output_type": "execute_result"
    }
   ],
   "source": [
    "data['descriptionProfile'][4]"
   ]
  },
  {
   "cell_type": "code",
   "execution_count": 228,
   "metadata": {},
   "outputs": [
    {
     "data": {
      "text/plain": [
       "'💋Happy Weekend Lovelies ❤ #weekend #yay #happyweekend #kiss 💋'"
      ]
     },
     "execution_count": 228,
     "metadata": {},
     "output_type": "execute_result"
    }
   ],
   "source": [
    "data['description'][4]"
   ]
  },
  {
   "cell_type": "code",
   "execution_count": 229,
   "metadata": {},
   "outputs": [
    {
     "data": {
      "text/plain": [
       "[]"
      ]
     },
     "execution_count": 229,
     "metadata": {},
     "output_type": "execute_result"
    }
   ],
   "source": [
    "emoji_regexp = u'[\\U00002600-\\U000026FF]|[\\U00002700-\\U000027BF]|[\\U0001f300-\\U0001f5fF]|[\\U0001f600-\\U0001f64F]|' \\\n",
    "               u'[\\U0001f680-\\U0001f6FF]|[\\U00002A00-\\U00002AFF]|[\\U0001F1E0-\\U0001F1FF]'\n",
    "re.findall(emoji_regexp, data['descriptionProfile'][4], re.UNICODE)"
   ]
  },
  {
   "cell_type": "code",
   "execution_count": 230,
   "metadata": {},
   "outputs": [
    {
     "name": "stdout",
     "output_type": "stream",
     "text": [
      "💋Happy Weekend Lovelies ❤ #weekend #yay #happyweekend #kiss 💋\n"
     ]
    }
   ],
   "source": [
    "text = data['description'][4]\n",
    "print(text) # with emoji\n"
   ]
  },
  {
   "cell_type": "code",
   "execution_count": 231,
   "metadata": {},
   "outputs": [
    {
     "name": "stdout",
     "output_type": "stream",
     "text": [
      "Happy Weekend Lovelies  #weekend #yay #happyweekend #kiss \n"
     ]
    }
   ],
   "source": [
    "emoji_pattern = re.compile(\"[\"\n",
    "        u\"\\U0001F600-\\U0001F64F\"  # emoticons\n",
    "        u\"\\U0001F300-\\U0001F5FF\"  # symbols & pictographs\n",
    "        u\"\\U0001F680-\\U0001F6FF\"  # transport & map symbols\n",
    "        u\"\\U0001F1E0-\\U0001F1FF\"  # flags (iOS)\n",
    "        u\"\\U00002700-\\U000027BF\"\n",
    "        u\"\\U00002A00-\\U00002AFF\"\n",
    "        u\"\\U00002600-\\U000026FF\"\n",
    "                           \"]+\", flags=re.UNICODE)\n",
    "print(emoji_pattern.sub(r'', text)) # no emoji"
   ]
  },
  {
   "cell_type": "code",
   "execution_count": 232,
   "metadata": {},
   "outputs": [
    {
     "data": {
      "text/plain": [
       "'⚡️Founder & Creative Director @laagam______ •beatriz@okikotalents.com •inesarroyoruiz@gmail.com'"
      ]
     },
     "execution_count": 232,
     "metadata": {},
     "output_type": "execute_result"
    }
   ],
   "source": [
    "data['descriptionProfile'][6666]"
   ]
  },
  {
   "cell_type": "code",
   "execution_count": 233,
   "metadata": {
    "collapsed": true
   },
   "outputs": [],
   "source": [
    "\n",
    "letters_only = re.sub(\"[^a-zA-Z]\",           # The pattern to search for\n",
    "                      \" \",                   # The pattern to replace it with\n",
    "                      data['descriptionProfile'][6666])"
   ]
  },
  {
   "cell_type": "code",
   "execution_count": 234,
   "metadata": {},
   "outputs": [
    {
     "data": {
      "text/plain": [
       "'  Founder   Creative Director  laagam        beatriz okikotalents com  inesarroyoruiz gmail com'"
      ]
     },
     "execution_count": 234,
     "metadata": {},
     "output_type": "execute_result"
    }
   ],
   "source": [
    "letters_only"
   ]
  },
  {
   "cell_type": "code",
   "execution_count": 235,
   "metadata": {},
   "outputs": [
    {
     "data": {
      "text/plain": [
       "['founder',\n",
       " 'creative',\n",
       " 'director',\n",
       " 'laagam',\n",
       " 'beatriz',\n",
       " 'okikotalents',\n",
       " 'com',\n",
       " 'inesarroyoruiz',\n",
       " 'gmail',\n",
       " 'com']"
      ]
     },
     "execution_count": 235,
     "metadata": {},
     "output_type": "execute_result"
    }
   ],
   "source": [
    "lower_case = letters_only.lower()        # Convert to lower case\n",
    "words = lower_case.split()               # Split into words\n",
    "words"
   ]
  },
  {
   "cell_type": "code",
   "execution_count": 236,
   "metadata": {},
   "outputs": [
    {
     "data": {
      "text/plain": [
       "['founder',\n",
       " 'creative',\n",
       " 'director',\n",
       " 'laagam',\n",
       " 'beatriz',\n",
       " 'okikotalents',\n",
       " 'com',\n",
       " 'inesarroyoruiz',\n",
       " 'gmail',\n",
       " 'com']"
      ]
     },
     "execution_count": 236,
     "metadata": {},
     "output_type": "execute_result"
    }
   ],
   "source": [
    "from nltk.corpus import stopwords\n",
    "words = [w for w in words if not w in stopwords.words(\"english\")]\n",
    "words"
   ]
  },
  {
   "cell_type": "code",
   "execution_count": 237,
   "metadata": {},
   "outputs": [
    {
     "data": {
      "text/plain": [
       "'founder creative director laagam beatriz okikotalents com inesarroyoruiz gmail com'"
      ]
     },
     "execution_count": 237,
     "metadata": {},
     "output_type": "execute_result"
    }
   ],
   "source": [
    "\" \".join(words)"
   ]
  },
  {
   "cell_type": "code",
   "execution_count": 238,
   "metadata": {
    "collapsed": true
   },
   "outputs": [],
   "source": [
    "def cleanup(sentence):\n",
    "    try:\n",
    "        letters_only = re.sub(\"[^a-zA-Z]\", \" \", sentence)\n",
    "        emojis = re.findall(emoji_regexp, sentence, re.UNICODE)\n",
    "    except:\n",
    "        letters_only = ''\n",
    "        emojis = []\n",
    "    words = letters_only.lower().split()        \n",
    "    words = [w for w in words if not w in stopwords.words(\"english\")]\n",
    "    words = [w for w in words if len(w) > 1]\n",
    "    return (\" \".join(words)), (\" \".join(emojis))"
   ]
  },
  {
   "cell_type": "code",
   "execution_count": 239,
   "metadata": {},
   "outputs": [
    {
     "data": {
      "text/plain": [
       "'happy weekend lovelies weekend yay happyweekend kiss'"
      ]
     },
     "execution_count": 239,
     "metadata": {},
     "output_type": "execute_result"
    }
   ],
   "source": [
    "sentence, emojis = cleanup(data['description'][4])\n",
    "sentence"
   ]
  },
  {
   "cell_type": "code",
   "execution_count": 240,
   "metadata": {},
   "outputs": [
    {
     "data": {
      "text/plain": [
       "'💋 ❤ 💋'"
      ]
     },
     "execution_count": 240,
     "metadata": {},
     "output_type": "execute_result"
    }
   ],
   "source": [
    "emojis"
   ]
  },
  {
   "cell_type": "code",
   "execution_count": 241,
   "metadata": {},
   "outputs": [
    {
     "data": {
      "text/plain": [
       "16148"
      ]
     },
     "execution_count": 241,
     "metadata": {},
     "output_type": "execute_result"
    }
   ],
   "source": [
    "data['description'].size"
   ]
  },
  {
   "cell_type": "code",
   "execution_count": 242,
   "metadata": {},
   "outputs": [
    {
     "name": "stdout",
     "output_type": "stream",
     "text": [
      "6% done\n",
      "12% done\n",
      "19% done\n",
      "25% done\n",
      "31% done\n",
      "37% done\n",
      "43% done\n",
      "50% done\n",
      "56% done\n",
      "62% done\n",
      "68% done\n",
      "74% done\n",
      "80% done\n",
      "87% done\n",
      "93% done\n",
      "99% done\n"
     ]
    }
   ],
   "source": [
    "clean = []\n",
    "clean_emojis = []\n",
    "for i in range( 0, data['description'].size ):\n",
    "    if( (i+1)%1000 == 0 ):\n",
    "        print(str(round(i/16148*100))+\"% done\")\n",
    "    x,y = cleanup(data['description'][i])\n",
    "    clean.append(x)\n",
    "    clean_emojis.append(y)"
   ]
  },
  {
   "cell_type": "code",
   "execution_count": 243,
   "metadata": {},
   "outputs": [
    {
     "data": {
      "text/plain": [
       "['lovely colleague fraukeludowig official show exclusivspezial rtl exclusiv tine siepmann lecolook',\n",
       " 'look last night hosting let dance styled tine siepmann jumpsuit rachelzoe hair makeup lecolook glam letsdance rtlde ootn',\n",
       " 'calm glam storm tomorrow room hair makeup chaos chilling backstage letsdance rtlde rehearsalday behindthescenes',\n",
       " 'today look qvc styled bydanienl dress roland mouret shoes casadeiofficial glam xellycvk philipsbenelux philipssonicare qvcdeutschland',\n",
       " 'happy weekend lovelies weekend yay happyweekend kiss']"
      ]
     },
     "execution_count": 243,
     "metadata": {},
     "output_type": "execute_result"
    }
   ],
   "source": [
    "clean[:5]"
   ]
  },
  {
   "cell_type": "code",
   "execution_count": 244,
   "metadata": {},
   "outputs": [
    {
     "data": {
      "text/plain": [
       "16148"
      ]
     },
     "execution_count": 244,
     "metadata": {},
     "output_type": "execute_result"
    }
   ],
   "source": [
    "len(clean_emojis)"
   ]
  },
  {
   "cell_type": "code",
   "execution_count": 245,
   "metadata": {
    "collapsed": true
   },
   "outputs": [],
   "source": [
    "clean_vectorizer = CountVectorizer(analyzer='word', tokenizer=None,\\\n",
    "                                   preprocessor=None, stop_words=None,\\\n",
    "                                   max_features = 500)\n",
    "\n",
    "clean_features = clean_vectorizer.fit_transform(clean)\n",
    "clean_features = clean_features.toarray()"
   ]
  },
  {
   "cell_type": "code",
   "execution_count": 246,
   "metadata": {},
   "outputs": [
    {
     "data": {
      "text/plain": [
       "array([[0, 0, 0, ..., 0, 0, 0],\n",
       "       [0, 0, 0, ..., 0, 0, 0],\n",
       "       [0, 0, 0, ..., 0, 0, 0],\n",
       "       [0, 0, 0, ..., 0, 0, 0],\n",
       "       [0, 0, 0, ..., 0, 0, 0]], dtype=int64)"
      ]
     },
     "execution_count": 246,
     "metadata": {},
     "output_type": "execute_result"
    }
   ],
   "source": [
    "clean_features[:5]"
   ]
  },
  {
   "cell_type": "code",
   "execution_count": 247,
   "metadata": {
    "scrolled": true
   },
   "outputs": [
    {
     "name": "stdout",
     "output_type": "stream",
     "text": [
      "['able', 'account', 'actually', 'ad', 'ada', 'add', 'adventure', 'ago', 'air', 'al', 'allah', 'almost', 'along', 'already', 'also', 'always', 'amazing', 'amg', 'another', 'anyone', 'anything', 'april', 'architecture', 'around', 'art', 'available', 'away', 'awesome', 'baby', 'back', 'barcelona', 'beach', 'beautiful', 'beautifuldestinations', 'beauty', 'become', 'behind', 'believe', 'berlin', 'best', 'better', 'big', 'bio', 'birthday', 'bit', 'black', 'blog', 'blue', 'body', 'book', 'breakfast', 'bring', 'california', 'came', 'camera', 'car', 'cars', 'cat', 'cave', 'ch', 'challenge', 'chance', 'change', 'check', 'chocolate', 'city', 'click', 'close', 'coachella', 'coast', 'code', 'coffee', 'collection', 'color', 'com', 'come', 'comes', 'coming', 'comment', 'community', 'como', 'con', 'conservation', 'cool', 'could', 'couple', 'course', 'cream', 'cute', 'da', 'dan', 'dari', 'day', 'days', 'de', 'deep', 'del', 'delicious', 'dengan', 'design', 'details', 'di', 'dia', 'different', 'done', 'dream', 'dress', 'du', 'early', 'earth', 'easter', 'easy', 'eat', 'el', 'else', 'em', 'en', 'end', 'enjoy', 'enough', 'es', 'est', 'esta', 'este', 'et', 'eu', 'europe', 'even', 'ever', 'every', 'everyone', 'everything', 'excited', 'experience', 'explore', 'eyes', 'face', 'family', 'far', 'fashion', 'favorite', 'favourite', 'featured', 'feel', 'feeling', 'feet', 'finally', 'find', 'first', 'fitness', 'follow', 'followers', 'food', 'forget', 'foto', 'found', 'france', 'free', 'fresh', 'friday', 'friend', 'friends', 'full', 'fun', 'geographic', 'get', 'getting', 'girl', 'girls', 'give', 'go', 'going', 'good', 'got', 'gracias', 'grateful', 'great', 'green', 'grow', 'gt', 'guide', 'guides', 'guys', 'hair', 'hand', 'happy', 'hard', 'hashtag', 'head', 'healthy', 'heart', 'hello', 'help', 'high', 'home', 'hope', 'hours', 'house', 'http', 'ice', 'ich', 'ig', 'image', 'images', 'important', 'incredible', 'info', 'ini', 'inspiration', 'inspired', 'instagram', 'island', 'italy', 'itu', 'je', 'join', 'journey', 'keep', 'kind', 'kita', 'know', 'la', 'las', 'last', 'le', 'learn', 'left', 'les', 'let', 'life', 'light', 'like', 'liketk', 'liketkit', 'liketoknow', 'line', 'link', 'little', 'live', 'living', 'lo', 'location', 'london', 'long', 'look', 'looking', 'looks', 'los', 'lot', 'love', 'loved', 'lovely', 'loves', 'made', 'madwhips', 'magazine', 'mais', 'make', 'makes', 'makeup', 'making', 'man', 'many', 'may', 'meet', 'mercedes', 'mi', 'millionaire', 'mind', 'miss', 'model', 'moment', 'moments', 'monday', 'money', 'month', 'morning', 'mother', 'mountain', 'mountains', 'much', 'must', 'na', 'natgeo', 'natgeocreative', 'national', 'natural', 'nature', 'need', 'never', 'new', 'next', 'ng', 'nice', 'night', 'nos', 'nothing', 'nyc', 'ocean', 'official', 'oh', 'ok', 'old', 'one', 'online', 'open', 'order', 'os', 'outfit', 'para', 'paris', 'park', 'part', 'party', 'past', 'people', 'per', 'perfect', 'performance', 'pero', 'photo', 'photograph', 'photographer', 'photography', 'photos', 'pic', 'picture', 'pink', 'place', 'places', 'please', 'plus', 'pm', 'por', 'porque', 'post', 'pour', 'power', 'pretty', 'prints', 'profile', 'project', 'put', 'que', 'read', 'ready', 'real', 'really', 'recipe', 'red', 'remember', 'rest', 'right', 'road', 'room', 'run', 'said', 'sale', 'saturday', 'say', 'se', 'sea', 'season', 'see', 'seen', 'ser', 'series', 'set', 'share', 'sharing', 'shoot', 'shop', 'shot', 'show', 'si', 'side', 'since', 'small', 'someone', 'something', 'sometimes', 'son', 'soon', 'south', 'space', 'special', 'spent', 'sponsored', 'spring', 'st', 'start', 'started', 'stay', 'still', 'stop', 'store', 'stories', 'story', 'style', 'summer', 'sun', 'sunday', 'sunset', 'super', 'support', 'sure', 'sweet', 'tag', 'take', 'taken', 'taking', 'tap', 'te', 'team', 'tell', 'th', 'thank', 'thanks', 'thephotosociety', 'thing', 'things', 'think', 'though', 'thought', 'three', 'time', 'times', 'today', 'todo', 'todos', 'together', 'tomorrow', 'tonight', 'took', 'top', 'town', 'travel', 'trip', 'try', 'trying', 'tu', 'turkey', 'two', 'um', 'un', 'una', 'und', 'us', 'use', 'used', 'using', 'vacations', 'vegan', 'via', 'vibes', 'vida', 'video', 'view', 'visit', 'voc', 'vous', 'wait', 'want', 'wanted', 'watch', 'water', 'way', 'wearing', 'week', 'weekend', 'weeks', 'well', 'went', 'white', 'whole', 'wild', 'win', 'wish', 'without', 'wolf', 'wolfmillionaire', 'women', 'wonderful', 'work', 'working', 'workout', 'world', 'would', 'www', 'ya', 'yang', 'year', 'years', 'yes', 'yesterday', 'yet', 'yo', 'yoga', 'young', 'youtube']\n"
     ]
    }
   ],
   "source": [
    "vocab = clean_vectorizer.get_feature_names()\n",
    "print(vocab)"
   ]
  },
  {
   "cell_type": "code",
   "execution_count": 248,
   "metadata": {
    "scrolled": true
   },
   "outputs": [
    {
     "name": "stdout",
     "output_type": "stream",
     "text": [
      "account actually adventure almost already always amazing another anyone anything architecture around available awesome barcelona beautiful beautifuldestinations beauty become behind believe berlin better birthday breakfast california camera challenge chance change chocolate coachella coffee collection coming comment community conservation couple course delicious dengan design details different easter enough europe everyone everything excited experience explore family fashion favorite favourite featured feeling finally fitness follow followers forget france friday friend friends geographic getting gracias grateful guides hashtag healthy images important incredible inspiration inspired instagram island journey liketk liketkit liketoknow little living location london looking lovely madwhips magazine makeup making mercedes millionaire moment moments monday morning mother mountain mountains natgeo natgeocreative national natural nature nothing official online outfit people perfect performance photograph photographer photography photos picture places please porque pretty prints profile project really recipe remember saturday season series sharing someone something sometimes special sponsored spring started stories summer sunday sunset support taking thanks thephotosociety things though thought together tomorrow tonight travel trying turkey vacations wanted wearing weekend without wolfmillionaire wonderful working workout yesterday youtube\n"
     ]
    }
   ],
   "source": [
    "new_vocab = []\n",
    "for word in vocab:\n",
    "    if len(word)>5:\n",
    "        new_vocab.append(word)\n",
    "print(' '.join(new_vocab))"
   ]
  },
  {
   "cell_type": "code",
   "execution_count": 249,
   "metadata": {},
   "outputs": [
    {
     "data": {
      "text/html": [
       "<div>\n",
       "<table border=\"1\" class=\"dataframe\">\n",
       "  <thead>\n",
       "    <tr style=\"text-align: right;\">\n",
       "      <th></th>\n",
       "      <th>able</th>\n",
       "      <th>account</th>\n",
       "      <th>actually</th>\n",
       "      <th>ad</th>\n",
       "      <th>ada</th>\n",
       "      <th>add</th>\n",
       "      <th>adventure</th>\n",
       "      <th>ago</th>\n",
       "      <th>air</th>\n",
       "      <th>al</th>\n",
       "      <th>...</th>\n",
       "      <th>yang</th>\n",
       "      <th>year</th>\n",
       "      <th>years</th>\n",
       "      <th>yes</th>\n",
       "      <th>yesterday</th>\n",
       "      <th>yet</th>\n",
       "      <th>yo</th>\n",
       "      <th>yoga</th>\n",
       "      <th>young</th>\n",
       "      <th>youtube</th>\n",
       "    </tr>\n",
       "  </thead>\n",
       "  <tbody>\n",
       "    <tr>\n",
       "      <th>0</th>\n",
       "      <td>0</td>\n",
       "      <td>0</td>\n",
       "      <td>0</td>\n",
       "      <td>0</td>\n",
       "      <td>0</td>\n",
       "      <td>0</td>\n",
       "      <td>0</td>\n",
       "      <td>0</td>\n",
       "      <td>0</td>\n",
       "      <td>0</td>\n",
       "      <td>...</td>\n",
       "      <td>0</td>\n",
       "      <td>0</td>\n",
       "      <td>0</td>\n",
       "      <td>0</td>\n",
       "      <td>0</td>\n",
       "      <td>0</td>\n",
       "      <td>0</td>\n",
       "      <td>0</td>\n",
       "      <td>0</td>\n",
       "      <td>0</td>\n",
       "    </tr>\n",
       "    <tr>\n",
       "      <th>1</th>\n",
       "      <td>0</td>\n",
       "      <td>0</td>\n",
       "      <td>0</td>\n",
       "      <td>0</td>\n",
       "      <td>0</td>\n",
       "      <td>0</td>\n",
       "      <td>0</td>\n",
       "      <td>0</td>\n",
       "      <td>0</td>\n",
       "      <td>0</td>\n",
       "      <td>...</td>\n",
       "      <td>0</td>\n",
       "      <td>0</td>\n",
       "      <td>0</td>\n",
       "      <td>0</td>\n",
       "      <td>0</td>\n",
       "      <td>0</td>\n",
       "      <td>0</td>\n",
       "      <td>0</td>\n",
       "      <td>0</td>\n",
       "      <td>0</td>\n",
       "    </tr>\n",
       "    <tr>\n",
       "      <th>2</th>\n",
       "      <td>0</td>\n",
       "      <td>0</td>\n",
       "      <td>0</td>\n",
       "      <td>0</td>\n",
       "      <td>0</td>\n",
       "      <td>0</td>\n",
       "      <td>0</td>\n",
       "      <td>0</td>\n",
       "      <td>0</td>\n",
       "      <td>0</td>\n",
       "      <td>...</td>\n",
       "      <td>0</td>\n",
       "      <td>0</td>\n",
       "      <td>0</td>\n",
       "      <td>0</td>\n",
       "      <td>0</td>\n",
       "      <td>0</td>\n",
       "      <td>0</td>\n",
       "      <td>0</td>\n",
       "      <td>0</td>\n",
       "      <td>0</td>\n",
       "    </tr>\n",
       "    <tr>\n",
       "      <th>3</th>\n",
       "      <td>0</td>\n",
       "      <td>0</td>\n",
       "      <td>0</td>\n",
       "      <td>0</td>\n",
       "      <td>0</td>\n",
       "      <td>0</td>\n",
       "      <td>0</td>\n",
       "      <td>0</td>\n",
       "      <td>0</td>\n",
       "      <td>0</td>\n",
       "      <td>...</td>\n",
       "      <td>0</td>\n",
       "      <td>0</td>\n",
       "      <td>0</td>\n",
       "      <td>0</td>\n",
       "      <td>0</td>\n",
       "      <td>0</td>\n",
       "      <td>0</td>\n",
       "      <td>0</td>\n",
       "      <td>0</td>\n",
       "      <td>0</td>\n",
       "    </tr>\n",
       "    <tr>\n",
       "      <th>4</th>\n",
       "      <td>0</td>\n",
       "      <td>0</td>\n",
       "      <td>0</td>\n",
       "      <td>0</td>\n",
       "      <td>0</td>\n",
       "      <td>0</td>\n",
       "      <td>0</td>\n",
       "      <td>0</td>\n",
       "      <td>0</td>\n",
       "      <td>0</td>\n",
       "      <td>...</td>\n",
       "      <td>0</td>\n",
       "      <td>0</td>\n",
       "      <td>0</td>\n",
       "      <td>0</td>\n",
       "      <td>0</td>\n",
       "      <td>0</td>\n",
       "      <td>0</td>\n",
       "      <td>0</td>\n",
       "      <td>0</td>\n",
       "      <td>0</td>\n",
       "    </tr>\n",
       "  </tbody>\n",
       "</table>\n",
       "<p>5 rows × 500 columns</p>\n",
       "</div>"
      ],
      "text/plain": [
       "   able  account  actually  ad  ada  add  adventure  ago  air  al   ...     \\\n",
       "0     0        0         0   0    0    0          0    0    0   0   ...      \n",
       "1     0        0         0   0    0    0          0    0    0   0   ...      \n",
       "2     0        0         0   0    0    0          0    0    0   0   ...      \n",
       "3     0        0         0   0    0    0          0    0    0   0   ...      \n",
       "4     0        0         0   0    0    0          0    0    0   0   ...      \n",
       "\n",
       "   yang  year  years  yes  yesterday  yet  yo  yoga  young  youtube  \n",
       "0     0     0      0    0          0    0   0     0      0        0  \n",
       "1     0     0      0    0          0    0   0     0      0        0  \n",
       "2     0     0      0    0          0    0   0     0      0        0  \n",
       "3     0     0      0    0          0    0   0     0      0        0  \n",
       "4     0     0      0    0          0    0   0     0      0        0  \n",
       "\n",
       "[5 rows x 500 columns]"
      ]
     },
     "execution_count": 249,
     "metadata": {},
     "output_type": "execute_result"
    }
   ],
   "source": [
    "clean_features = pd.DataFrame(data=clean_features, columns=vocab)\n",
    "clean_features.head()"
   ]
  },
  {
   "cell_type": "code",
   "execution_count": 250,
   "metadata": {
    "collapsed": true
   },
   "outputs": [],
   "source": [
    "clean_emojis_vectorizer = DictVectorizer()\n",
    "X = clean_emojis_vectorizer.fit_transform(Counter(s.split())\\\n",
    "                                          for s in clean_emojis)\n",
    "\n",
    "clean_emojis_features = X.toarray()"
   ]
  },
  {
   "cell_type": "code",
   "execution_count": 251,
   "metadata": {},
   "outputs": [
    {
     "data": {
      "text/plain": [
       "(16148, 746)"
      ]
     },
     "execution_count": 251,
     "metadata": {},
     "output_type": "execute_result"
    }
   ],
   "source": [
    "clean_emojis_features.shape"
   ]
  },
  {
   "cell_type": "code",
   "execution_count": 252,
   "metadata": {
    "collapsed": true
   },
   "outputs": [],
   "source": [
    "#create list of unique emojis\n",
    "emojis = set()\n",
    "for i in range (16148):\n",
    "    if clean_emojis[i]:\n",
    "        for emoji in clean_emojis[i].split():\n",
    "            emojis.add(emoji)\n",
    "emojis = list(emojis)\n",
    "test = np.zeros(shape=(16148,750))\n",
    "\n",
    "#create sentence to vector\n",
    "for i in range (16148):\n",
    "    if clean_emojis[i]:\n",
    "        for emoji in clean_emojis[i].split():\n",
    "            test[i][emojis.index(emoji)]+=1"
   ]
  },
  {
   "cell_type": "code",
   "execution_count": 253,
   "metadata": {
    "collapsed": true
   },
   "outputs": [],
   "source": [
    "test_emoji = np.zeros(shape=(1,746))\n",
    "for i in range (16148):\n",
    "    for j in range(746):\n",
    "        if test[i][j] > 0:\n",
    "            test_emoji[:,j]+=test[i][j]"
   ]
  },
  {
   "cell_type": "code",
   "execution_count": 254,
   "metadata": {},
   "outputs": [
    {
     "name": "stdout",
     "output_type": "stream",
     "text": [
      "[20, 23, 39, 45, 56, 103, 128, 152, 155, 210, 236, 278, 283, 298, 319, 346, 354, 371, 433, 467, 469, 525, 565, 566, 579, 591, 605, 623, 634, 638, 652, 660, 692, 698, 705, 725, 740]\n"
     ]
    }
   ],
   "source": [
    "count = 0\n",
    "count_list = []\n",
    "for i in range(746):\n",
    "    if test_emoji[:,i]>175:\n",
    "        count+=1\n",
    "        count_list.append(i)\n",
    "print(count_list)"
   ]
  },
  {
   "cell_type": "code",
   "execution_count": 255,
   "metadata": {},
   "outputs": [
    {
     "data": {
      "text/html": [
       "<div>\n",
       "<table border=\"1\" class=\"dataframe\">\n",
       "  <thead>\n",
       "    <tr style=\"text-align: right;\">\n",
       "      <th></th>\n",
       "      <th>0</th>\n",
       "      <th>1</th>\n",
       "      <th>2</th>\n",
       "      <th>3</th>\n",
       "      <th>4</th>\n",
       "      <th>5</th>\n",
       "      <th>6</th>\n",
       "      <th>7</th>\n",
       "      <th>8</th>\n",
       "      <th>9</th>\n",
       "      <th>...</th>\n",
       "      <th>27</th>\n",
       "      <th>28</th>\n",
       "      <th>29</th>\n",
       "      <th>30</th>\n",
       "      <th>31</th>\n",
       "      <th>32</th>\n",
       "      <th>33</th>\n",
       "      <th>34</th>\n",
       "      <th>35</th>\n",
       "      <th>36</th>\n",
       "    </tr>\n",
       "  </thead>\n",
       "  <tbody>\n",
       "    <tr>\n",
       "      <th>count</th>\n",
       "      <td>16148.00</td>\n",
       "      <td>16148.00</td>\n",
       "      <td>16148.00</td>\n",
       "      <td>16148.00</td>\n",
       "      <td>16148.00</td>\n",
       "      <td>16148.00</td>\n",
       "      <td>16148.00</td>\n",
       "      <td>16148.00</td>\n",
       "      <td>16148.00</td>\n",
       "      <td>16148.00</td>\n",
       "      <td>...</td>\n",
       "      <td>16148.00</td>\n",
       "      <td>16148.00</td>\n",
       "      <td>16148.00</td>\n",
       "      <td>16148.00</td>\n",
       "      <td>16148.00</td>\n",
       "      <td>16148.00</td>\n",
       "      <td>16148.00</td>\n",
       "      <td>16148.00</td>\n",
       "      <td>16148.00</td>\n",
       "      <td>16148.00</td>\n",
       "    </tr>\n",
       "    <tr>\n",
       "      <th>mean</th>\n",
       "      <td>0.03</td>\n",
       "      <td>0.01</td>\n",
       "      <td>0.02</td>\n",
       "      <td>0.07</td>\n",
       "      <td>0.01</td>\n",
       "      <td>0.03</td>\n",
       "      <td>0.02</td>\n",
       "      <td>0.01</td>\n",
       "      <td>0.08</td>\n",
       "      <td>0.01</td>\n",
       "      <td>...</td>\n",
       "      <td>0.03</td>\n",
       "      <td>0.01</td>\n",
       "      <td>0.01</td>\n",
       "      <td>0.01</td>\n",
       "      <td>0.06</td>\n",
       "      <td>0.03</td>\n",
       "      <td>0.02</td>\n",
       "      <td>0.02</td>\n",
       "      <td>0.04</td>\n",
       "      <td>0.03</td>\n",
       "    </tr>\n",
       "    <tr>\n",
       "      <th>std</th>\n",
       "      <td>0.22</td>\n",
       "      <td>0.16</td>\n",
       "      <td>0.17</td>\n",
       "      <td>0.52</td>\n",
       "      <td>0.12</td>\n",
       "      <td>0.17</td>\n",
       "      <td>0.20</td>\n",
       "      <td>0.16</td>\n",
       "      <td>0.37</td>\n",
       "      <td>0.13</td>\n",
       "      <td>...</td>\n",
       "      <td>0.25</td>\n",
       "      <td>0.19</td>\n",
       "      <td>0.14</td>\n",
       "      <td>0.14</td>\n",
       "      <td>0.35</td>\n",
       "      <td>0.17</td>\n",
       "      <td>0.17</td>\n",
       "      <td>0.19</td>\n",
       "      <td>0.23</td>\n",
       "      <td>0.25</td>\n",
       "    </tr>\n",
       "    <tr>\n",
       "      <th>min</th>\n",
       "      <td>0.00</td>\n",
       "      <td>0.00</td>\n",
       "      <td>0.00</td>\n",
       "      <td>0.00</td>\n",
       "      <td>0.00</td>\n",
       "      <td>0.00</td>\n",
       "      <td>0.00</td>\n",
       "      <td>0.00</td>\n",
       "      <td>0.00</td>\n",
       "      <td>0.00</td>\n",
       "      <td>...</td>\n",
       "      <td>0.00</td>\n",
       "      <td>0.00</td>\n",
       "      <td>0.00</td>\n",
       "      <td>0.00</td>\n",
       "      <td>0.00</td>\n",
       "      <td>0.00</td>\n",
       "      <td>0.00</td>\n",
       "      <td>0.00</td>\n",
       "      <td>0.00</td>\n",
       "      <td>0.00</td>\n",
       "    </tr>\n",
       "    <tr>\n",
       "      <th>25%</th>\n",
       "      <td>0.00</td>\n",
       "      <td>0.00</td>\n",
       "      <td>0.00</td>\n",
       "      <td>0.00</td>\n",
       "      <td>0.00</td>\n",
       "      <td>0.00</td>\n",
       "      <td>0.00</td>\n",
       "      <td>0.00</td>\n",
       "      <td>0.00</td>\n",
       "      <td>0.00</td>\n",
       "      <td>...</td>\n",
       "      <td>0.00</td>\n",
       "      <td>0.00</td>\n",
       "      <td>0.00</td>\n",
       "      <td>0.00</td>\n",
       "      <td>0.00</td>\n",
       "      <td>0.00</td>\n",
       "      <td>0.00</td>\n",
       "      <td>0.00</td>\n",
       "      <td>0.00</td>\n",
       "      <td>0.00</td>\n",
       "    </tr>\n",
       "    <tr>\n",
       "      <th>50%</th>\n",
       "      <td>0.00</td>\n",
       "      <td>0.00</td>\n",
       "      <td>0.00</td>\n",
       "      <td>0.00</td>\n",
       "      <td>0.00</td>\n",
       "      <td>0.00</td>\n",
       "      <td>0.00</td>\n",
       "      <td>0.00</td>\n",
       "      <td>0.00</td>\n",
       "      <td>0.00</td>\n",
       "      <td>...</td>\n",
       "      <td>0.00</td>\n",
       "      <td>0.00</td>\n",
       "      <td>0.00</td>\n",
       "      <td>0.00</td>\n",
       "      <td>0.00</td>\n",
       "      <td>0.00</td>\n",
       "      <td>0.00</td>\n",
       "      <td>0.00</td>\n",
       "      <td>0.00</td>\n",
       "      <td>0.00</td>\n",
       "    </tr>\n",
       "    <tr>\n",
       "      <th>75%</th>\n",
       "      <td>0.00</td>\n",
       "      <td>0.00</td>\n",
       "      <td>0.00</td>\n",
       "      <td>0.00</td>\n",
       "      <td>0.00</td>\n",
       "      <td>0.00</td>\n",
       "      <td>0.00</td>\n",
       "      <td>0.00</td>\n",
       "      <td>0.00</td>\n",
       "      <td>0.00</td>\n",
       "      <td>...</td>\n",
       "      <td>0.00</td>\n",
       "      <td>0.00</td>\n",
       "      <td>0.00</td>\n",
       "      <td>0.00</td>\n",
       "      <td>0.00</td>\n",
       "      <td>0.00</td>\n",
       "      <td>0.00</td>\n",
       "      <td>0.00</td>\n",
       "      <td>0.00</td>\n",
       "      <td>0.00</td>\n",
       "    </tr>\n",
       "    <tr>\n",
       "      <th>max</th>\n",
       "      <td>5.00</td>\n",
       "      <td>6.00</td>\n",
       "      <td>9.00</td>\n",
       "      <td>16.00</td>\n",
       "      <td>6.00</td>\n",
       "      <td>3.00</td>\n",
       "      <td>9.00</td>\n",
       "      <td>12.00</td>\n",
       "      <td>8.00</td>\n",
       "      <td>3.00</td>\n",
       "      <td>...</td>\n",
       "      <td>8.00</td>\n",
       "      <td>10.00</td>\n",
       "      <td>6.00</td>\n",
       "      <td>6.00</td>\n",
       "      <td>8.00</td>\n",
       "      <td>5.00</td>\n",
       "      <td>6.00</td>\n",
       "      <td>7.00</td>\n",
       "      <td>6.00</td>\n",
       "      <td>2.00</td>\n",
       "    </tr>\n",
       "  </tbody>\n",
       "</table>\n",
       "<p>8 rows × 37 columns</p>\n",
       "</div>"
      ],
      "text/plain": [
       "            0        1        2        3        4        5        6        7   \\\n",
       "count 16148.00 16148.00 16148.00 16148.00 16148.00 16148.00 16148.00 16148.00   \n",
       "mean      0.03     0.01     0.02     0.07     0.01     0.03     0.02     0.01   \n",
       "std       0.22     0.16     0.17     0.52     0.12     0.17     0.20     0.16   \n",
       "min       0.00     0.00     0.00     0.00     0.00     0.00     0.00     0.00   \n",
       "25%       0.00     0.00     0.00     0.00     0.00     0.00     0.00     0.00   \n",
       "50%       0.00     0.00     0.00     0.00     0.00     0.00     0.00     0.00   \n",
       "75%       0.00     0.00     0.00     0.00     0.00     0.00     0.00     0.00   \n",
       "max       5.00     6.00     9.00    16.00     6.00     3.00     9.00    12.00   \n",
       "\n",
       "            8        9    ...          27       28       29       30       31  \\\n",
       "count 16148.00 16148.00   ...    16148.00 16148.00 16148.00 16148.00 16148.00   \n",
       "mean      0.08     0.01   ...        0.03     0.01     0.01     0.01     0.06   \n",
       "std       0.37     0.13   ...        0.25     0.19     0.14     0.14     0.35   \n",
       "min       0.00     0.00   ...        0.00     0.00     0.00     0.00     0.00   \n",
       "25%       0.00     0.00   ...        0.00     0.00     0.00     0.00     0.00   \n",
       "50%       0.00     0.00   ...        0.00     0.00     0.00     0.00     0.00   \n",
       "75%       0.00     0.00   ...        0.00     0.00     0.00     0.00     0.00   \n",
       "max       8.00     3.00   ...        8.00    10.00     6.00     6.00     8.00   \n",
       "\n",
       "            32       33       34       35       36  \n",
       "count 16148.00 16148.00 16148.00 16148.00 16148.00  \n",
       "mean      0.03     0.02     0.02     0.04     0.03  \n",
       "std       0.17     0.17     0.19     0.23     0.25  \n",
       "min       0.00     0.00     0.00     0.00     0.00  \n",
       "25%       0.00     0.00     0.00     0.00     0.00  \n",
       "50%       0.00     0.00     0.00     0.00     0.00  \n",
       "75%       0.00     0.00     0.00     0.00     0.00  \n",
       "max       5.00     6.00     7.00     6.00     2.00  \n",
       "\n",
       "[8 rows x 37 columns]"
      ]
     },
     "execution_count": 255,
     "metadata": {},
     "output_type": "execute_result"
    }
   ],
   "source": [
    "clean_features_emoji = pd.DataFrame(data=test[:,count_list])\n",
    "clean_features_emoji.describe()"
   ]
  },
  {
   "cell_type": "code",
   "execution_count": 256,
   "metadata": {},
   "outputs": [
    {
     "name": "stdout",
     "output_type": "stream",
     "text": [
      "❤ 🌴 😎 🙌 ➖ 🙏 😘 👇 💪 😊 🌸 ☀ 🔥 👉 ✨ 💗 😉 📷 🎉 💕 💋 💛 😍 🏼 🖤 📸 ✌ 👌 😂 😜 😋 🏽 🙈 💙 💰 🚨 🏻\n"
     ]
    }
   ],
   "source": [
    "emoji_set = set()\n",
    "for i in range (16148):\n",
    "    if clean_emojis[i]:\n",
    "        for emoji in clean_emojis[i].split():\n",
    "            if emojis.index(emoji) in count_list:\n",
    "                emoji_set.add(emoji)\n",
    "print (' '.join(emoji_set))"
   ]
  },
  {
   "cell_type": "markdown",
   "metadata": {},
   "source": [
    "### User description"
   ]
  },
  {
   "cell_type": "code",
   "execution_count": 257,
   "metadata": {},
   "outputs": [
    {
     "name": "stdout",
     "output_type": "stream",
     "text": [
      "6% done\n",
      "12% done\n",
      "18% done\n",
      "24% done\n",
      "30% done\n",
      "36% done\n",
      "42% done\n",
      "48% done\n",
      "54% done\n",
      "60% done\n",
      "67% done\n",
      "73% done\n",
      "79% done\n",
      "85% done\n",
      "91% done\n",
      "97% done\n"
     ]
    }
   ],
   "source": [
    "clean_user = []\n",
    "clean_user_emojis = []\n",
    "for i in range( 0, data['descriptionProfile'].size ):\n",
    "    if( (i+1)%1000 == 0 ):\n",
    "        print(str(round(i/16539*100))+\"% done\")\n",
    "    x,y = cleanup(data['descriptionProfile'][i])\n",
    "    clean_user.append(x)\n",
    "    clean_user_emojis.append(y)"
   ]
  },
  {
   "cell_type": "code",
   "execution_count": 258,
   "metadata": {},
   "outputs": [
    {
     "data": {
      "text/plain": [
       "(16148, 250)"
      ]
     },
     "execution_count": 258,
     "metadata": {},
     "output_type": "execute_result"
    }
   ],
   "source": [
    "clean_user_vectorizer = CountVectorizer(analyzer = \"word\", tokenizer = None, preprocessor = None, stop_words = None, max_features = 250) \n",
    "clean_user_features = clean_user_vectorizer.fit_transform(clean_user)\n",
    "clean_user_features = clean_user_features.toarray()\n",
    "clean_user_features.shape"
   ]
  },
  {
   "cell_type": "code",
   "execution_count": 259,
   "metadata": {},
   "outputs": [
    {
     "name": "stdout",
     "output_type": "stream",
     "text": [
      "['account', 'actor', 'actress', 'adventure', 'adventures', 'advertising', 'ambassador', 'amsterdam', 'angeles', 'anthony', 'art', 'artist', 'athlete', 'au', 'australia', 'author', 'available', 'bali', 'based', 'beautiful', 'beauty', 'best', 'blog', 'blogger', 'book', 'booking', 'bookings', 'br', 'brand', 'brasil', 'business', 'california', 'camera', 'cat', 'ceo', 'cep', 'channel', 'check', 'city', 'click', 'co', 'coach', 'collaborations', 'com', 'community', 'consultant', 'contact', 'contato', 'content', 'contributor', 'cookbook', 'creative', 'creator', 'credit', 'currently', 'daily', 'day', 'de', 'design', 'designer', 'digital', 'director', 'dog', 'download', 'dream', 'dreams', 'dubai', 'earth', 'el', 'em', 'email', 'enquiries', 'entrepreneur', 'explorer', 'facebook', 'family', 'fashion', 'fb', 'feature', 'featured', 'feed', 'filmmaker', 'fitness', 'follow', 'food', 'founder', 'free', 'freelance', 'french', 'fun', 'geographic', 'germany', 'get', 'girl', 'gmail', 'go', 'good', 'great', 'hair', 'health', 'heart', 'hello', 'hi', 'home', 'host', 'hotmail', 'human', 'icloud', 'ig', 'ii', 'images', 'influencer', 'info', 'inquiries', 'inspiration', 'instagram', 'istanbul', 'italy', 'kik', 'la', 'latest', 'learn', 'let', 'life', 'lifestyle', 'like', 'line', 'link', 'live', 'living', 'location', 'london', 'los', 'love', 'lover', 'made', 'madwhips', 'magazine', 'mail', 'make', 'makeup', 'man', 'management', 'may', 'media', 'men', 'mgmt', 'mi', 'miami', 'model', 'models', 'mother', 'music', 'nat', 'natgeo', 'national', 'nature', 'net', 'new', 'next', 'norway', 'notifications', 'ny', 'nyc', 'official', 'one', 'online', 'outlook', 'owner', 'page', 'para', 'paris', 'passion', 'people', 'personal', 'photo', 'photographer', 'photographers', 'photography', 'photojournalist', 'photos', 'plans', 'post', 'postal', 'posting', 'pr', 'prints', 'pro', 'professional', 'recipes', 'rights', 'say', 'sc', 'se', 'see', 'share', 'sharing', 'shop', 'show', 'snap', 'snapchat', 'social', 'solelysneakers', 'speaker', 'stay', 'stories', 'story', 'storyteller', 'street', 'student', 'style', 'stylist', 'sweden', 'tag', 'take', 'teacher', 'things', 'top', 'travel', 'traveler', 'turn', 'tv', 'twitter', 'uk', 'us', 'usa', 'use', 'vid', 'video', 'videos', 'vienna', 'visual', 'watch', 'way', 'web', 'website', 'welcome', 'winning', 'work', 'working', 'workshops', 'world', 'worldwide', 'writer', 'www', 'yahoo', 'yoga', 'york', 'youtube', 'youtuber']\n"
     ]
    }
   ],
   "source": [
    "vocab = clean_user_vectorizer.get_feature_names()\n",
    "print(vocab)"
   ]
  },
  {
   "cell_type": "code",
   "execution_count": 260,
   "metadata": {},
   "outputs": [
    {
     "data": {
      "text/html": [
       "<div>\n",
       "<table border=\"1\" class=\"dataframe\">\n",
       "  <thead>\n",
       "    <tr style=\"text-align: right;\">\n",
       "      <th></th>\n",
       "      <th>account</th>\n",
       "      <th>actor</th>\n",
       "      <th>actress</th>\n",
       "      <th>adventure</th>\n",
       "      <th>adventures</th>\n",
       "      <th>advertising</th>\n",
       "      <th>ambassador</th>\n",
       "      <th>amsterdam</th>\n",
       "      <th>angeles</th>\n",
       "      <th>anthony</th>\n",
       "      <th>...</th>\n",
       "      <th>workshops</th>\n",
       "      <th>world</th>\n",
       "      <th>worldwide</th>\n",
       "      <th>writer</th>\n",
       "      <th>www</th>\n",
       "      <th>yahoo</th>\n",
       "      <th>yoga</th>\n",
       "      <th>york</th>\n",
       "      <th>youtube</th>\n",
       "      <th>youtuber</th>\n",
       "    </tr>\n",
       "  </thead>\n",
       "  <tbody>\n",
       "    <tr>\n",
       "      <th>0</th>\n",
       "      <td>0</td>\n",
       "      <td>0</td>\n",
       "      <td>0</td>\n",
       "      <td>0</td>\n",
       "      <td>0</td>\n",
       "      <td>0</td>\n",
       "      <td>0</td>\n",
       "      <td>0</td>\n",
       "      <td>0</td>\n",
       "      <td>0</td>\n",
       "      <td>...</td>\n",
       "      <td>0</td>\n",
       "      <td>0</td>\n",
       "      <td>0</td>\n",
       "      <td>0</td>\n",
       "      <td>0</td>\n",
       "      <td>0</td>\n",
       "      <td>0</td>\n",
       "      <td>0</td>\n",
       "      <td>0</td>\n",
       "      <td>0</td>\n",
       "    </tr>\n",
       "    <tr>\n",
       "      <th>1</th>\n",
       "      <td>0</td>\n",
       "      <td>0</td>\n",
       "      <td>0</td>\n",
       "      <td>0</td>\n",
       "      <td>0</td>\n",
       "      <td>0</td>\n",
       "      <td>0</td>\n",
       "      <td>0</td>\n",
       "      <td>0</td>\n",
       "      <td>0</td>\n",
       "      <td>...</td>\n",
       "      <td>0</td>\n",
       "      <td>0</td>\n",
       "      <td>0</td>\n",
       "      <td>0</td>\n",
       "      <td>0</td>\n",
       "      <td>0</td>\n",
       "      <td>0</td>\n",
       "      <td>0</td>\n",
       "      <td>0</td>\n",
       "      <td>0</td>\n",
       "    </tr>\n",
       "    <tr>\n",
       "      <th>2</th>\n",
       "      <td>0</td>\n",
       "      <td>0</td>\n",
       "      <td>0</td>\n",
       "      <td>0</td>\n",
       "      <td>0</td>\n",
       "      <td>0</td>\n",
       "      <td>0</td>\n",
       "      <td>0</td>\n",
       "      <td>0</td>\n",
       "      <td>0</td>\n",
       "      <td>...</td>\n",
       "      <td>0</td>\n",
       "      <td>0</td>\n",
       "      <td>0</td>\n",
       "      <td>0</td>\n",
       "      <td>0</td>\n",
       "      <td>0</td>\n",
       "      <td>0</td>\n",
       "      <td>0</td>\n",
       "      <td>0</td>\n",
       "      <td>0</td>\n",
       "    </tr>\n",
       "    <tr>\n",
       "      <th>3</th>\n",
       "      <td>0</td>\n",
       "      <td>0</td>\n",
       "      <td>0</td>\n",
       "      <td>0</td>\n",
       "      <td>0</td>\n",
       "      <td>0</td>\n",
       "      <td>0</td>\n",
       "      <td>0</td>\n",
       "      <td>0</td>\n",
       "      <td>0</td>\n",
       "      <td>...</td>\n",
       "      <td>0</td>\n",
       "      <td>0</td>\n",
       "      <td>0</td>\n",
       "      <td>0</td>\n",
       "      <td>0</td>\n",
       "      <td>0</td>\n",
       "      <td>0</td>\n",
       "      <td>0</td>\n",
       "      <td>0</td>\n",
       "      <td>0</td>\n",
       "    </tr>\n",
       "    <tr>\n",
       "      <th>4</th>\n",
       "      <td>0</td>\n",
       "      <td>0</td>\n",
       "      <td>0</td>\n",
       "      <td>0</td>\n",
       "      <td>0</td>\n",
       "      <td>0</td>\n",
       "      <td>0</td>\n",
       "      <td>0</td>\n",
       "      <td>0</td>\n",
       "      <td>0</td>\n",
       "      <td>...</td>\n",
       "      <td>0</td>\n",
       "      <td>0</td>\n",
       "      <td>0</td>\n",
       "      <td>0</td>\n",
       "      <td>0</td>\n",
       "      <td>0</td>\n",
       "      <td>0</td>\n",
       "      <td>0</td>\n",
       "      <td>0</td>\n",
       "      <td>0</td>\n",
       "    </tr>\n",
       "  </tbody>\n",
       "</table>\n",
       "<p>5 rows × 250 columns</p>\n",
       "</div>"
      ],
      "text/plain": [
       "   account  actor  actress  adventure  adventures  advertising  ambassador  \\\n",
       "0        0      0        0          0           0            0           0   \n",
       "1        0      0        0          0           0            0           0   \n",
       "2        0      0        0          0           0            0           0   \n",
       "3        0      0        0          0           0            0           0   \n",
       "4        0      0        0          0           0            0           0   \n",
       "\n",
       "   amsterdam  angeles  anthony    ...     workshops  world  worldwide  writer  \\\n",
       "0          0        0        0    ...             0      0          0       0   \n",
       "1          0        0        0    ...             0      0          0       0   \n",
       "2          0        0        0    ...             0      0          0       0   \n",
       "3          0        0        0    ...             0      0          0       0   \n",
       "4          0        0        0    ...             0      0          0       0   \n",
       "\n",
       "   www  yahoo  yoga  york  youtube  youtuber  \n",
       "0    0      0     0     0        0         0  \n",
       "1    0      0     0     0        0         0  \n",
       "2    0      0     0     0        0         0  \n",
       "3    0      0     0     0        0         0  \n",
       "4    0      0     0     0        0         0  \n",
       "\n",
       "[5 rows x 250 columns]"
      ]
     },
     "execution_count": 260,
     "metadata": {},
     "output_type": "execute_result"
    }
   ],
   "source": [
    "clean_user_features = pd.DataFrame(data=clean_user_features, columns=vocab)\n",
    "clean_user_features.head()"
   ]
  },
  {
   "cell_type": "code",
   "execution_count": 261,
   "metadata": {},
   "outputs": [
    {
     "data": {
      "text/plain": [
       "(16148, 377)"
      ]
     },
     "execution_count": 261,
     "metadata": {},
     "output_type": "execute_result"
    }
   ],
   "source": [
    "clean_user_emojis_vectorizer = DictVectorizer()\n",
    "X = clean_user_emojis_vectorizer.fit_transform(Counter(s.split()) for s in clean_user_emojis)\n",
    "clean_user_emojis_features = X.toarray()\n",
    "clean_user_emojis_features.shape"
   ]
  },
  {
   "cell_type": "markdown",
   "metadata": {},
   "source": [
    "#### Localization"
   ]
  },
  {
   "cell_type": "code",
   "execution_count": 262,
   "metadata": {},
   "outputs": [
    {
     "data": {
      "text/plain": [
       "nan"
      ]
     },
     "execution_count": 262,
     "metadata": {},
     "output_type": "execute_result"
    }
   ],
   "source": [
    "data['localization'][23]"
   ]
  },
  {
   "cell_type": "code",
   "execution_count": 263,
   "metadata": {
    "collapsed": true
   },
   "outputs": [],
   "source": [
    "sentence, emojis = cleanup(data['localization'][23])"
   ]
  },
  {
   "cell_type": "code",
   "execution_count": 264,
   "metadata": {},
   "outputs": [
    {
     "data": {
      "text/plain": [
       "''"
      ]
     },
     "execution_count": 264,
     "metadata": {},
     "output_type": "execute_result"
    }
   ],
   "source": [
    "sentence"
   ]
  },
  {
   "cell_type": "code",
   "execution_count": 265,
   "metadata": {},
   "outputs": [
    {
     "data": {
      "text/plain": [
       "''"
      ]
     },
     "execution_count": 265,
     "metadata": {},
     "output_type": "execute_result"
    }
   ],
   "source": [
    "emojis"
   ]
  },
  {
   "cell_type": "code",
   "execution_count": 266,
   "metadata": {},
   "outputs": [
    {
     "name": "stdout",
     "output_type": "stream",
     "text": [
      "6% done\n",
      "12% done\n",
      "18% done\n",
      "24% done\n",
      "30% done\n",
      "36% done\n",
      "42% done\n",
      "48% done\n",
      "54% done\n",
      "60% done\n",
      "67% done\n",
      "73% done\n",
      "79% done\n",
      "85% done\n",
      "91% done\n",
      "97% done\n"
     ]
    }
   ],
   "source": [
    "clean_places = []\n",
    "clean_places_emojis = []\n",
    "for i in range( 0, data['localization'].size ):\n",
    "    if( (i+1)%1000 == 0 ):\n",
    "        print(str(round(i/16539*100))+\"% done\")\n",
    "    x,y = cleanup(data['localization'][i])\n",
    "    if len(y) > 0:\n",
    "        print('yes')\n",
    "    clean_places.append(x)\n",
    "    clean_places_emojis.append(y)"
   ]
  },
  {
   "cell_type": "code",
   "execution_count": 267,
   "metadata": {},
   "outputs": [
    {
     "data": {
      "text/plain": [
       "(16148, 250)"
      ]
     },
     "execution_count": 267,
     "metadata": {},
     "output_type": "execute_result"
    }
   ],
   "source": [
    "clean_places_vectorizer = CountVectorizer(analyzer = \"word\", tokenizer = None, preprocessor = None, stop_words = None, max_features = 250) \n",
    "clean_places_features = clean_places_vectorizer.fit_transform(clean_places)\n",
    "clean_places_features = clean_places_features.toarray()\n",
    "clean_places_features.shape"
   ]
  },
  {
   "cell_type": "code",
   "execution_count": 268,
   "metadata": {},
   "outputs": [
    {
     "name": "stdout",
     "output_type": "stream",
     "text": [
      "['abu', 'affalterbach', 'airport', 'alberta', 'american', 'amg', 'amsterdam', 'angeles', 'antarctica', 'arab', 'argentina', 'arizona', 'art', 'arts', 'atlanta', 'australia', 'austria', 'bali', 'bar', 'barcelona', 'baselworld', 'bay', 'beach', 'beirut', 'bel', 'belgium', 'berlin', 'beverly', 'big', 'bio', 'black', 'blue', 'bordeaux', 'brazil', 'bridge', 'brooklyn', 'cafe', 'california', 'cannes', 'canyon', 'cape', 'carlton', 'center', 'central', 'centre', 'china', 'city', 'club', 'coachella', 'coast', 'coffee', 'colombia', 'columbia', 'constance', 'copenhagen', 'cuba', 'dallas', 'de', 'del', 'denmark', 'desert', 'dhabi', 'di', 'disney', 'district', 'dolomiti', 'downtown', 'dtla', 'du', 'dubai', 'east', 'el', 'eleuthera', 'emirates', 'falls', 'faroe', 'festival', 'finland', 'fitness', 'florida', 'forn', 'four', 'france', 'francesc', 'francisco', 'frankfurt', 'garden', 'georgia', 'germany', 'gold', 'grand', 'greece', 'halaveli', 'hamburg', 'havana', 'hawaii', 'hills', 'hollywood', 'hong', 'hotel', 'house', 'ibiza', 'iceland', 'inca', 'indonesia', 'international', 'island', 'islands', 'istanbul', 'italy', 'janeiro', 'japan', 'jewellery', 'jordan', 'juan', 'kauai', 'kenya', 'kingdom', 'kong', 'kuala', 'la', 'lake', 'las', 'latif', 'le', 'lebanon', 'link', 'lisbon', 'lizard', 'london', 'los', 'lumpur', 'madrid', 'maldives', 'malibu', 'manhattan', 'market', 'marrakesh', 'massachusetts', 'maui', 'maya', 'melrose', 'mexico', 'miami', 'milan', 'modern', 'monica', 'morocco', 'moscow', 'mosque', 'mount', 'mountain', 'munich', 'museum', 'music', 'national', 'netherlands', 'nevada', 'new', 'newport', 'north', 'norway', 'oahu', 'old', 'one', 'ontario', 'oregon', 'orlando', 'paine', 'palm', 'paris', 'park', 'paulo', 'petersburg', 'plaza', 'point', 'portland', 'portugal', 'praia', 'punta', 'queensland', 'republic', 'reserve', 'resort', 'restaurant', 'rimini', 'rio', 'ritz', 'river', 'riviera', 'rome', 'royal', 'russia', 'saint', 'salzburg', 'san', 'sant', 'santa', 'santorini', 'seasons', 'show', 'singapore', 'soho', 'south', 'spa', 'spain', 'springs', 'square', 'st', 'state', 'station', 'stockholm', 'street', 'studio', 'sur', 'sweden', 'switzerland', 'sydney', 'tel', 'tennessee', 'texas', 'thailand', 'tokyo', 'toronto', 'torres', 'tower', 'town', 'tree', 'turin', 'turkey', 'ubud', 'united', 'utah', 'valencia', 'valley', 'vegas', 'venice', 'vienna', 'villa', 'village', 'wales', 'walt', 'washington', 'watch', 'west', 'western', 'whistler', 'williamsburg', 'world', 'york']\n"
     ]
    }
   ],
   "source": [
    "vocab = clean_places_vectorizer.get_feature_names()\n",
    "print(vocab)"
   ]
  },
  {
   "cell_type": "code",
   "execution_count": 269,
   "metadata": {},
   "outputs": [
    {
     "data": {
      "text/html": [
       "<div>\n",
       "<table border=\"1\" class=\"dataframe\">\n",
       "  <thead>\n",
       "    <tr style=\"text-align: right;\">\n",
       "      <th></th>\n",
       "      <th>abu</th>\n",
       "      <th>affalterbach</th>\n",
       "      <th>airport</th>\n",
       "      <th>alberta</th>\n",
       "      <th>american</th>\n",
       "      <th>amg</th>\n",
       "      <th>amsterdam</th>\n",
       "      <th>angeles</th>\n",
       "      <th>antarctica</th>\n",
       "      <th>arab</th>\n",
       "      <th>...</th>\n",
       "      <th>wales</th>\n",
       "      <th>walt</th>\n",
       "      <th>washington</th>\n",
       "      <th>watch</th>\n",
       "      <th>west</th>\n",
       "      <th>western</th>\n",
       "      <th>whistler</th>\n",
       "      <th>williamsburg</th>\n",
       "      <th>world</th>\n",
       "      <th>york</th>\n",
       "    </tr>\n",
       "  </thead>\n",
       "  <tbody>\n",
       "    <tr>\n",
       "      <th>0</th>\n",
       "      <td>0</td>\n",
       "      <td>0</td>\n",
       "      <td>0</td>\n",
       "      <td>0</td>\n",
       "      <td>0</td>\n",
       "      <td>0</td>\n",
       "      <td>0</td>\n",
       "      <td>0</td>\n",
       "      <td>0</td>\n",
       "      <td>0</td>\n",
       "      <td>...</td>\n",
       "      <td>0</td>\n",
       "      <td>0</td>\n",
       "      <td>0</td>\n",
       "      <td>0</td>\n",
       "      <td>0</td>\n",
       "      <td>0</td>\n",
       "      <td>0</td>\n",
       "      <td>0</td>\n",
       "      <td>0</td>\n",
       "      <td>0</td>\n",
       "    </tr>\n",
       "    <tr>\n",
       "      <th>1</th>\n",
       "      <td>0</td>\n",
       "      <td>0</td>\n",
       "      <td>0</td>\n",
       "      <td>0</td>\n",
       "      <td>0</td>\n",
       "      <td>0</td>\n",
       "      <td>0</td>\n",
       "      <td>0</td>\n",
       "      <td>0</td>\n",
       "      <td>0</td>\n",
       "      <td>...</td>\n",
       "      <td>0</td>\n",
       "      <td>0</td>\n",
       "      <td>0</td>\n",
       "      <td>0</td>\n",
       "      <td>0</td>\n",
       "      <td>0</td>\n",
       "      <td>0</td>\n",
       "      <td>0</td>\n",
       "      <td>0</td>\n",
       "      <td>0</td>\n",
       "    </tr>\n",
       "    <tr>\n",
       "      <th>2</th>\n",
       "      <td>0</td>\n",
       "      <td>0</td>\n",
       "      <td>0</td>\n",
       "      <td>0</td>\n",
       "      <td>0</td>\n",
       "      <td>0</td>\n",
       "      <td>0</td>\n",
       "      <td>0</td>\n",
       "      <td>0</td>\n",
       "      <td>0</td>\n",
       "      <td>...</td>\n",
       "      <td>0</td>\n",
       "      <td>0</td>\n",
       "      <td>0</td>\n",
       "      <td>0</td>\n",
       "      <td>0</td>\n",
       "      <td>0</td>\n",
       "      <td>0</td>\n",
       "      <td>0</td>\n",
       "      <td>0</td>\n",
       "      <td>0</td>\n",
       "    </tr>\n",
       "    <tr>\n",
       "      <th>3</th>\n",
       "      <td>0</td>\n",
       "      <td>0</td>\n",
       "      <td>0</td>\n",
       "      <td>0</td>\n",
       "      <td>0</td>\n",
       "      <td>0</td>\n",
       "      <td>0</td>\n",
       "      <td>0</td>\n",
       "      <td>0</td>\n",
       "      <td>0</td>\n",
       "      <td>...</td>\n",
       "      <td>0</td>\n",
       "      <td>0</td>\n",
       "      <td>0</td>\n",
       "      <td>0</td>\n",
       "      <td>0</td>\n",
       "      <td>0</td>\n",
       "      <td>0</td>\n",
       "      <td>0</td>\n",
       "      <td>0</td>\n",
       "      <td>0</td>\n",
       "    </tr>\n",
       "    <tr>\n",
       "      <th>4</th>\n",
       "      <td>0</td>\n",
       "      <td>0</td>\n",
       "      <td>0</td>\n",
       "      <td>0</td>\n",
       "      <td>0</td>\n",
       "      <td>0</td>\n",
       "      <td>0</td>\n",
       "      <td>0</td>\n",
       "      <td>0</td>\n",
       "      <td>0</td>\n",
       "      <td>...</td>\n",
       "      <td>0</td>\n",
       "      <td>0</td>\n",
       "      <td>0</td>\n",
       "      <td>0</td>\n",
       "      <td>0</td>\n",
       "      <td>0</td>\n",
       "      <td>0</td>\n",
       "      <td>0</td>\n",
       "      <td>0</td>\n",
       "      <td>0</td>\n",
       "    </tr>\n",
       "  </tbody>\n",
       "</table>\n",
       "<p>5 rows × 250 columns</p>\n",
       "</div>"
      ],
      "text/plain": [
       "   abu  affalterbach  airport  alberta  american  amg  amsterdam  angeles  \\\n",
       "0    0             0        0        0         0    0          0        0   \n",
       "1    0             0        0        0         0    0          0        0   \n",
       "2    0             0        0        0         0    0          0        0   \n",
       "3    0             0        0        0         0    0          0        0   \n",
       "4    0             0        0        0         0    0          0        0   \n",
       "\n",
       "   antarctica  arab  ...   wales  walt  washington  watch  west  western  \\\n",
       "0           0     0  ...       0     0           0      0     0        0   \n",
       "1           0     0  ...       0     0           0      0     0        0   \n",
       "2           0     0  ...       0     0           0      0     0        0   \n",
       "3           0     0  ...       0     0           0      0     0        0   \n",
       "4           0     0  ...       0     0           0      0     0        0   \n",
       "\n",
       "   whistler  williamsburg  world  york  \n",
       "0         0             0      0     0  \n",
       "1         0             0      0     0  \n",
       "2         0             0      0     0  \n",
       "3         0             0      0     0  \n",
       "4         0             0      0     0  \n",
       "\n",
       "[5 rows x 250 columns]"
      ]
     },
     "execution_count": 269,
     "metadata": {},
     "output_type": "execute_result"
    }
   ],
   "source": [
    "clean_places_features = pd.DataFrame(data=clean_places_features, columns=vocab)\n",
    "clean_places_features.head()"
   ]
  },
  {
   "cell_type": "code",
   "execution_count": 270,
   "metadata": {
    "collapsed": true
   },
   "outputs": [],
   "source": [
    "dataset1 = np.hstack((clean_features, clean_features_emoji))"
   ]
  },
  {
   "cell_type": "code",
   "execution_count": 271,
   "metadata": {},
   "outputs": [
    {
     "data": {
      "text/plain": [
       "(16148, 537)"
      ]
     },
     "execution_count": 271,
     "metadata": {},
     "output_type": "execute_result"
    }
   ],
   "source": [
    "dataset1.shape"
   ]
  },
  {
   "cell_type": "code",
   "execution_count": 272,
   "metadata": {
    "collapsed": true
   },
   "outputs": [],
   "source": [
    "dataset2 = np.hstack((data.numberFollowers.as_matrix().reshape(16148,1),\\\n",
    "                      data.numberFollowing.as_matrix().reshape(16148,1),\\\n",
    "                      data.numberPosts.as_matrix().reshape(16148,1)))"
   ]
  },
  {
   "cell_type": "code",
   "execution_count": 273,
   "metadata": {},
   "outputs": [
    {
     "data": {
      "text/plain": [
       "(16148, 3)"
      ]
     },
     "execution_count": 273,
     "metadata": {},
     "output_type": "execute_result"
    }
   ],
   "source": [
    "dataset2.shape"
   ]
  },
  {
   "cell_type": "code",
   "execution_count": 274,
   "metadata": {},
   "outputs": [
    {
     "data": {
      "text/plain": [
       "array([[720979,    233,    988],\n",
       "       [720979,    233,    988],\n",
       "       [720979,    233,    988],\n",
       "       [720979,    233,    988],\n",
       "       [720979,    233,    988]], dtype=int64)"
      ]
     },
     "execution_count": 274,
     "metadata": {},
     "output_type": "execute_result"
    }
   ],
   "source": [
    "dataset2[:5]"
   ]
  },
  {
   "cell_type": "code",
   "execution_count": 275,
   "metadata": {
    "collapsed": true
   },
   "outputs": [],
   "source": [
    "ds = np.hstack((dataset1,dataset2))"
   ]
  },
  {
   "cell_type": "code",
   "execution_count": 276,
   "metadata": {},
   "outputs": [
    {
     "data": {
      "text/plain": [
       "(16148, 540)"
      ]
     },
     "execution_count": 276,
     "metadata": {},
     "output_type": "execute_result"
    }
   ],
   "source": [
    "ds.shape"
   ]
  },
  {
   "cell_type": "code",
   "execution_count": 277,
   "metadata": {
    "collapsed": true
   },
   "outputs": [],
   "source": [
    "pd.concat([clean_features, clean_features_emoji], axis=1).to_csv('NLP1_feature.csv')"
   ]
  },
  {
   "cell_type": "code",
   "execution_count": 281,
   "metadata": {
    "scrolled": true
   },
   "outputs": [
    {
     "name": "stdout",
     "output_type": "stream",
     "text": [
      "<class 'pandas.core.frame.DataFrame'>\n",
      "RangeIndex: 16539 entries, 0 to 16538\n",
      "Data columns (total 14 columns):\n",
      "numberPosts           16539 non-null int64\n",
      "website               14652 non-null object\n",
      "numberFollowing       16539 non-null int64\n",
      "descriptionProfile    16148 non-null object\n",
      "alias                 16539 non-null object\n",
      "numberFollowers       16539 non-null int64\n",
      "date                  16539 non-null object\n",
      "mentions              16539 non-null object\n",
      "multipleImage         16539 non-null bool\n",
      "localization          6887 non-null object\n",
      "tags                  16539 non-null object\n",
      "numberLikes           16539 non-null int64\n",
      "description           16319 non-null object\n",
      "aliasNum              16539 non-null int64\n",
      "dtypes: bool(1), int64(5), object(8)\n",
      "memory usage: 1.7+ MB\n"
     ]
    }
   ],
   "source": [
    "processed.info()"
   ]
  },
  {
   "cell_type": "code",
   "execution_count": 280,
   "metadata": {
    "collapsed": true
   },
   "outputs": [],
   "source": [
    "pd.concat([clean_features, clean_user_features], axis=1).to_csv('NLP2_feature.csv')"
   ]
  },
  {
   "cell_type": "markdown",
   "metadata": {},
   "source": [
    "---"
   ]
  },
  {
   "cell_type": "markdown",
   "metadata": {},
   "source": [
    "# Prediction"
   ]
  },
  {
   "cell_type": "code",
   "execution_count": 282,
   "metadata": {
    "collapsed": true
   },
   "outputs": [],
   "source": [
    "nlp = pd.read_csv(\"NLP2_feature.csv\", na_values='NaN')"
   ]
  },
  {
   "cell_type": "code",
   "execution_count": 283,
   "metadata": {
    "collapsed": true
   },
   "outputs": [],
   "source": [
    "process = pd.concat([pro_copy,nlp], axis=1)"
   ]
  },
  {
   "cell_type": "code",
   "execution_count": 284,
   "metadata": {},
   "outputs": [
    {
     "name": "stdout",
     "output_type": "stream",
     "text": [
      "<class 'pandas.core.frame.DataFrame'>\n",
      "RangeIndex: 16539 entries, 0 to 16538\n",
      "Columns: 774 entries, numberPosts to youtuber\n",
      "dtypes: float64(752), int32(15), int64(7)\n",
      "memory usage: 96.7 MB\n"
     ]
    }
   ],
   "source": [
    "process.info()"
   ]
  },
  {
   "cell_type": "code",
   "execution_count": 286,
   "metadata": {},
   "outputs": [
    {
     "data": {
      "text/html": [
       "<div>\n",
       "<table border=\"1\" class=\"dataframe\">\n",
       "  <thead>\n",
       "    <tr style=\"text-align: right;\">\n",
       "      <th></th>\n",
       "      <th>numberPosts</th>\n",
       "      <th>numberFollowing</th>\n",
       "      <th>alias</th>\n",
       "      <th>numberFollowers</th>\n",
       "      <th>multipleImage</th>\n",
       "      <th>numberLikes</th>\n",
       "      <th>youtube</th>\n",
       "      <th>music</th>\n",
       "      <th>tumblr</th>\n",
       "      <th>facebook</th>\n",
       "      <th>...</th>\n",
       "      <th>workshops</th>\n",
       "      <th>world.1</th>\n",
       "      <th>worldwide</th>\n",
       "      <th>writer</th>\n",
       "      <th>www.1</th>\n",
       "      <th>yahoo</th>\n",
       "      <th>yoga.1</th>\n",
       "      <th>york</th>\n",
       "      <th>youtube.1</th>\n",
       "      <th>youtuber</th>\n",
       "    </tr>\n",
       "  </thead>\n",
       "  <tbody>\n",
       "    <tr>\n",
       "      <th>0</th>\n",
       "      <td>988</td>\n",
       "      <td>233</td>\n",
       "      <td>0</td>\n",
       "      <td>720979</td>\n",
       "      <td>0</td>\n",
       "      <td>10047</td>\n",
       "      <td>0</td>\n",
       "      <td>0</td>\n",
       "      <td>0</td>\n",
       "      <td>0</td>\n",
       "      <td>...</td>\n",
       "      <td>0.00</td>\n",
       "      <td>0.00</td>\n",
       "      <td>0.00</td>\n",
       "      <td>0.00</td>\n",
       "      <td>0.00</td>\n",
       "      <td>0.00</td>\n",
       "      <td>0.00</td>\n",
       "      <td>0.00</td>\n",
       "      <td>0.00</td>\n",
       "      <td>0.00</td>\n",
       "    </tr>\n",
       "    <tr>\n",
       "      <th>1</th>\n",
       "      <td>988</td>\n",
       "      <td>233</td>\n",
       "      <td>0</td>\n",
       "      <td>720979</td>\n",
       "      <td>0</td>\n",
       "      <td>16781</td>\n",
       "      <td>0</td>\n",
       "      <td>0</td>\n",
       "      <td>0</td>\n",
       "      <td>0</td>\n",
       "      <td>...</td>\n",
       "      <td>0.00</td>\n",
       "      <td>0.00</td>\n",
       "      <td>0.00</td>\n",
       "      <td>0.00</td>\n",
       "      <td>0.00</td>\n",
       "      <td>0.00</td>\n",
       "      <td>0.00</td>\n",
       "      <td>0.00</td>\n",
       "      <td>0.00</td>\n",
       "      <td>0.00</td>\n",
       "    </tr>\n",
       "    <tr>\n",
       "      <th>2</th>\n",
       "      <td>988</td>\n",
       "      <td>233</td>\n",
       "      <td>0</td>\n",
       "      <td>720979</td>\n",
       "      <td>0</td>\n",
       "      <td>11227</td>\n",
       "      <td>0</td>\n",
       "      <td>0</td>\n",
       "      <td>0</td>\n",
       "      <td>0</td>\n",
       "      <td>...</td>\n",
       "      <td>0.00</td>\n",
       "      <td>0.00</td>\n",
       "      <td>0.00</td>\n",
       "      <td>0.00</td>\n",
       "      <td>0.00</td>\n",
       "      <td>0.00</td>\n",
       "      <td>0.00</td>\n",
       "      <td>0.00</td>\n",
       "      <td>0.00</td>\n",
       "      <td>0.00</td>\n",
       "    </tr>\n",
       "    <tr>\n",
       "      <th>3</th>\n",
       "      <td>988</td>\n",
       "      <td>233</td>\n",
       "      <td>0</td>\n",
       "      <td>720979</td>\n",
       "      <td>0</td>\n",
       "      <td>21539</td>\n",
       "      <td>0</td>\n",
       "      <td>0</td>\n",
       "      <td>0</td>\n",
       "      <td>0</td>\n",
       "      <td>...</td>\n",
       "      <td>0.00</td>\n",
       "      <td>0.00</td>\n",
       "      <td>0.00</td>\n",
       "      <td>0.00</td>\n",
       "      <td>0.00</td>\n",
       "      <td>0.00</td>\n",
       "      <td>0.00</td>\n",
       "      <td>0.00</td>\n",
       "      <td>0.00</td>\n",
       "      <td>0.00</td>\n",
       "    </tr>\n",
       "    <tr>\n",
       "      <th>4</th>\n",
       "      <td>988</td>\n",
       "      <td>233</td>\n",
       "      <td>0</td>\n",
       "      <td>720979</td>\n",
       "      <td>0</td>\n",
       "      <td>21054</td>\n",
       "      <td>0</td>\n",
       "      <td>0</td>\n",
       "      <td>0</td>\n",
       "      <td>0</td>\n",
       "      <td>...</td>\n",
       "      <td>0.00</td>\n",
       "      <td>0.00</td>\n",
       "      <td>0.00</td>\n",
       "      <td>0.00</td>\n",
       "      <td>0.00</td>\n",
       "      <td>0.00</td>\n",
       "      <td>0.00</td>\n",
       "      <td>0.00</td>\n",
       "      <td>0.00</td>\n",
       "      <td>0.00</td>\n",
       "    </tr>\n",
       "  </tbody>\n",
       "</table>\n",
       "<p>5 rows × 774 columns</p>\n",
       "</div>"
      ],
      "text/plain": [
       "   numberPosts  numberFollowing  alias  numberFollowers  multipleImage  \\\n",
       "0          988              233      0           720979              0   \n",
       "1          988              233      0           720979              0   \n",
       "2          988              233      0           720979              0   \n",
       "3          988              233      0           720979              0   \n",
       "4          988              233      0           720979              0   \n",
       "\n",
       "   numberLikes  youtube  music  tumblr  facebook    ...     workshops  \\\n",
       "0        10047        0      0       0         0    ...          0.00   \n",
       "1        16781        0      0       0         0    ...          0.00   \n",
       "2        11227        0      0       0         0    ...          0.00   \n",
       "3        21539        0      0       0         0    ...          0.00   \n",
       "4        21054        0      0       0         0    ...          0.00   \n",
       "\n",
       "   world.1  worldwide  writer  www.1  yahoo  yoga.1  york  youtube.1  youtuber  \n",
       "0     0.00       0.00    0.00   0.00   0.00    0.00  0.00       0.00      0.00  \n",
       "1     0.00       0.00    0.00   0.00   0.00    0.00  0.00       0.00      0.00  \n",
       "2     0.00       0.00    0.00   0.00   0.00    0.00  0.00       0.00      0.00  \n",
       "3     0.00       0.00    0.00   0.00   0.00    0.00  0.00       0.00      0.00  \n",
       "4     0.00       0.00    0.00   0.00   0.00    0.00  0.00       0.00      0.00  \n",
       "\n",
       "[5 rows x 774 columns]"
      ]
     },
     "execution_count": 286,
     "metadata": {},
     "output_type": "execute_result"
    }
   ],
   "source": [
    "#processed.to_csv('processed.csv', index=False)\n",
    "process.head()"
   ]
  },
  {
   "cell_type": "code",
   "execution_count": 297,
   "metadata": {
    "collapsed": true
   },
   "outputs": [],
   "source": [
    "process.to_csv('process.csv', index=False)"
   ]
  },
  {
   "cell_type": "code",
   "execution_count": 287,
   "metadata": {},
   "outputs": [
    {
     "data": {
      "text/html": [
       "<div>\n",
       "<table border=\"1\" class=\"dataframe\">\n",
       "  <thead>\n",
       "    <tr style=\"text-align: right;\">\n",
       "      <th></th>\n",
       "      <th>numberPosts</th>\n",
       "      <th>numberFollowing</th>\n",
       "      <th>alias</th>\n",
       "      <th>numberFollowers</th>\n",
       "      <th>multipleImage</th>\n",
       "      <th>numberLikes</th>\n",
       "      <th>youtube</th>\n",
       "      <th>music</th>\n",
       "      <th>tumblr</th>\n",
       "      <th>facebook</th>\n",
       "      <th>...</th>\n",
       "      <th>workshops</th>\n",
       "      <th>world.1</th>\n",
       "      <th>worldwide</th>\n",
       "      <th>writer</th>\n",
       "      <th>www.1</th>\n",
       "      <th>yahoo</th>\n",
       "      <th>yoga.1</th>\n",
       "      <th>york</th>\n",
       "      <th>youtube.1</th>\n",
       "      <th>youtuber</th>\n",
       "    </tr>\n",
       "  </thead>\n",
       "  <tbody>\n",
       "    <tr>\n",
       "      <th>3</th>\n",
       "      <td>988</td>\n",
       "      <td>233</td>\n",
       "      <td>0</td>\n",
       "      <td>720979</td>\n",
       "      <td>0</td>\n",
       "      <td>21539</td>\n",
       "      <td>0</td>\n",
       "      <td>0</td>\n",
       "      <td>0</td>\n",
       "      <td>0</td>\n",
       "      <td>...</td>\n",
       "      <td>0.00</td>\n",
       "      <td>0.00</td>\n",
       "      <td>0.00</td>\n",
       "      <td>0.00</td>\n",
       "      <td>0.00</td>\n",
       "      <td>0.00</td>\n",
       "      <td>0.00</td>\n",
       "      <td>0.00</td>\n",
       "      <td>0.00</td>\n",
       "      <td>0.00</td>\n",
       "    </tr>\n",
       "    <tr>\n",
       "      <th>4</th>\n",
       "      <td>988</td>\n",
       "      <td>233</td>\n",
       "      <td>0</td>\n",
       "      <td>720979</td>\n",
       "      <td>0</td>\n",
       "      <td>21054</td>\n",
       "      <td>0</td>\n",
       "      <td>0</td>\n",
       "      <td>0</td>\n",
       "      <td>0</td>\n",
       "      <td>...</td>\n",
       "      <td>0.00</td>\n",
       "      <td>0.00</td>\n",
       "      <td>0.00</td>\n",
       "      <td>0.00</td>\n",
       "      <td>0.00</td>\n",
       "      <td>0.00</td>\n",
       "      <td>0.00</td>\n",
       "      <td>0.00</td>\n",
       "      <td>0.00</td>\n",
       "      <td>0.00</td>\n",
       "    </tr>\n",
       "    <tr>\n",
       "      <th>5</th>\n",
       "      <td>988</td>\n",
       "      <td>233</td>\n",
       "      <td>0</td>\n",
       "      <td>720979</td>\n",
       "      <td>0</td>\n",
       "      <td>12375</td>\n",
       "      <td>0</td>\n",
       "      <td>0</td>\n",
       "      <td>0</td>\n",
       "      <td>0</td>\n",
       "      <td>...</td>\n",
       "      <td>0.00</td>\n",
       "      <td>0.00</td>\n",
       "      <td>0.00</td>\n",
       "      <td>0.00</td>\n",
       "      <td>0.00</td>\n",
       "      <td>0.00</td>\n",
       "      <td>0.00</td>\n",
       "      <td>0.00</td>\n",
       "      <td>0.00</td>\n",
       "      <td>0.00</td>\n",
       "    </tr>\n",
       "  </tbody>\n",
       "</table>\n",
       "<p>3 rows × 774 columns</p>\n",
       "</div>"
      ],
      "text/plain": [
       "   numberPosts  numberFollowing  alias  numberFollowers  multipleImage  \\\n",
       "3          988              233      0           720979              0   \n",
       "4          988              233      0           720979              0   \n",
       "5          988              233      0           720979              0   \n",
       "\n",
       "   numberLikes  youtube  music  tumblr  facebook    ...     workshops  \\\n",
       "3        21539        0      0       0         0    ...          0.00   \n",
       "4        21054        0      0       0         0    ...          0.00   \n",
       "5        12375        0      0       0         0    ...          0.00   \n",
       "\n",
       "   world.1  worldwide  writer  www.1  yahoo  yoga.1  york  youtube.1  youtuber  \n",
       "3     0.00       0.00    0.00   0.00   0.00    0.00  0.00       0.00      0.00  \n",
       "4     0.00       0.00    0.00   0.00   0.00    0.00  0.00       0.00      0.00  \n",
       "5     0.00       0.00    0.00   0.00   0.00    0.00  0.00       0.00      0.00  \n",
       "\n",
       "[3 rows x 774 columns]"
      ]
     },
     "execution_count": 287,
     "metadata": {},
     "output_type": "execute_result"
    }
   ],
   "source": [
    "process[process[\"alias\"].astype(int)==0][3:6]"
   ]
  },
  {
   "cell_type": "code",
   "execution_count": 288,
   "metadata": {
    "collapsed": true
   },
   "outputs": [],
   "source": [
    "deleted = process[process['alias'].astype(int)==0][0:2]\n",
    "test = process[process['alias'].astype(int)==0][3:6]\n",
    "train = process[process['alias'].astype(int)==0][6:len(process[process[\"alias\"].astype(int)==0])]\n",
    "\n",
    "for i in range(1, np.max(process['alias'].astype(int),axis=0)):\n",
    "    deleted = pd.concat([deleted, process[process['alias']==i][0:2]], axis=0)\n",
    "    test = pd.concat([test, process[process['alias']==i][3:6]], axis=0)\n",
    "    train = pd.concat([train, process[process['alias']==i][6:len(process[process[\"alias\"]==i])]], axis=0)"
   ]
  },
  {
   "cell_type": "code",
   "execution_count": 289,
   "metadata": {
    "collapsed": true
   },
   "outputs": [],
   "source": [
    "X_train = train\n",
    "X_test = test\n",
    "y_train = train['numberLikes']\n",
    "X_train = X_train.drop(['numberLikes'],axis=1)\n",
    "y_test = test['numberLikes']\n",
    "X_test = X_test.drop(['numberLikes'],axis=1)"
   ]
  },
  {
   "cell_type": "code",
   "execution_count": 290,
   "metadata": {},
   "outputs": [
    {
     "name": "stdout",
     "output_type": "stream",
     "text": [
      "(10690, 773)\n",
      "(2916, 773)\n",
      "(10690,)\n",
      "(2916,)\n"
     ]
    }
   ],
   "source": [
    "print(X_train.shape)\n",
    "print(X_test.shape)\n",
    "print(y_train.shape)\n",
    "print(y_test.shape)"
   ]
  },
  {
   "cell_type": "code",
   "execution_count": 291,
   "metadata": {},
   "outputs": [
    {
     "name": "stderr",
     "output_type": "stream",
     "text": [
      "F:\\Anaconda3\\envs\\tensorflow-gpu\\lib\\site-packages\\pandas\\core\\frame.py:2842: SettingWithCopyWarning: \n",
      "A value is trying to be set on a copy of a slice from a DataFrame\n",
      "\n",
      "See the caveats in the documentation: http://pandas.pydata.org/pandas-docs/stable/indexing.html#indexing-view-versus-copy\n",
      "  downcast=downcast, **kwargs)\n"
     ]
    }
   ],
   "source": [
    "X_train.fillna(value=-9999, inplace=True)\n",
    "y_train.fillna(value=-9999, inplace=True)\n",
    "X_test.fillna(value=-9999, inplace=True)\n",
    "y_test.fillna(value=-9999, inplace=True)"
   ]
  },
  {
   "cell_type": "code",
   "execution_count": 292,
   "metadata": {
    "collapsed": true
   },
   "outputs": [],
   "source": [
    "from sklearn import linear_model"
   ]
  },
  {
   "cell_type": "code",
   "execution_count": 293,
   "metadata": {},
   "outputs": [
    {
     "data": {
      "text/plain": [
       "0.91393141807225853"
      ]
     },
     "execution_count": 293,
     "metadata": {},
     "output_type": "execute_result"
    }
   ],
   "source": [
    "lm = linear_model.LinearRegression()\n",
    "model = lm.fit(X_train, y_train)\n",
    "pred = lm.predict(X_test)\n",
    "model.score(X_test, y_test)"
   ]
  },
  {
   "cell_type": "code",
   "execution_count": 304,
   "metadata": {},
   "outputs": [
    {
     "data": {
      "image/png": "[encoded data removed]",
      "text/plain": [
       "<matplotlib.figure.Figure at 0x203ddee05f8>"
      ]
     },
     "metadata": {},
     "output_type": "display_data"
    }
   ],
   "source": [
    "plt.scatter(y_test, pred, color=['red','blue'])\n",
    "plt.show()"
   ]
  },
  {
   "cell_type": "code",
   "execution_count": 305,
   "metadata": {},
   "outputs": [
    {
     "data": {
      "image/png": "[encoded data removed]",
      "text/plain": [
       "<matplotlib.figure.Figure at 0x203a7583ba8>"
      ]
     },
     "metadata": {},
     "output_type": "display_data"
    }
   ],
   "source": [
    "plt.scatter(y_test, abs(pred-y_test), color=['red','blue'])\n",
    "plt.show()"
   ]
  },
  {
   "cell_type": "code",
   "execution_count": 331,
   "metadata": {},
   "outputs": [
    {
     "data": {
      "image/png": "[encoded data removed]",
      "text/plain": [
       "<matplotlib.figure.Figure at 0x203810b57f0>"
      ]
     },
     "metadata": {},
     "output_type": "display_data"
    }
   ],
   "source": [
    "fig, ax = plt.subplots(figsize=(12,8))\n",
    "ax.scatter(y_test, pred, s=50, cmap=plt.cm.coolwarm, zorder=10, color=['red','blue'])\n",
    "lims = [\n",
    "    np.min([ax.get_xlim(), ax.get_ylim()]),  # min of both axes\n",
    "    np.max([ax.get_xlim(), ax.get_ylim()]),  # max of both axes\n",
    "]\n",
    "\n",
    "# now plot both limits against eachother\n",
    "ax.plot(lims, lims, 'k-', alpha=1, zorder=0)\n",
    "ax.set_aspect('equal')\n",
    "ax.set_xlim(lims)\n",
    "ax.set_ylim(lims)\n",
    "plt.tick_params(axis='both', which='major', labelsize=12)\n",
    "plt.tick_params(axis='both', which='minor', labelsize=12)\n",
    "ax.set_title('Predicted number of likes vs true number of likes')\n",
    "ax.set_xlabel('True number of likes', fontsize=15) \n",
    "ax.set_ylabel('Predicted number of likes', fontsize=15) \n",
    "\n",
    "plt.show()"
   ]
  },
  {
   "cell_type": "code",
   "execution_count": 342,
   "metadata": {},
   "outputs": [
    {
     "name": "stdout",
     "output_type": "stream",
     "text": [
      "95.674 %\n"
     ]
    }
   ],
   "source": [
    "from scipy.stats.stats import pearsonr\n",
    "cor, pval = pearsonr(y_test, pred)\n",
    "print(round(cor*100,4),'%')"
   ]
  },
  {
   "cell_type": "code",
   "execution_count": 318,
   "metadata": {},
   "outputs": [
    {
     "data": {
      "image/png": "[encoded data removed]",
      "text/plain": [
       "<matplotlib.figure.Figure at 0x20381033be0>"
      ]
     },
     "metadata": {},
     "output_type": "display_data"
    }
   ],
   "source": [
    "# multicollinearity?\n",
    "def correlation_matrix(df):\n",
    "    from matplotlib import pyplot as plt\n",
    "    from matplotlib import cm as cm\n",
    "\n",
    "    fig = plt.figure()\n",
    "    fig.set_figheight(15)\n",
    "    fig.set_figwidth(15)\n",
    "    ax1 = fig.add_subplot(111)\n",
    "    cmap = cm.get_cmap('jet', 30)\n",
    "    cax = ax1.imshow(df.corr(), interpolation=\"nearest\", cmap=cmap)\n",
    "    ax1.grid(True)\n",
    "    plt.title('Correlation', fontsize=20)\n",
    "    labels=df.columns\n",
    "    ax1.set_xticklabels(labels,fontsize=20)\n",
    "    plt.xticks(rotation = 45)\n",
    "    ax1.set_yticklabels(labels,fontsize=20)\n",
    "    # Add colorbar, make sure to specify tick locations to match desired ticklabels\n",
    "    fig.colorbar(cax)\n",
    "    plt.show()\n",
    "\n",
    "correlation_matrix(processed)"
   ]
  },
  {
   "cell_type": "code",
   "execution_count": 294,
   "metadata": {},
   "outputs": [
    {
     "name": "stdout",
     "output_type": "stream",
     "text": [
      "18676.906309224745\n"
     ]
    }
   ],
   "source": [
    "from sklearn.metrics import mean_squared_error\n",
    "from math import sqrt\n",
    "\n",
    "rms = sqrt(mean_squared_error(y_test,pred))\n",
    "print(rms)"
   ]
  },
  {
   "cell_type": "markdown",
   "metadata": {},
   "source": [
    "### GAM"
   ]
  },
  {
   "cell_type": "code",
   "execution_count": 75,
   "metadata": {
    "collapsed": true
   },
   "outputs": [],
   "source": [
    "from pygam import LinearGAM\n",
    "from pygam.utils import generate_X_grid"
   ]
  },
  {
   "cell_type": "code",
   "execution_count": 77,
   "metadata": {
    "collapsed": true
   },
   "outputs": [],
   "source": [
    "X_train.to_csv(\"insta/X_train.csv\")\n",
    "y_train.to_csv(\"insta/y_train.csv\")\n",
    "X_test.to_csv(\"insta/X_test.csv\")\n",
    "y_test.to_csv(\"insta/y_test.csv\")"
   ]
  },
  {
   "cell_type": "markdown",
   "metadata": {},
   "source": [
    "### Gradient Boosting Regressor"
   ]
  },
  {
   "cell_type": "code",
   "execution_count": 295,
   "metadata": {
    "collapsed": true
   },
   "outputs": [],
   "source": [
    "import numpy as np\n",
    "import matplotlib.pyplot as plt\n",
    "from sklearn import ensemble\n",
    "from sklearn import datasets\n",
    "from sklearn.utils import shuffle\n",
    "from sklearn.metrics import mean_squared_error"
   ]
  },
  {
   "cell_type": "code",
   "execution_count": 343,
   "metadata": {},
   "outputs": [
    {
     "name": "stdout",
     "output_type": "stream",
     "text": [
      "MSE: 367213803.6327\n",
      "19162.823477574726\n"
     ]
    },
    {
     "data": {
      "text/plain": [
       "0.90939466609299791"
      ]
     },
     "execution_count": 343,
     "metadata": {},
     "output_type": "execute_result"
    }
   ],
   "source": [
    "params = {'n_estimators': 500, 'max_depth': 4, 'min_samples_split': 2,\n",
    "          'learning_rate': 0.01, 'loss': 'ls'}\n",
    "clf = ensemble.GradientBoostingRegressor(**params)\n",
    "\n",
    "clf.fit(X_train, y_train)\n",
    "mse = mean_squared_error(y_test, clf.predict(X_test))\n",
    "print(\"MSE: %.4f\" % mse)\n",
    "print(sqrt(mse))\n",
    "clf.score(X_test, y_test)"
   ]
  },
  {
   "cell_type": "markdown",
   "metadata": {},
   "source": [
    "~90% increase in performance after introduction of NLP features"
   ]
  },
  {
   "cell_type": "markdown",
   "metadata": {},
   "source": [
    "## AdaBoost "
   ]
  },
  {
   "cell_type": "code",
   "execution_count": 298,
   "metadata": {
    "collapsed": true
   },
   "outputs": [],
   "source": [
    "regr_1 = ensemble.RandomForestRegressor(max_depth=4)\n",
    "regr_2 = ensemble.AdaBoostRegressor(ensemble.RandomForestRegressor(max_depth=4),\n",
    "                                    n_estimators=300, random_state=np.random.RandomState(1))"
   ]
  },
  {
   "cell_type": "code",
   "execution_count": 299,
   "metadata": {},
   "outputs": [
    {
     "data": {
      "text/plain": [
       "AdaBoostRegressor(base_estimator=RandomForestRegressor(bootstrap=True, criterion='mse', max_depth=4,\n",
       "           max_features='auto', max_leaf_nodes=None,\n",
       "           min_impurity_split=1e-07, min_samples_leaf=1,\n",
       "           min_samples_split=2, min_weight_fraction_leaf=0.0,\n",
       "           n_estimators=10, n_jobs=1, oob_score=False, random_state=None,\n",
       "           verbose=0, warm_start=False),\n",
       "         learning_rate=1.0, loss='linear', n_estimators=300,\n",
       "         random_state=<mtrand.RandomState object at 0x00000203802110D8>)"
      ]
     },
     "execution_count": 299,
     "metadata": {},
     "output_type": "execute_result"
    }
   ],
   "source": [
    "regr_1.fit(X_train, y_train)\n",
    "regr_2.fit(X_train, y_train)"
   ]
  },
  {
   "cell_type": "code",
   "execution_count": 300,
   "metadata": {
    "collapsed": true
   },
   "outputs": [],
   "source": [
    "y_1 = regr_1.predict(X_test)\n",
    "y_2 = regr_2.predict(X_test)"
   ]
  },
  {
   "cell_type": "code",
   "execution_count": 301,
   "metadata": {},
   "outputs": [
    {
     "name": "stdout",
     "output_type": "stream",
     "text": [
      "18671.544948634164\n"
     ]
    }
   ],
   "source": [
    "print(sqrt(mean_squared_error(y_test, y_2)))"
   ]
  },
  {
   "cell_type": "markdown",
   "metadata": {},
   "source": [
    "### Lasso Regression"
   ]
  },
  {
   "cell_type": "code",
   "execution_count": 344,
   "metadata": {},
   "outputs": [
    {
     "name": "stderr",
     "output_type": "stream",
     "text": [
      "F:\\Anaconda3\\envs\\tensorflow-gpu\\lib\\site-packages\\sklearn\\linear_model\\coordinate_descent.py:484: ConvergenceWarning: Objective did not converge. You might want to increase the number of iterations. Fitting data with very small alpha may cause precision problems.\n",
      "  ConvergenceWarning)\n"
     ]
    },
    {
     "data": {
      "text/plain": [
       "Lasso(alpha=0.1, copy_X=True, fit_intercept=True, max_iter=1000,\n",
       "   normalize=False, positive=False, precompute=False, random_state=None,\n",
       "   selection='cyclic', tol=0.0001, warm_start=False)"
      ]
     },
     "execution_count": 344,
     "metadata": {},
     "output_type": "execute_result"
    }
   ],
   "source": [
    "clf = linear_model.Lasso(alpha=0.1)\n",
    "clf.fit(X_train, y_train)"
   ]
  },
  {
   "cell_type": "code",
   "execution_count": 303,
   "metadata": {},
   "outputs": [
    {
     "name": "stdout",
     "output_type": "stream",
     "text": [
      "17707.451668483256\n"
     ]
    }
   ],
   "source": [
    "print(sqrt(mean_squared_error(y_test, clf.predict(X_test))))"
   ]
  },
  {
   "cell_type": "code",
   "execution_count": 345,
   "metadata": {},
   "outputs": [
    {
     "data": {
      "text/plain": [
       "0.92263457825929196"
      ]
     },
     "execution_count": 345,
     "metadata": {},
     "output_type": "execute_result"
    }
   ],
   "source": [
    "clf.score(X_test, y_test)"
   ]
  },
  {
   "cell_type": "markdown",
   "metadata": {},
   "source": [
    "---"
   ]
  },
  {
   "cell_type": "markdown",
   "metadata": {},
   "source": [
    "# Data visualization"
   ]
  },
  {
   "cell_type": "code",
   "execution_count": 69,
   "metadata": {
    "collapsed": true
   },
   "outputs": [],
   "source": [
    "import warnings\n",
    "warnings.filterwarnings('ignore')"
   ]
  },
  {
   "cell_type": "code",
   "execution_count": 93,
   "metadata": {},
   "outputs": [
    {
     "data": {
      "image/png": "[encoded data removed]",
      "text/plain": [
       "<matplotlib.figure.Figure at 0x1f25a155160>"
      ]
     },
     "metadata": {},
     "output_type": "display_data"
    }
   ],
   "source": [
    "j1 = sns.jointplot(data=processed, x='numberPosts', y='numberLikes')"
   ]
  },
  {
   "cell_type": "code",
   "execution_count": 96,
   "metadata": {},
   "outputs": [
    {
     "data": {
      "image/png": "[encoded data removed]",
      "text/plain": [
       "<matplotlib.figure.Figure at 0x1f264353b70>"
      ]
     },
     "metadata": {},
     "output_type": "display_data"
    }
   ],
   "source": [
    "j1 = sns.jointplot(data=processed, x='numberFollowers', y='numberLikes')"
   ]
  },
  {
   "cell_type": "code",
   "execution_count": 80,
   "metadata": {},
   "outputs": [
    {
     "data": {
      "image/png": "[encoded data removed]",
      "text/plain": [
       "<matplotlib.figure.Figure at 0x1f2281457f0>"
      ]
     },
     "metadata": {},
     "output_type": "display_data"
    }
   ],
   "source": [
    "n1 = plt.hist(processed.numberPosts, bins='auto', histtype='bar')"
   ]
  },
  {
   "cell_type": "code",
   "execution_count": 91,
   "metadata": {},
   "outputs": [
    {
     "data": {
      "image/png": "[encoded data removed]",
      "text/plain": [
       "<matplotlib.figure.Figure at 0x1f2573954e0>"
      ]
     },
     "metadata": {},
     "output_type": "display_data"
    }
   ],
   "source": [
    "n1 = plt.hist(processed.numberPosts, log=True)"
   ]
  },
  {
   "cell_type": "code",
   "execution_count": 81,
   "metadata": {},
   "outputs": [
    {
     "data": {
      "image/png": "[encoded data removed]",
      "text/plain": [
       "<matplotlib.figure.Figure at 0x1f225e67e48>"
      ]
     },
     "metadata": {},
     "output_type": "display_data"
    }
   ],
   "source": [
    "n2 = plt.hist(processed.numberFollowers, bins='auto', histtype='bar')"
   ]
  },
  {
   "cell_type": "code",
   "execution_count": 90,
   "metadata": {},
   "outputs": [
    {
     "data": {
      "image/png": "[encoded data removed]",
      "text/plain": [
       "<matplotlib.figure.Figure at 0x1f255a99160>"
      ]
     },
     "metadata": {},
     "output_type": "display_data"
    }
   ],
   "source": [
    "n2 = plt.hist(processed.numberFollowers, log=True)"
   ]
  },
  {
   "cell_type": "code",
   "execution_count": 82,
   "metadata": {},
   "outputs": [
    {
     "data": {
      "image/png": "[encoded data removed]",
      "text/plain": [
       "<matplotlib.figure.Figure at 0x1f2256fcac8>"
      ]
     },
     "metadata": {},
     "output_type": "display_data"
    }
   ],
   "source": [
    "n3 = plt.hist(processed.numberFollowing, bins='auto', histtype='bar')"
   ]
  },
  {
   "cell_type": "code",
   "execution_count": 92,
   "metadata": {},
   "outputs": [
    {
     "data": {
      "image/png": "[encoded data removed]",
      "text/plain": [
       "<matplotlib.figure.Figure at 0x1f257395518>"
      ]
     },
     "metadata": {},
     "output_type": "display_data"
    }
   ],
   "source": [
    "n3 = plt.hist(processed.numberFollowing, log=True)"
   ]
  },
  {
   "cell_type": "code",
   "execution_count": 83,
   "metadata": {},
   "outputs": [
    {
     "data": {
      "image/png": "[encoded data removed]",
      "text/plain": [
       "<matplotlib.figure.Figure at 0x1f22538fdd8>"
      ]
     },
     "metadata": {},
     "output_type": "display_data"
    }
   ],
   "source": [
    "n4 = plt.hist(processed.numberLikes, bins='auto', histtype='bar')"
   ]
  },
  {
   "cell_type": "code",
   "execution_count": 95,
   "metadata": {},
   "outputs": [
    {
     "data": {
      "image/png": "[encoded data removed]",
      "text/plain": [
       "<matplotlib.figure.Figure at 0x1f2624c1320>"
      ]
     },
     "metadata": {},
     "output_type": "display_data"
    }
   ],
   "source": [
    "n4 = plt.hist(processed.numberLikes, log = True)"
   ]
  },
  {
   "cell_type": "code",
   "execution_count": 97,
   "metadata": {},
   "outputs": [
    {
     "data": {
      "text/plain": [
       "<seaborn.axisgrid.PairGrid at 0x1f26237b978>"
      ]
     },
     "execution_count": 97,
     "metadata": {},
     "output_type": "execute_result"
    },
    {
     "data": {
      "image/png": "[encoded data removed]",
      "text/plain": [
       "<matplotlib.figure.Figure at 0x1f266afca20>"
      ]
     },
     "metadata": {},
     "output_type": "display_data"
    }
   ],
   "source": [
    "user = full[['numberFollowers', 'numberFollowing', 'numberPosts', 'numberLikes']]\n",
    "sns.pairplot(user)"
   ]
  },
  {
   "cell_type": "markdown",
   "metadata": {},
   "source": [
    "# NN"
   ]
  },
  {
   "cell_type": "code",
   "execution_count": 52,
   "metadata": {},
   "outputs": [
    {
     "name": "stderr",
     "output_type": "stream",
     "text": [
      "Using TensorFlow backend.\n"
     ]
    }
   ],
   "source": [
    "import numpy\n",
    "import pandas\n",
    "from keras.models import Sequential\n",
    "from keras.layers import Dense\n",
    "from keras.wrappers.scikit_learn import KerasRegressor\n",
    "from sklearn.model_selection import cross_val_score\n",
    "from sklearn.model_selection import KFold\n",
    "from sklearn.preprocessing import StandardScaler\n",
    "from sklearn.pipeline import Pipeline"
   ]
  },
  {
   "cell_type": "code",
   "execution_count": 53,
   "metadata": {
    "collapsed": true
   },
   "outputs": [],
   "source": [
    "pro = processed"
   ]
  },
  {
   "cell_type": "code",
   "execution_count": 54,
   "metadata": {
    "collapsed": true
   },
   "outputs": [],
   "source": [
    "cols = list(pro.columns.values)"
   ]
  },
  {
   "cell_type": "code",
   "execution_count": 55,
   "metadata": {},
   "outputs": [
    {
     "name": "stdout",
     "output_type": "stream",
     "text": [
      "['numberPosts', 'numberFollowing', 'alias', 'numberFollowers', 'multipleImage', 'numberLikes', 'youtube', 'music', 'tumblr', 'facebook', 'blog', 'twitter', 'other', 'mon', 'tue', 'wed', 'thu', 'fri', 'sat', 'sun', 'numberTags', 'numberMentions']\n"
     ]
    }
   ],
   "source": [
    "print(cols)"
   ]
  },
  {
   "cell_type": "code",
   "execution_count": 56,
   "metadata": {
    "collapsed": true
   },
   "outputs": [],
   "source": [
    "pr = pro[['numberPosts', 'numberFollowing', 'alias', 'numberFollowers', 'multipleImage', 'youtube', 'music', 'tumblr', 'facebook', 'blog', 'twitter', 'other', 'mon', 'tue', 'wed', 'thu', 'fri', 'sat', 'sun', 'numberTags', 'numberMentions', 'numberLikes']]"
   ]
  },
  {
   "cell_type": "code",
   "execution_count": 57,
   "metadata": {
    "collapsed": true
   },
   "outputs": [],
   "source": [
    "dataset = pr.values"
   ]
  },
  {
   "cell_type": "code",
   "execution_count": 58,
   "metadata": {
    "collapsed": true
   },
   "outputs": [],
   "source": [
    "X = dataset[:,0:21]"
   ]
  },
  {
   "cell_type": "code",
   "execution_count": 59,
   "metadata": {
    "collapsed": true
   },
   "outputs": [],
   "source": [
    "Y = dataset[:,21]"
   ]
  },
  {
   "cell_type": "code",
   "execution_count": 60,
   "metadata": {
    "collapsed": true
   },
   "outputs": [],
   "source": [
    "#21\n",
    "\n",
    "#define base model\n",
    "def baseline_model():\n",
    "    # create model\n",
    "    model = Sequential()\n",
    "    model.add(Dense(21, input_dim=21, kernel_initializer='normal', activation='relu'))\n",
    "    model.add(Dense(1, kernel_initializer='normal'))\n",
    "    #Complete model\n",
    "    model.compile(loss='mean_squared_error', optimizer='adam')\n",
    "    return model"
   ]
  },
  {
   "cell_type": "code",
   "execution_count": 297,
   "metadata": {},
   "outputs": [
    {
     "name": "stdout",
     "output_type": "stream",
     "text": [
      "Results: 2256319031.999982 (1802579849.58) MSE\n"
     ]
    }
   ],
   "source": [
    "seed = 7\n",
    "numpy.random.seed(seed)\n",
    "estimator = KerasRegressor(build_fn=baseline_model, nb_epoch = 100, batch_size=5, verbose=0)\n",
    "\n",
    "#evaluate the baseline model. 10-fold cross validation\n",
    "kfold = KFold(n_splits=10, random_state=seed)\n",
    "results = cross_val_score(estimator, X, Y, cv=kfold)\n",
    "print(\"Results: %2f (%.2f) MSE\" % (results.mean(), results.std()))"
   ]
  },
  {
   "cell_type": "code",
   "execution_count": 61,
   "metadata": {
    "collapsed": true
   },
   "outputs": [],
   "source": [
    "# define larger model\n",
    "def larger_model():\n",
    "    #create model\n",
    "    model = Sequential()\n",
    "    model.add(Dense(21, input_dim=21, kernel_initializer='normal', activation='relu'))\n",
    "    model.add(Dense(8, kernel_initializer='normal', activation='relu'))\n",
    "    model.add(Dense(1, kernel_initializer='normal'))\n",
    "    #Compile model\n",
    "    model.compile(loss='mean_squared_error', optimizer='adam')\n",
    "    return model\n",
    "\n",
    "# 21 inputs -> [21 -> 8] -> 1 output"
   ]
  },
  {
   "cell_type": "code",
   "execution_count": 65,
   "metadata": {},
   "outputs": [
    {
     "name": "stderr",
     "output_type": "stream",
     "text": [
      "F:\\Anaconda3\\envs\\tensorflow-gpu\\lib\\site-packages\\sklearn\\utils\\validation.py:429: DataConversionWarning: Data with input dtype int64 was converted to float64 by StandardScaler.\n",
      "  warnings.warn(msg, _DataConversionWarning)\n",
      "F:\\Anaconda3\\envs\\tensorflow-gpu\\lib\\site-packages\\sklearn\\utils\\validation.py:429: DataConversionWarning: Data with input dtype int64 was converted to float64 by StandardScaler.\n",
      "  warnings.warn(msg, _DataConversionWarning)\n",
      "F:\\Anaconda3\\envs\\tensorflow-gpu\\lib\\site-packages\\sklearn\\utils\\validation.py:429: DataConversionWarning: Data with input dtype int64 was converted to float64 by StandardScaler.\n",
      "  warnings.warn(msg, _DataConversionWarning)\n",
      "F:\\Anaconda3\\envs\\tensorflow-gpu\\lib\\site-packages\\sklearn\\utils\\validation.py:429: DataConversionWarning: Data with input dtype int64 was converted to float64 by StandardScaler.\n",
      "  warnings.warn(msg, _DataConversionWarning)\n",
      "F:\\Anaconda3\\envs\\tensorflow-gpu\\lib\\site-packages\\sklearn\\utils\\validation.py:429: DataConversionWarning: Data with input dtype int64 was converted to float64 by StandardScaler.\n",
      "  warnings.warn(msg, _DataConversionWarning)\n",
      "F:\\Anaconda3\\envs\\tensorflow-gpu\\lib\\site-packages\\sklearn\\utils\\validation.py:429: DataConversionWarning: Data with input dtype int64 was converted to float64 by StandardScaler.\n",
      "  warnings.warn(msg, _DataConversionWarning)\n",
      "F:\\Anaconda3\\envs\\tensorflow-gpu\\lib\\site-packages\\sklearn\\utils\\validation.py:429: DataConversionWarning: Data with input dtype int64 was converted to float64 by StandardScaler.\n",
      "  warnings.warn(msg, _DataConversionWarning)\n",
      "F:\\Anaconda3\\envs\\tensorflow-gpu\\lib\\site-packages\\sklearn\\utils\\validation.py:429: DataConversionWarning: Data with input dtype int64 was converted to float64 by StandardScaler.\n",
      "  warnings.warn(msg, _DataConversionWarning)\n",
      "F:\\Anaconda3\\envs\\tensorflow-gpu\\lib\\site-packages\\sklearn\\utils\\validation.py:429: DataConversionWarning: Data with input dtype int64 was converted to float64 by StandardScaler.\n",
      "  warnings.warn(msg, _DataConversionWarning)\n",
      "F:\\Anaconda3\\envs\\tensorflow-gpu\\lib\\site-packages\\sklearn\\utils\\validation.py:429: DataConversionWarning: Data with input dtype int64 was converted to float64 by StandardScaler.\n",
      "  warnings.warn(msg, _DataConversionWarning)\n"
     ]
    },
    {
     "name": "stdout",
     "output_type": "stream",
     "text": [
      "Larger: 2795003169.545209 (2536374719.56) MSE\n"
     ]
    }
   ],
   "source": [
    "numpy.random.seed(7)\n",
    "estimators = []\n",
    "estimators.append(('standardize', StandardScaler()))\n",
    "estimators.append(('mlp', KerasRegressor(build_fn=larger_model, epochs=50, batch_size=5, verbose=0)))\n",
    "pipeline = Pipeline(estimators)\n",
    "kfold = KFold(n_splits=10, random_state=seed)\n",
    "results = cross_val_score(pipeline, X, Y, cv=kfold)\n",
    "print(\"Larger: %2f (%.2f) MSE\" % (results.mean(), results.std()))"
   ]
  },
  {
   "cell_type": "code",
   "execution_count": 63,
   "metadata": {
    "collapsed": true
   },
   "outputs": [],
   "source": [
    "def wider_model():\n",
    "    #create model\n",
    "    model = Sequential()\n",
    "    model.add(Dense(30, input_dim=21, kernel_initializer='normal', activation='relu'))\n",
    "    model.add(Dense(1, kernel_initializer='normal'))\n",
    "    #compile model\n",
    "    model.compile(loss='mean_squared_error', optimizer='adam')\n",
    "    return model\n",
    "\n",
    "# 21 inputs -> [30] -> 1 output"
   ]
  },
  {
   "cell_type": "code",
   "execution_count": 67,
   "metadata": {},
   "outputs": [
    {
     "name": "stderr",
     "output_type": "stream",
     "text": [
      "F:\\Anaconda3\\envs\\tensorflow-gpu\\lib\\site-packages\\sklearn\\utils\\validation.py:429: DataConversionWarning: Data with input dtype int64 was converted to float64 by StandardScaler.\n",
      "  warnings.warn(msg, _DataConversionWarning)\n",
      "F:\\Anaconda3\\envs\\tensorflow-gpu\\lib\\site-packages\\sklearn\\utils\\validation.py:429: DataConversionWarning: Data with input dtype int64 was converted to float64 by StandardScaler.\n",
      "  warnings.warn(msg, _DataConversionWarning)\n",
      "F:\\Anaconda3\\envs\\tensorflow-gpu\\lib\\site-packages\\sklearn\\utils\\validation.py:429: DataConversionWarning: Data with input dtype int64 was converted to float64 by StandardScaler.\n",
      "  warnings.warn(msg, _DataConversionWarning)\n",
      "F:\\Anaconda3\\envs\\tensorflow-gpu\\lib\\site-packages\\sklearn\\utils\\validation.py:429: DataConversionWarning: Data with input dtype int64 was converted to float64 by StandardScaler.\n",
      "  warnings.warn(msg, _DataConversionWarning)\n",
      "F:\\Anaconda3\\envs\\tensorflow-gpu\\lib\\site-packages\\sklearn\\utils\\validation.py:429: DataConversionWarning: Data with input dtype int64 was converted to float64 by StandardScaler.\n",
      "  warnings.warn(msg, _DataConversionWarning)\n",
      "F:\\Anaconda3\\envs\\tensorflow-gpu\\lib\\site-packages\\sklearn\\utils\\validation.py:429: DataConversionWarning: Data with input dtype int64 was converted to float64 by StandardScaler.\n",
      "  warnings.warn(msg, _DataConversionWarning)\n",
      "F:\\Anaconda3\\envs\\tensorflow-gpu\\lib\\site-packages\\sklearn\\utils\\validation.py:429: DataConversionWarning: Data with input dtype int64 was converted to float64 by StandardScaler.\n",
      "  warnings.warn(msg, _DataConversionWarning)\n",
      "F:\\Anaconda3\\envs\\tensorflow-gpu\\lib\\site-packages\\sklearn\\utils\\validation.py:429: DataConversionWarning: Data with input dtype int64 was converted to float64 by StandardScaler.\n",
      "  warnings.warn(msg, _DataConversionWarning)\n",
      "F:\\Anaconda3\\envs\\tensorflow-gpu\\lib\\site-packages\\sklearn\\utils\\validation.py:429: DataConversionWarning: Data with input dtype int64 was converted to float64 by StandardScaler.\n",
      "  warnings.warn(msg, _DataConversionWarning)\n",
      "F:\\Anaconda3\\envs\\tensorflow-gpu\\lib\\site-packages\\sklearn\\utils\\validation.py:429: DataConversionWarning: Data with input dtype int64 was converted to float64 by StandardScaler.\n",
      "  warnings.warn(msg, _DataConversionWarning)\n"
     ]
    },
    {
     "name": "stdout",
     "output_type": "stream",
     "text": [
      "Wider: 2758380933.48 (2221797636.55) MSE\n"
     ]
    }
   ],
   "source": [
    "numpy.random.seed(7)\n",
    "estimators = []\n",
    "estimators.append(('standardize', StandardScaler()))\n",
    "estimators.append(('mlp', KerasRegressor(build_fn=wider_model, epochs=100, batch_size=5, verbose=0)))\n",
    "pipeline = Pipeline(estimators)\n",
    "kfold = KFold(n_splits=10, random_state=seed)\n",
    "results = cross_val_score(pipeline, X, Y, cv=kfold)\n",
    "print(\"Wider: %.2f (%.2f) MSE\" % (results.mean(), results.std()))"
   ]
  }
 ],
 "metadata": {
  "kernelspec": {
   "display_name": "Python 3",
   "language": "python",
   "name": "python3"
  },
  "language_info": {
   "codemirror_mode": {
    "name": "ipython",
    "version": 3
   },
   "file_extension": ".py",
   "mimetype": "text/x-python",
   "name": "python",
   "nbconvert_exporter": "python",
   "pygments_lexer": "ipython3",
   "version": "3.5.2"
  }
 },
 "nbformat": 4,
 "nbformat_minor": 2
}
